{
 "cells": [
  {
   "cell_type": "markdown",
   "id": "mental-recognition",
   "metadata": {
    "slideshow": {
     "slide_type": "slide"
    }
   },
   "source": [
    "# Beginning Programming in Python\n",
    "\n",
    "### Functions\n",
    "#### CSE20 - Spring 2021\n",
    "\n",
    "\n",
    "Interactive Slides: [https://tinyurl.com/cse20-spr21-functions](https://tinyurl.com/cse20-spr21-functions)"
   ]
  },
  {
   "cell_type": "markdown",
   "id": "satisfied-chosen",
   "metadata": {
    "slideshow": {
     "slide_type": "slide"
    }
   },
   "source": [
    "# Functions\n",
    "\n",
    "- Often it's the case that we want to do something repetitively.\n",
    "- When we're working with collections we can use `for` loops\n",
    "- When we're working with some sort of boolean condition we can use `while` loops\n",
    "- For other situations we can use `functions` \n",
    "- Using `functions` can also help organize code into smaller, more manageable, pieces"
   ]
  },
  {
   "cell_type": "markdown",
   "id": "spread-senegal",
   "metadata": {
    "slideshow": {
     "slide_type": "slide"
    }
   },
   "source": [
    "# Functions\n",
    "\n",
    "```python\n",
    "def f1():\n",
    "    # code here\n",
    "    return # something or None\n",
    "def f2(arg1):\n",
    "    # code here\n",
    "    return # something or None\n",
    "def f3(arg1, arg2):\n",
    "    # code here\n",
    "    return # something or None\n",
    "```"
   ]
  },
  {
   "cell_type": "markdown",
   "id": "confirmed-catholic",
   "metadata": {
    "slideshow": {
     "slide_type": "slide"
    }
   },
   "source": [
    "# Functions\n",
    "- Using a function is often called *invoking* or *calling*\n",
    "- You can think of functions as a defined contract, between the code calling the function and the function itself\n",
    "- For example:\n",
    "```python\n",
    "def format_price(price):\n",
    "    return \"${:.2f}\".format(price)\n",
    "````\n",
    "- Can be thought of as *if you give me a `price` I will give you a string version of that price*"
   ]
  },
  {
   "cell_type": "code",
   "execution_count": 3,
   "id": "composed-armenia",
   "metadata": {},
   "outputs": [
    {
     "name": "stdout",
     "output_type": "stream",
     "text": [
      "$ 1.50\n",
      "$ 2.35\n",
      "$ 12.00\n"
     ]
    }
   ],
   "source": [
    "def format_price(price):\n",
    "    return \"$ {:.2f}\".format(price)\n",
    "\n",
    "print(format_price(1.5))\n",
    "print(format_price(2.3543))\n",
    "print(format_price(12.))"
   ]
  },
  {
   "cell_type": "markdown",
   "id": "entertaining-percentage",
   "metadata": {
    "slideshow": {
     "slide_type": "slide"
    }
   },
   "source": [
    "# Functions"
   ]
  },
  {
   "cell_type": "code",
   "execution_count": 5,
   "id": "bound-receipt",
   "metadata": {
    "scrolled": true
   },
   "outputs": [
    {
     "name": "stdout",
     "output_type": "stream",
     "text": [
      "********************\n",
      "* My Great Program! \n",
      "********************\n",
      "Hello!\n",
      "********************\n",
      "* My Great Program! \n",
      "********************\n",
      "None\n"
     ]
    }
   ],
   "source": [
    "def print_welcome_message():\n",
    "    print(\"********************\\n\" \n",
    "        + \"* My Great Program! \\n\"\n",
    "        + \"********************\"\n",
    "     )\n",
    "     # if you don't use a return statement you implicitly\n",
    "     # return None\n",
    "    \n",
    "print_welcome_message()\n",
    "print(\"Hello!\")\n",
    "print(print_welcome_message())"
   ]
  },
  {
   "cell_type": "markdown",
   "id": "controlling-lottery",
   "metadata": {
    "slideshow": {
     "slide_type": "slide"
    }
   },
   "source": [
    "# Functions: Positional Arguments\n",
    "- When functions use positional arguments, the order is important"
   ]
  },
  {
   "cell_type": "code",
   "execution_count": 7,
   "id": "cardiovascular-clark",
   "metadata": {},
   "outputs": [
    {
     "name": "stdout",
     "output_type": "stream",
     "text": [
      "The area is 42\n",
      "The perimeter is 26\n"
     ]
    }
   ],
   "source": [
    "def rectangle_area(length, width):\n",
    "    return length * width\n",
    "\n",
    "def rectangle_perimeter(length, width):\n",
    "    return 2 * (length + width)\n",
    "\n",
    "l, w = 7, 6\n",
    "print(\"The area is\", rectangle_area(l, w))\n",
    "print(\"The perimeter is\", rectangle_perimeter(l, w))"
   ]
  },
  {
   "cell_type": "markdown",
   "id": "engaged-supervision",
   "metadata": {
    "slideshow": {
     "slide_type": "slide"
    }
   },
   "source": [
    "# Functions: [Duck Typing](https://en.wikipedia.org/wiki/Duck_test)\n",
    "\n",
    "\"If it looks like a duck, swims like a duck, and quacks like a duck, then it probably is a duck.\"\n",
    "\n",
    "- Functions are not type enforced in python\n",
    "- You can pass any type to a function which may or may not cause an error\n",
    "- The general practice to advertise the type you want to use and assume its the right one"
   ]
  },
  {
   "cell_type": "code",
   "execution_count": 8,
   "id": "important-chance",
   "metadata": {},
   "outputs": [
    {
     "name": "stdout",
     "output_type": "stream",
     "text": [
      "Hello There\n",
      "6\n"
     ]
    }
   ],
   "source": [
    "def concatenate_two_strings(string1, string2):\n",
    "    return string1 + string2\n",
    "\n",
    "print(concatenate_two_strings(\"Hello\", \" There\"))\n",
    "print(concatenate_two_strings(2, 4))"
   ]
  },
  {
   "cell_type": "markdown",
   "id": "nutritional-voice",
   "metadata": {
    "slideshow": {
     "slide_type": "slide"
    }
   },
   "source": [
    "# Functions with Loops\n",
    "- Just like with conditionals and loops any valid statement can be written into a function, including loops"
   ]
  },
  {
   "cell_type": "code",
   "execution_count": 9,
   "id": "medium-potato",
   "metadata": {},
   "outputs": [
    {
     "name": "stdout",
     "output_type": "stream",
     "text": [
      "Please enter an even number:1\n",
      "Please enter an even number:3\n",
      "Please enter an even number:4\n",
      "4\n"
     ]
    }
   ],
   "source": [
    "def get_user_input():\n",
    "    user_input = int(input(\"Please enter an even number:\"))\n",
    "    while user_input % 2 != 0:\n",
    "        user_input = int(input(\"Please enter an even number:\"))\n",
    "    return user_input    \n",
    "    \n",
    "even_number = get_user_input()\n",
    "print(even_number)"
   ]
  },
  {
   "cell_type": "markdown",
   "id": "laden-pakistan",
   "metadata": {
    "slideshow": {
     "slide_type": "slide"
    }
   },
   "source": [
    "# Variable Scope\n",
    "- We can't assign values to a variable outside of scope unless we use the `global` modifier\n",
    "- We can reference variables declared above the scope of the function"
   ]
  },
  {
   "cell_type": "code",
   "execution_count": 11,
   "id": "durable-cleaning",
   "metadata": {},
   "outputs": [
    {
     "name": "stdout",
     "output_type": "stream",
     "text": [
      "1\n",
      "2\n"
     ]
    }
   ],
   "source": [
    "x = 1\n",
    "\n",
    "def update_x():\n",
    "    global x\n",
    "    x = 2\n",
    "    \n",
    "print(x)\n",
    "update_x()\n",
    "print(x)"
   ]
  },
  {
   "cell_type": "markdown",
   "id": "cooked-storm",
   "metadata": {
    "slideshow": {
     "slide_type": "slide"
    }
   },
   "source": [
    "# Variable Scope\n",
    "- We can modify collection variables that are outside of the local function scope"
   ]
  },
  {
   "cell_type": "code",
   "execution_count": 14,
   "id": "everyday-polyester",
   "metadata": {},
   "outputs": [
    {
     "name": "stdout",
     "output_type": "stream",
     "text": [
      "[1, 2, 3]\n",
      "[1, 2, 3, 5]\n"
     ]
    }
   ],
   "source": [
    "values = [1, 2, 3]\n",
    "\n",
    "def f():\n",
    "    values.append(5)\n",
    "    \n",
    "print(values)\n",
    "f()\n",
    "print(values)"
   ]
  },
  {
   "cell_type": "markdown",
   "id": "institutional-times",
   "metadata": {
    "slideshow": {
     "slide_type": "slide"
    }
   },
   "source": [
    "#  Function Stubbing: `pass`\n",
    "\n",
    "- When planning out a large program a common practice to \"stub\" out functions and then fill them in later"
   ]
  },
  {
   "cell_type": "code",
   "execution_count": 18,
   "id": "actual-indie",
   "metadata": {},
   "outputs": [],
   "source": [
    "def get_user_input():\n",
    "    pass\n",
    "\n",
    "def process_user_input(user_input):\n",
    "    pass\n",
    "\n",
    "def print_output(processed_input):\n",
    "    pass\n",
    "\n",
    "def main():\n",
    "    user_input = get_user_input()\n",
    "    processed_input = process_user_input(user_input)\n",
    "    print_output(processed_input)\n",
    "    \n",
    "main()"
   ]
  },
  {
   "cell_type": "markdown",
   "id": "armed-cancer",
   "metadata": {
    "slideshow": {
     "slide_type": "slide"
    }
   },
   "source": [
    "#  Function Stubbing: `NotImplementedError`\n",
    "- When planning out a large program you can also `raise` a `NotImplementedError`, which will stop the program"
   ]
  },
  {
   "cell_type": "code",
   "execution_count": 22,
   "id": "elder-expression",
   "metadata": {
    "slideshow": {
     "slide_type": "-"
    }
   },
   "outputs": [],
   "source": [
    "def get_user_input():\n",
    "    pass\n",
    "\n",
    "def process_user_input(user_input):\n",
    "    pass\n",
    "\n",
    "def print_output(processed_input):\n",
    "    pass\n",
    "\n",
    "def main():\n",
    "    user_input = get_user_input()\n",
    "    processed_input = process_user_input(user_input)\n",
    "    print_output(processed_input)\n",
    "    \n",
    "main()"
   ]
  },
  {
   "cell_type": "markdown",
   "id": "pacific-guard",
   "metadata": {
    "slideshow": {
     "slide_type": "slide"
    }
   },
   "source": [
    "# What's Due Next?\n",
    "\n",
    "- zybooks Chapter 5 & 6 due May 9th 11:59 PM\n",
    "- Assignment 3 due May 9 11:59 PM"
   ]
  }
 ],
 "metadata": {
  "celltoolbar": "Slideshow",
  "kernelspec": {
   "display_name": "Python 3",
   "language": "python",
   "name": "python3"
  },
  "language_info": {
   "codemirror_mode": {
    "name": "ipython",
    "version": 3
   },
   "file_extension": ".py",
   "mimetype": "text/x-python",
   "name": "python",
   "nbconvert_exporter": "python",
   "pygments_lexer": "ipython3",
   "version": "3.8.8"
  },
  "rise": {
   "autolaunch": true,
   "transition": "none"
  }
 },
 "nbformat": 4,
 "nbformat_minor": 5
}
