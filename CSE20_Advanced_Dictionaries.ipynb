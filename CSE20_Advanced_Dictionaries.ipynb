{
 "cells": [
  {
   "cell_type": "markdown",
   "id": "imperial-color",
   "metadata": {
    "slideshow": {
     "slide_type": "slide"
    }
   },
   "source": [
    "# Beginning Programming in Python\n",
    "\n",
    "### Advanced Dictionaries\n",
    "#### CSE20 - Spring 2021\n",
    "\n",
    "\n",
    "Interactive Slides: [https://tinyurl.com/cse20-spr21-advanced-dictionaries](https://tinyurl.com/cse20-spr21-advanced-dictionaries)"
   ]
  },
  {
   "cell_type": "markdown",
   "id": "alone-scope",
   "metadata": {
    "slideshow": {
     "slide_type": "slide"
    }
   },
   "source": [
    "# Dictionaries\n",
    "\n",
    "- An unordered collection of key/value pairs\n",
    "- Keys can be any hashable type\n",
    "- Values can be any type"
   ]
  },
  {
   "cell_type": "markdown",
   "id": "sufficient-ballet",
   "metadata": {
    "slideshow": {
     "slide_type": "slide"
    }
   },
   "source": [
    "# Dictionary Creation"
   ]
  },
  {
   "cell_type": "code",
   "execution_count": null,
   "id": "dying-archives",
   "metadata": {},
   "outputs": [],
   "source": [
    "a_dict = {\n",
    "    \"one\": 1,\n",
    "    \"two\": 2,\n",
    "}\n",
    "\n",
    "print(a_dict)"
   ]
  },
  {
   "cell_type": "markdown",
   "id": "technical-airport",
   "metadata": {
    "slideshow": {
     "slide_type": "slide"
    }
   },
   "source": [
    "# Dictionary Creation"
   ]
  },
  {
   "cell_type": "code",
   "execution_count": null,
   "id": "theoretical-connecticut",
   "metadata": {},
   "outputs": [],
   "source": [
    "a_dict = dict(\n",
    "    one=1,\n",
    "    two=2\n",
    ")\n",
    "\n",
    "print(a_dict)"
   ]
  },
  {
   "cell_type": "markdown",
   "id": "strong-browser",
   "metadata": {
    "slideshow": {
     "slide_type": "slide"
    }
   },
   "source": [
    "# Dictionary Creation"
   ]
  },
  {
   "cell_type": "code",
   "execution_count": null,
   "id": "amazing-adaptation",
   "metadata": {},
   "outputs": [],
   "source": [
    "a_dict = dict([\n",
    "    (\"one\", 1),\n",
    "    (\"two\", 2)\n",
    "])\n",
    "\n",
    "print(a_dict)"
   ]
  },
  {
   "cell_type": "markdown",
   "id": "intermediate-letter",
   "metadata": {
    "slideshow": {
     "slide_type": "slide"
    }
   },
   "source": [
    "# Editing a Dictionary"
   ]
  },
  {
   "cell_type": "code",
   "execution_count": null,
   "id": "amended-stockholm",
   "metadata": {},
   "outputs": [],
   "source": [
    "a_dict = dict(one=1, two=2)\n",
    "a_dict[\"three\"] = 3\n",
    "print(a_dict)\n",
    "\n",
    "del a_dict[\"one\"]\n",
    "\n",
    "print(a_dict)"
   ]
  },
  {
   "cell_type": "markdown",
   "id": "pleasant-identification",
   "metadata": {
    "slideshow": {
     "slide_type": "slide"
    }
   },
   "source": [
    "# Dictionary Methods\n",
    "- `dict.clear()` removes all key/value pairs from `dict`\n",
    "- `dict.get(key, default)` get the value associated with `key` if it exists, otherwise return `default`\n",
    "- `dict.update(other_dict)` overwrites key/values in `dict` with keys/values from `other_dict` and adds them if they don't exist\n",
    "- `dict.pop(key, default)` gets value associated with `key` and removes `key`, if it doesn't exists return `default` \n",
    "- See more methods in the [Python Documentation](https://docs.python.org/3/library/stdtypes.html#typesmapping)"
   ]
  },
  {
   "cell_type": "markdown",
   "id": "subject-collar",
   "metadata": {
    "slideshow": {
     "slide_type": "slide"
    }
   },
   "source": [
    "# Iterating Through Dictionaries\n",
    "\n",
    "- Use dictionary views to iterate through dictionaries\n",
    "- `dict.keys()` returns a dictionary view of the keys in `dict`\n",
    "- `dict.values()` returns a dictionary view of the values in `dict`\n",
    "- `dict.items()` returns a dictionary view of the (key, value) pairs in `dict`\n"
   ]
  },
  {
   "cell_type": "markdown",
   "id": "saving-crime",
   "metadata": {
    "slideshow": {
     "slide_type": "slide"
    }
   },
   "source": [
    " # Iterating Through Dictionaries"
   ]
  },
  {
   "cell_type": "code",
   "execution_count": null,
   "id": "understanding-wilson",
   "metadata": {},
   "outputs": [],
   "source": [
    "a_dict = dict(a=\"Apple\", b=\"Banana\", c=\"Carrot\")\n",
    "\n",
    "for key in a_dict.keys():\n",
    "    print(key, end=\" \")\n",
    "print()\n",
    "for value in a_dict.values():\n",
    "    print(value, end=\" \")\n",
    "print()\n",
    "for key, value in a_dict.items():\n",
    "    print((key, value), end=\" \")"
   ]
  },
  {
   "cell_type": "markdown",
   "id": "moved-fitting",
   "metadata": {
    "slideshow": {
     "slide_type": "slide"
    }
   },
   "source": [
    "# Dictionary Comprehensions\n",
    "\n",
    "- Dictionary comprehensions are like list comprehensions in form, but use curly braces and set key value pairs\n",
    "\n",
    "```python\n",
    "dict_var = {key:value for key, value in key_value_pairs}\n",
    "dict_var = {key:value for key, value in key_value_pairs if boolean_expression}\n",
    "```"
   ]
  },
  {
   "cell_type": "code",
   "execution_count": null,
   "id": "advance-memorabilia",
   "metadata": {},
   "outputs": [],
   "source": [
    "kvs = [(\"one\", 1), (\"two\", 2), (\"three\", 3), (\"four\", 4)]\n",
    "dict_var = {key:value for key, value in kvs}\n",
    "even_dict_var = {key:value for key, value in kvs if value % 2 == 0}\n",
    "\n",
    "print(dict_var)\n",
    "print(even_dict_var)"
   ]
  },
  {
   "cell_type": "markdown",
   "id": "hydraulic-endorsement",
   "metadata": {
    "slideshow": {
     "slide_type": "slide"
    }
   },
   "source": [
    "# `zip` Function\n",
    "\n",
    "- The `zip()` function iterates over multiple collections simultaneously\n",
    "- If one of the collections is shorter than the others `zip` will go until the shortest one is exhausted"
   ]
  },
  {
   "cell_type": "code",
   "execution_count": null,
   "id": "orange-farmer",
   "metadata": {},
   "outputs": [],
   "source": [
    "fruits = [\"Apple\", \"Banana\", \"Orange\"]\n",
    "prices = [1.00, 2.25, 1.50]\n",
    "\n",
    "for fruit, price in zip(fruits, prices):\n",
    "    print(fruit, price)"
   ]
  },
  {
   "cell_type": "markdown",
   "id": "preceding-bones",
   "metadata": {},
   "source": [
    "# `zip` Function\n",
    "\n",
    "- The zip() function iterates over multiple collections simultaneously\n",
    "- If one of the collections is shorter than the others `zip` will go until the shortest one is exhausted"
   ]
  },
  {
   "cell_type": "code",
   "execution_count": null,
   "id": "continuing-guyana",
   "metadata": {},
   "outputs": [],
   "source": [
    "fruits = [\"Apple\", \"Banana\", \"Orange\"]\n",
    "prices = [1.00, 2.25, 1.50]\n",
    "\n",
    "fruit_prices = {fruit:price for fruit, price in zip(fruits, prices)}\n",
    "print(fruit_prices)"
   ]
  },
  {
   "cell_type": "markdown",
   "id": "higher-theta",
   "metadata": {
    "slideshow": {
     "slide_type": "slide"
    }
   },
   "source": [
    "# What's Due Next?\n",
    "\n",
    "- zybooks Chapters 7&8 due May 16th 11:59 PM\n",
    "- Assignment 4 due May 23rd 11:59 PM"
   ]
  }
 ],
 "metadata": {
  "celltoolbar": "Slideshow",
  "kernelspec": {
   "display_name": "Python 3",
   "language": "python",
   "name": "python3"
  },
  "language_info": {
   "codemirror_mode": {
    "name": "ipython",
    "version": 3
   },
   "file_extension": ".py",
   "mimetype": "text/x-python",
   "name": "python",
   "nbconvert_exporter": "python",
   "pygments_lexer": "ipython3",
   "version": "3.8.8"
  },
  "rise": {
   "autolaunch": true,
   "transition": "none"
  }
 },
 "nbformat": 4,
 "nbformat_minor": 5
}
