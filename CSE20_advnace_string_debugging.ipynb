{
 "cells": [
  {
   "cell_type": "markdown",
   "id": "civil-nelson",
   "metadata": {
    "slideshow": {
     "slide_type": "slide"
    }
   },
   "source": [
    "### Beginning Programming in Python\n",
    "\n",
    "### Advanced String Operations/Debugging\n",
    "#### CSE20 - Spring 2021\n",
    "\n",
    "\n",
    "Interactive Slides: [https://tinyurl.com/cse20-spr21-adv-str-debug](https://tinyurl.com/cse20-spr21-adv-str-debug)"
   ]
  },
  {
   "cell_type": "markdown",
   "id": "checked-bracket",
   "metadata": {
    "slideshow": {
     "slide_type": "slide"
    }
   },
   "source": [
    "# String Slicing\n",
    "\n",
    "- Strings, like lists, can be accessed via slicing\n",
    "- Slicing is done by using square brackets `[start:stop:step]`\n",
    "- The omission of one of the arguments assumes:\n",
    "    - `[:end]` indicates a range of \\[0, end) by ones\n",
    "    - `[start:]` indicates a range of \\[start, length) by ones\n",
    "    - `[::3]` indicates a range of \\[0, length) by threes"
   ]
  },
  {
   "cell_type": "markdown",
   "id": "raised-kruger",
   "metadata": {
    "slideshow": {
     "slide_type": "slide"
    }
   },
   "source": [
    "# String Slicing"
   ]
  },
  {
   "cell_type": "code",
   "execution_count": null,
   "id": "smoking-grave",
   "metadata": {},
   "outputs": [],
   "source": [
    "message = \"Hello there friend\"\n",
    "print(message[:5])\n",
    "print(message[5:])\n",
    "print(message[::5])"
   ]
  },
  {
   "cell_type": "markdown",
   "id": "magnetic-metabolism",
   "metadata": {
    "slideshow": {
     "slide_type": "slide"
    }
   },
   "source": [
    "# Advanced String Formatting\n",
    "\n",
    "- Field width, specified by putting an integer after a colon `{:n}` in a format string\n",
    "- Text alignment, can be left-aligned `{:<n}`, right-aligned `{:>n}`, or centered `{:^n}`"
   ]
  },
  {
   "cell_type": "code",
   "execution_count": null,
   "id": "portable-olympus",
   "metadata": {},
   "outputs": [],
   "source": [
    "print(\"{:16}{:8}\".format(\"Item\", \"Price\"))\n",
    "print(\"-\" * 25)\n",
    "print(\"{:<16}${:<8}\".format(\"Milk\", \"$3.99\"))\n",
    "print(\"{:>16}${:>8}\".format(\"Eggs\", \"$1.99\"))\n",
    "print(\"{:^16}${:^8}\".format(\"Bread\", \"$2.99\"))\n"
   ]
  },
  {
   "cell_type": "markdown",
   "id": "forced-somalia",
   "metadata": {
    "slideshow": {
     "slide_type": "slide"
    }
   },
   "source": [
    "# Keyword Formatting\n",
    "- A keyword can be specified and referenced in a format string by specifying the keyword in the string"
   ]
  },
  {
   "cell_type": "code",
   "execution_count": null,
   "id": "graduate-serve",
   "metadata": {},
   "outputs": [],
   "source": [
    "msg_format = \"{item} costs ${cost}\"\n",
    "print(msg_format.format(item=\"Apple\", cost=3.99))\n",
    "print(msg_format.format(cost=5.99, item=\"Banana\"))"
   ]
  },
  {
   "cell_type": "markdown",
   "id": "related-yacht",
   "metadata": {
    "slideshow": {
     "slide_type": "slide"
    }
   },
   "source": [
    "# Fill Values\n",
    "- Fill values can be placed on the leftside of an alignment character\n",
    "- `{[key]:[fill][<,>,^][field width]}`"
   ]
  },
  {
   "cell_type": "code",
   "execution_count": null,
   "id": "played-drill",
   "metadata": {},
   "outputs": [],
   "source": [
    "name_str = \"{fname:-<15}{lname:-<15}\"\n",
    "print(name_str.format(fname=\"Ryan\", lname=\"Hausen\"))"
   ]
  },
  {
   "cell_type": "markdown",
   "id": "written-measure",
   "metadata": {
    "slideshow": {
     "slide_type": "slide"
    }
   },
   "source": [
    "# Floating-Point Precision\n",
    "\n",
    "- Floating-Point values can be formatted to a decimal precision by specifying the level of precision after a decimal point and followed by an f, `{:.[precision]f}`"
   ]
  },
  {
   "cell_type": "code",
   "execution_count": null,
   "id": "practical-shakespeare",
   "metadata": {},
   "outputs": [],
   "source": [
    "print(\"{:.2f}\".format(12.12343))"
   ]
  },
  {
   "cell_type": "markdown",
   "id": "manufactured-blind",
   "metadata": {
    "slideshow": {
     "slide_type": "slide"
    }
   },
   "source": [
    "# `f` Strings\n",
    "- If you use Python >=3.6, you can use `f` strings which are a way to do literal string interpolation\n",
    "- The format for an `f` string is to put an `f` before the string and then anything between curly braces `{}` get evaluated and the result is placed into the string"
   ]
  },
  {
   "cell_type": "code",
   "execution_count": null,
   "id": "interested-smile",
   "metadata": {},
   "outputs": [],
   "source": [
    "print(f\"2 + 2 = {2+2})\")"
   ]
  },
  {
   "cell_type": "markdown",
   "id": "satisfactory-camping",
   "metadata": {
    "slideshow": {
     "slide_type": "slide"
    }
   },
   "source": [
    "# String Functions\n",
    "\n",
    "- `.find(token)` returns the index of the token if it exits in the string, otherwise `-1`\n",
    "- `.replace(value, replacement)` searches for `value` and replaces it with `replacement`\n",
    "- `.isalnum()` returns `True` if string is letters or numbers\n",
    "- `.isdigit()` returns `True` if all characters are digits\n",
    "- `islower()`/`isupper()` returns `True` if all characters are lower/upper case\n",
    "- See more in the [Python Docs](https://docs.python.org/3/library/stdtypes.html#string-methods)"
   ]
  },
  {
   "cell_type": "markdown",
   "id": "thousand-float",
   "metadata": {
    "slideshow": {
     "slide_type": "slide"
    }
   },
   "source": [
    "# Debugging Your Program\n",
    "\n",
    "- When working on more complex programs it can be hard to know what is going when a program isn't working correctly\n",
    "- Fixing programs that aren't working correctly is called *debugging*\n",
    "- To debug a program we have a few tools\n",
    "    - using `print`\n",
    "    - using `assert`\n",
    "    - using the `pdb` debugger"
   ]
  },
  {
   "cell_type": "markdown",
   "id": "established-pleasure",
   "metadata": {
    "slideshow": {
     "slide_type": "slide"
    }
   },
   "source": [
    "# Debugging: `print` and `assert`"
   ]
  },
  {
   "cell_type": "code",
   "execution_count": null,
   "id": "rotary-patrol",
   "metadata": {},
   "outputs": [],
   "source": [
    "def convert_to_positive(num):\n",
    "    if num < 0:\n",
    "        num = num * -1\n",
    "        \n",
    "    return num\n",
    "\n",
    "print(convert_to_positive(5), convert_to_positive(-5))"
   ]
  },
  {
   "cell_type": "markdown",
   "id": "contained-split",
   "metadata": {
    "slideshow": {
     "slide_type": "slide"
    }
   },
   "source": [
    "# Debugging: The `pdb` Debugger\n",
    "- The `pdb` debugger allows you to run your program line-by-line\n",
    "- To use it you can do one of the following:\n",
    "    - (Python >3.6) \"import\"(more on this in week 8) it and then use the method `.set_trace()`\n",
    "    - (Python >3.7) use the built-in function `breakpoint()`\n",
    "- To move through your program use three commands: \n",
    "    - `next`/`n` to move to the next statement\n",
    "    - `step`/`s` moves into the function being called \n",
    "    - `until`/`unt` to resume execution until a line number"
   ]
  },
  {
   "cell_type": "markdown",
   "id": "elegant-shark",
   "metadata": {
    "slideshow": {
     "slide_type": "slide"
    }
   },
   "source": [
    "# What's Due Next?\n",
    "\n",
    "- zybooks Chapter 5 & 6 due May 9th 11:59 PM\n",
    "- Assignment 3 due May 9 11:59 PM"
   ]
  }
 ],
 "metadata": {
  "celltoolbar": "Slideshow",
  "kernelspec": {
   "display_name": "Python 3",
   "language": "python",
   "name": "python3"
  },
  "language_info": {
   "codemirror_mode": {
    "name": "ipython",
    "version": 3
   },
   "file_extension": ".py",
   "mimetype": "text/x-python",
   "name": "python",
   "nbconvert_exporter": "python",
   "pygments_lexer": "ipython3",
   "version": "3.8.8"
  }
 },
 "nbformat": 4,
 "nbformat_minor": 5
}
