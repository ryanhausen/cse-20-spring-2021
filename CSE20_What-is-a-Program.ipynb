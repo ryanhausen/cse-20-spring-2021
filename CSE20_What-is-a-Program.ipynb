{
 "cells": [
  {
   "cell_type": "markdown",
   "id": "organized-woman",
   "metadata": {
    "slideshow": {
     "slide_type": "notes"
    }
   },
   "source": [
    "The in slides this course are adapted from the excellent CSE20 material by Narges Norouzi\n",
    "\n",
    "See https://cse.slides.com/nargesnorouzi"
   ]
  },
  {
   "cell_type": "markdown",
   "id": "common-holmes",
   "metadata": {
    "slideshow": {
     "slide_type": "slide"
    }
   },
   "source": [
    "# Beginning Programming in Python\n",
    "\n",
    "### What is a Program?\n",
    "#### CSE20 - Spring 2021\n",
    "\n",
    "Interactive Slides: https://tinyurl.com/cse20-spr21-what-is-a-program"
   ]
  },
  {
   "cell_type": "markdown",
   "id": "duplicate-thriller",
   "metadata": {
    "slideshow": {
     "slide_type": "slide"
    }
   },
   "source": [
    "# What is a Program?\n",
    "\n",
    "- Instructables\n",
    "- wikiHow\n",
    "- Cooking Recipe\n",
    "- Sheet Music"
   ]
  },
  {
   "cell_type": "markdown",
   "id": "serial-gazette",
   "metadata": {
    "slideshow": {
     "slide_type": "slide"
    }
   },
   "source": [
    "# What is a Program?\n",
    "\n",
    "- Typically comprised of the following components: Input ➔ Process ➔ Output\n",
    "    - Input: Data into the program\n",
    "        - Keyboard, mouse, file <span style=\"color:blue\">(Recipe Ingredients)</span>            \n",
    "    - Process: work/computations\n",
    "        - Add, subtract, multiply <span style=\"color:blue\">(Mixing/Measuring/Cooking)</span>             \n",
    "    - Output: Data out of the program\n",
    "        - Display, save to file <span style=\"color:blue\">(Cookies!)</span> "
   ]
  },
  {
   "cell_type": "markdown",
   "id": "federal-reunion",
   "metadata": {
    "slideshow": {
     "slide_type": "slide"
    }
   },
   "source": [
    "# What Does a Python Program Look Like?"
   ]
  },
  {
   "cell_type": "code",
   "execution_count": null,
   "id": "legitimate-netherlands",
   "metadata": {},
   "outputs": [],
   "source": [
    "# This is a comment, its for humans only\n",
    "\n",
    "print(\"Hello World!\")\n",
    "print(\"This is a Python program.\")"
   ]
  },
  {
   "cell_type": "markdown",
   "id": "opened-instrumentation",
   "metadata": {
    "slideshow": {
     "slide_type": "slide"
    }
   },
   "source": [
    "# How Do You Execute a Python Program?\n",
    "\n",
    "- Python is considered an *Interpreted Language*\n",
    "    - The Python interpreter reads and executes code one statement at a time\n",
    "- Ways to execute python code:\n",
    "    - IDLE (comes with python), [PyCharm](https://www.jetbrains.com/pycharm/), [VSCode](https://code.visualstudio.com/)\n",
    "    - [Jupyter Notebooks](https://jupyter.org/)/[Google Colab](https://colab.research.google.com/notebooks/intro.ipynb#recent=true) (These slides are running in a Jupyter Notebook)\n",
    "    - Online editors ([RePL.it](https://repl.it/new/python3), [programiz.com](https://www.programiz.com/python-programming/online-compiler/), etc.)\n",
    "    - Python terminal/console interpreter"
   ]
  },
  {
   "cell_type": "markdown",
   "id": "present-arrow",
   "metadata": {
    "slideshow": {
     "slide_type": "slide"
    }
   },
   "source": [
    "# Basic Types\n",
    "\n",
    "| Type      | Description            | Examples              |\n",
    "|-----------|------------------------|-----------------------|\n",
    "| `int`     |        Integers        | -1, 0, 15             |\n",
    "| `float`   | Floating Point Numbers | 1.23, 0.001 1e3, 1e-4 |\n",
    "| `complex` | Complex Numbers        | 1+2j, 3-1j 1+2J, 3-1J |\n",
    "| `bool`    |         Boolean        | True, False           |\n",
    "| `str`     | String (text)          | 'Hello', \"123\"        |"
   ]
  },
  {
   "cell_type": "markdown",
   "id": "advance-tampa",
   "metadata": {
    "slideshow": {
     "slide_type": "slide"
    }
   },
   "source": [
    "# Basic Types\n",
    "\n",
    "`type()` is a way that we can inspect the type of whatever is between the paranthesis"
   ]
  },
  {
   "cell_type": "code",
   "execution_count": null,
   "id": "hollywood-color",
   "metadata": {},
   "outputs": [],
   "source": [
    "print(\"54 is an:\", type(54))\n",
    "\n",
    "print(\"123.34 is a:\", type(123.34))\n",
    "\n",
    "print(\"1+3j is a:\", type(1+3j))\n",
    "\n",
    "print(\"True is a:\", type(True))\n",
    "\n",
    "print(\"'Hello' is a: \", type('Hello'))"
   ]
  },
  {
   "cell_type": "markdown",
   "id": "sapphire-sequence",
   "metadata": {
    "slideshow": {
     "slide_type": "slide"
    }
   },
   "source": [
    "# Strings `str`\n",
    "\n",
    "Strings represent text and can be expressed in many ways:"
   ]
  },
  {
   "cell_type": "code",
   "execution_count": null,
   "id": "quarterly-distinction",
   "metadata": {},
   "outputs": [],
   "source": [
    "print(\"hello\")      # double quotes\n",
    "print('hello')      # sigle quotes\n",
    "print(\"\"\"hello\"\"\")  # triple double quotes\n",
    "print('''hello''')  # triple single quotes"
   ]
  },
  {
   "cell_type": "markdown",
   "id": "generous-spoke",
   "metadata": {
    "slideshow": {
     "slide_type": "slide"
    }
   },
   "source": [
    "# Strings `str`\n",
    "\n",
    "Strings represent text and can be expressed in many ways:"
   ]
  },
  {
   "cell_type": "code",
   "execution_count": null,
   "id": "yellow-reason",
   "metadata": {},
   "outputs": [],
   "source": [
    "print(\"String with double quotes can contain 'single quotes'\")\n",
    "print('String with single quotes can contain \"double quotes\"')\n",
    "print(\"\"\"Triple (single/double) quoted strings can contain\n",
    "         other quotes \"\" '' and span multiple lines.\"\"\" )"
   ]
  },
  {
   "cell_type": "markdown",
   "id": "black-window",
   "metadata": {
    "slideshow": {
     "slide_type": "slide"
    }
   },
   "source": [
    "# Type Conversion"
   ]
  },
  {
   "cell_type": "code",
   "execution_count": null,
   "id": "otherwise-nation",
   "metadata": {},
   "outputs": [],
   "source": [
    "int(\"5\")   # \"5\"   ->   5\n",
    "str(5)     #  5    ->  \"5\"\n",
    "float(5)   #  5    ->   5.0\n",
    "int(5.0)   #  5.0  ->   5\n",
    "complex(4) #  4    ->   4+0j"
   ]
  },
  {
   "cell_type": "markdown",
   "id": "sufficient-settle",
   "metadata": {
    "slideshow": {
     "slide_type": "slide"
    }
   },
   "source": [
    "# Basic Input/Output\n",
    "\n",
    "- `input()` \n",
    "    - Takes input from the user via the keyboard, prompting the user with whatever is between the paranthesis\n",
    "- `print()`\n",
    "    - \"prints\" whatever is between the paranthesis to the terminal"
   ]
  },
  {
   "cell_type": "code",
   "execution_count": null,
   "id": "stupid-armor",
   "metadata": {
    "slideshow": {
     "slide_type": "-"
    }
   },
   "outputs": [],
   "source": [
    "# An example of `input()` and `print()`\n",
    "\n",
    "# Whatever the user types in will be represented by `name`\n",
    "name = input(\"What's your name?\")\n",
    "\n",
    "# we can print it back out \n",
    "print(\"Your name is:\", name)"
   ]
  },
  {
   "cell_type": "markdown",
   "id": "rotary-toolbox",
   "metadata": {
    "slideshow": {
     "slide_type": "slide"
    }
   },
   "source": [
    "# `print()` Examples"
   ]
  },
  {
   "cell_type": "code",
   "execution_count": null,
   "id": "large-brooks",
   "metadata": {},
   "outputs": [],
   "source": [
    "print(2 + 3) \n",
    "\n",
    "print(2 * 3)\n",
    "\n",
    "print(2 / 3)\n",
    "\n",
    "# Putting nothing between the paranthesis\n",
    "# prints a blank line\n",
    "print()\n",
    "\n",
    "print(\"Important Message Here\")"
   ]
  },
  {
   "cell_type": "markdown",
   "id": "indie-mentor",
   "metadata": {
    "slideshow": {
     "slide_type": "slide"
    }
   },
   "source": [
    "# `print()` Examples"
   ]
  },
  {
   "cell_type": "code",
   "execution_count": null,
   "id": "jewish-directive",
   "metadata": {},
   "outputs": [],
   "source": [
    "# multiple expressions can be placed in print\n",
    "# as long as they are separated by a comma\n",
    "print(\"2 + 2 =\", 2 + 2) \n",
    "\n",
    "print(\"Hello\", \"there.\")\n",
    "\n",
    "print(5.0, 5, \"5\", 5+0j, True)"
   ]
  },
  {
   "cell_type": "markdown",
   "id": "scheduled-toddler",
   "metadata": {
    "slideshow": {
     "slide_type": "slide"
    }
   },
   "source": [
    "# `input()` Examples"
   ]
  },
  {
   "cell_type": "code",
   "execution_count": null,
   "id": "abandoned-arthritis",
   "metadata": {},
   "outputs": [],
   "source": [
    "# Whatever the user types in will be represented by `name` \n",
    "name = input(\"What's your name?\")\n",
    "\n",
    "# Whatever the user types in will be represented by `added`\n",
    "added = input(\"What's 2 + 2?\")\n",
    "\n",
    "print(\"Your name is:\", name)\n",
    "print(\"2 + 2 =\", added)"
   ]
  },
  {
   "cell_type": "markdown",
   "id": "hairy-mailing",
   "metadata": {
    "slideshow": {
     "slide_type": "slide"
    }
   },
   "source": [
    "# `input()` Examples"
   ]
  },
  {
   "cell_type": "code",
   "execution_count": null,
   "id": "clean-metro",
   "metadata": {},
   "outputs": [],
   "source": [
    "# Whatever the user types in will be represented by `language`\n",
    "language = input(\"What's your favorite programming language?\")\n",
    "\n",
    "# Whatever the user types in will be represented by `freestyle`\n",
    "# If we don't put anything between the paranthesis, there\n",
    "# won't be anything in the prompt\n",
    "freestyle = input()\n",
    "\n",
    "print(\"Your favorite programming language is:\", language)\n",
    "print(\"Unprompted, you entered:\", freestyle)"
   ]
  },
  {
   "cell_type": "markdown",
   "id": "retired-photography",
   "metadata": {
    "slideshow": {
     "slide_type": "slide"
    }
   },
   "source": [
    "# Errors\n",
    "\n",
    "There are two main kinds of errors in Python\n",
    "- Syntax Errors\n",
    "   - These are errors in how the code is written\n",
    "   - An example of this is a forgetting to add a closing paranthesis after a `print()`\n",
    "   \n",
    "- Runtime Errors\n",
    "    - The code is written in a correct way, but does things that are not allowed\n",
    "    - An example of this is trying to add a string(text) and a number\n",
    "    "
   ]
  },
  {
   "cell_type": "markdown",
   "id": "excess-colony",
   "metadata": {
    "slideshow": {
     "slide_type": "slide"
    }
   },
   "source": [
    "# Errors"
   ]
  },
  {
   "cell_type": "code",
   "execution_count": 2,
   "id": "contrary-positive",
   "metadata": {
    "slideshow": {
     "slide_type": "-"
    }
   },
   "outputs": [
    {
     "name": "stdout",
     "output_type": "stream",
     "text": [
      "Uh oh...\n"
     ]
    }
   ],
   "source": [
    "# Syntax Error\n",
    "# the print function below is missing a parenthesis ')'\n",
    "print(\"Uh oh...\")"
   ]
  },
  {
   "cell_type": "code",
   "execution_count": 4,
   "id": "polar-finger",
   "metadata": {
    "slideshow": {
     "slide_type": "-"
    }
   },
   "outputs": [
    {
     "name": "stdout",
     "output_type": "stream",
     "text": [
      "HelloHello\n"
     ]
    }
   ],
   "source": [
    "# Runtime Error\n",
    "# 2 + \"Hello\" isn't a defined behavior\n",
    "print(\"HelloHello\")"
   ]
  },
  {
   "cell_type": "markdown",
   "id": "human-nashville",
   "metadata": {
    "slideshow": {
     "slide_type": "slide"
    }
   },
   "source": [
    "# I got an error! What do I do now?\n",
    "<center>\n",
    "<img src=\"data:image/png;base64,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\"/>\n",
    "</center>\n"
   ]
  },
  {
   "cell_type": "markdown",
   "id": "severe-makeup",
   "metadata": {
    "slideshow": {
     "slide_type": "slide"
    }
   },
   "source": [
    "# What's Due Next?\n",
    "\n",
    "- zyBooks Chapter 1 due on April 4, 11:59pm PST\n",
    "- Assignment 0 due April 4, 11:59pm PST\n"
   ]
  },
  {
   "cell_type": "markdown",
   "id": "unauthorized-subject",
   "metadata": {
    "slideshow": {
     "slide_type": "slide"
    }
   },
   "source": [
    "# Questions?"
   ]
  }
 ],
 "metadata": {
  "celltoolbar": "Slideshow",
  "kernelspec": {
   "display_name": "Python 3",
   "language": "python",
   "name": "python3"
  },
  "language_info": {
   "codemirror_mode": {
    "name": "ipython",
    "version": 3
   },
   "file_extension": ".py",
   "mimetype": "text/x-python",
   "name": "python",
   "nbconvert_exporter": "python",
   "pygments_lexer": "ipython3",
   "version": "3.8.8"
  },
  "rise": {
   "autolaunch": true,
   "transition": "none"
  }
 },
 "nbformat": 4,
 "nbformat_minor": 5
}
