{
 "cells": [
  {
   "cell_type": "markdown",
   "id": "complimentary-tenant",
   "metadata": {
    "slideshow": {
     "slide_type": "slide"
    }
   },
   "source": [
    "# Beginning Programming in Python\n",
    "\n",
    "### Final Exam Review\n",
    "#### CSE20 - Spring 2021\n",
    "\n",
    "\n",
    "Interactive Slides: [https://tinyurl.com/cse20-spr21-final-review](https://tinyurl.com/cse20-spr21-final-review)"
   ]
  },
  {
   "cell_type": "markdown",
   "id": "alert-highway",
   "metadata": {
    "slideshow": {
     "slide_type": "slide"
    }
   },
   "source": [
    "# Logistics\n",
    "\n",
    "- Wednesday June 9th 12pm on zoom link in canvas\n",
    "- Similar to midterm:\n",
    "    - Cameras should be **on at all times**\n",
    "    - Canvas will record activity\n",
    "    - You can leave the exam to **message instructors only** via \n",
    "      zoom, if you leave the exam and it doesn't correspond to a\n",
    "      message with in zoom the assumption will be that you\n",
    "      are accessing prohibited material. \n",
    "    - If you are caught cheating on the final you will fail the final and the class"
   ]
  },
  {
   "cell_type": "markdown",
   "id": "seven-syria",
   "metadata": {
    "slideshow": {
     "slide_type": "slide"
    }
   },
   "source": [
    "# Incorporating Midterm Feedback\n",
    "\n",
    "- The common notes of feedback on the midterm were the following:\n",
    "    - Making the point values of the questions proportionate to the amount of work the \n",
    "      problem requires. \n",
    "    - Using the IDE doesn't help with the exam and should be allowed.  \n",
    "- Changes from the feedback\n",
    "    - ✓ Questions now have variable point values according to their amount of work\n",
    "    - ❌ using an interpreter will still not be allowed. "
   ]
  },
  {
   "cell_type": "markdown",
   "id": "modular-robert",
   "metadata": {
    "slideshow": {
     "slide_type": "slide"
    }
   },
   "source": [
    "# Topics Covered:\n",
    "- Basic Syntax\n",
    "- Syntax/Run Time Errors\n",
    "- Branching\n",
    "- Collections\n",
    "- Looping\n",
    "- Functions\n",
    "- Strings\n",
    "- Files\n",
    "- Modules\n",
    "- Classes"
   ]
  },
  {
   "cell_type": "markdown",
   "id": "thrown-leone",
   "metadata": {
    "slideshow": {
     "slide_type": "slide"
    }
   },
   "source": [
    "# Basic Syntax\n",
    "- input()\n",
    "- print()\n",
    "- variables\n",
    "- datatypes\n",
    "- syntactically correct expressions/statements"
   ]
  },
  {
   "cell_type": "markdown",
   "id": "demographic-escape",
   "metadata": {
    "slideshow": {
     "slide_type": "slide"
    }
   },
   "source": [
    "# Branching\n",
    "- `if`/`elif`/`else`\n",
    "- boolean expressions\n",
    "- compound boolean expressions"
   ]
  },
  {
   "cell_type": "markdown",
   "id": "virgin-liability",
   "metadata": {
    "slideshow": {
     "slide_type": "slide"
    }
   },
   "source": [
    "# Collections\n",
    "- tuples/lists/dictionaries/sets\n",
    "- methods for all collection types\n",
    "- list comprehensions\n",
    "- dictionary comprehensions"
   ]
  },
  {
   "cell_type": "markdown",
   "id": "challenging-rubber",
   "metadata": {
    "slideshow": {
     "slide_type": "slide"
    }
   },
   "source": [
    "# Looping\n",
    "- `for` loops\n",
    "- `while` loops\n",
    "- loop/else"
   ]
  },
  {
   "cell_type": "markdown",
   "id": "happy-flight",
   "metadata": {
    "slideshow": {
     "slide_type": "slide"
    }
   },
   "source": [
    "# Functions\n",
    "- positional/default/keyword arguments\n",
    "- \\*args/\\*\\*kwargs\n",
    "- `lambda` functions\n",
    "- function signatures\n",
    "- return values"
   ]
  },
  {
   "cell_type": "markdown",
   "id": "accessible-contract",
   "metadata": {
    "slideshow": {
     "slide_type": "slide"
    }
   },
   "source": [
    "# Strings\n",
    "- string methods\n",
    "- string formatting\n",
    "- string interpolation\n",
    "- string concatenation"
   ]
  },
  {
   "cell_type": "markdown",
   "id": "actual-metabolism",
   "metadata": {
    "slideshow": {
     "slide_type": "slide"
    }
   },
   "source": [
    "# Files\n",
    "- reading writing files\n",
    "- `with` statements"
   ]
  },
  {
   "cell_type": "markdown",
   "id": "automated-nigeria",
   "metadata": {
    "slideshow": {
     "slide_type": "slide"
    }
   },
   "source": [
    "# Modules\n",
    "- importing modules\n",
    "- writing your own modules"
   ]
  },
  {
   "cell_type": "markdown",
   "id": "personal-discipline",
   "metadata": {
    "slideshow": {
     "slide_type": "slide"
    }
   },
   "source": [
    "# Classes\n",
    "- instance/class attributes\n",
    "- instance methods\n",
    "- instantiation"
   ]
  },
  {
   "cell_type": "markdown",
   "id": "exterior-identification",
   "metadata": {
    "slideshow": {
     "slide_type": "slide"
    }
   },
   "source": [
    "### Thanks for taking this course!\n",
    "### Don't forget to take the course survey"
   ]
  },
  {
   "cell_type": "markdown",
   "id": "considered-inquiry",
   "metadata": {
    "slideshow": {
     "slide_type": "slide"
    }
   },
   "source": [
    "# What's Due Next?\n",
    "\n",
    "- Assignment 5 due June 6th 11:59 PM"
   ]
  }
 ],
 "metadata": {
  "celltoolbar": "Slideshow",
  "kernelspec": {
   "display_name": "Python 3",
   "language": "python",
   "name": "python3"
  },
  "language_info": {
   "codemirror_mode": {
    "name": "ipython",
    "version": 3
   },
   "file_extension": ".py",
   "mimetype": "text/x-python",
   "name": "python",
   "nbconvert_exporter": "python",
   "pygments_lexer": "ipython3",
   "version": "3.7.10"
  },
  "rise": {
   "autolaunch": true,
   "transition": "none"
  }
 },
 "nbformat": 4,
 "nbformat_minor": 5
}
