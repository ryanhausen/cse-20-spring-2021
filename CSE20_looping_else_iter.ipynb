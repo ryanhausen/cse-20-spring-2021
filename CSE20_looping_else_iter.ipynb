{
 "cells": [
  {
   "cell_type": "markdown",
   "id": "decent-lighting",
   "metadata": {
    "slideshow": {
     "slide_type": "slide"
    }
   },
   "source": [
    "# Beginning Programming in Python\n",
    "\n",
    "### Loop `else`/`reversed()`, `enumerate()`, `sorted()`\n",
    "#### CSE20 - Spring 2021\n",
    "\n",
    "\n",
    "Interactive Slides: [https://tinyurl.com/cse20-spr21-looping-else-iter](https://tinyurl.com/cse20-spr21-looping-else-iter)"
   ]
  },
  {
   "cell_type": "markdown",
   "id": "split-paraguay",
   "metadata": {
    "slideshow": {
     "slide_type": "slide"
    }
   },
   "source": [
    "# Looping\n",
    "\n",
    "- Often in programming we want to perform similar actions repetitively.\n",
    "- The amount of times that we perform the action can be based on a logical condition(`while` loops), it can also be based on the elements in a collection(`for` loops)."
   ]
  },
  {
   "cell_type": "markdown",
   "id": "second-grant",
   "metadata": {
    "slideshow": {
     "slide_type": "slide"
    }
   },
   "source": [
    "# Loop `else`\n",
    "\n",
    "- Loops can optionally have an `else` statement that executes only if the loop executes and exits normally\n",
    "\n",
    "```python\n",
    "while [bool condition]:\n",
    "    # some code\n",
    "else:\n",
    "    # some code\n",
    "```"
   ]
  },
  {
   "cell_type": "markdown",
   "id": "genuine-crazy",
   "metadata": {
    "slideshow": {
     "slide_type": "slide"
    }
   },
   "source": [
    "# Loop `else`"
   ]
  },
  {
   "cell_type": "code",
   "execution_count": 2,
   "id": "protected-nickname",
   "metadata": {
    "scrolled": true
   },
   "outputs": [
    {
     "name": "stdout",
     "output_type": "stream",
     "text": [
      "0\n",
      "1\n",
      "2\n",
      "3\n",
      "4\n",
      "All done!\n"
     ]
    }
   ],
   "source": [
    "i, max_val = 0, 5\n",
    "while i < max_val:\n",
    "    print(i)\n",
    "    i += 1\n",
    "else:\n",
    "    print(\"All done!\")"
   ]
  },
  {
   "cell_type": "markdown",
   "id": "renewable-identity",
   "metadata": {
    "slideshow": {
     "slide_type": "slide"
    }
   },
   "source": [
    "# Loop `else`"
   ]
  },
  {
   "cell_type": "code",
   "execution_count": 4,
   "id": "operating-coverage",
   "metadata": {
    "scrolled": true
   },
   "outputs": [
    {
     "name": "stdout",
     "output_type": "stream",
     "text": [
      "The total is: 30\n"
     ]
    }
   ],
   "source": [
    "values = [2, 4, 6, 8, 10]\n",
    "\n",
    "total = 0\n",
    "for value in values:\n",
    "    if value % 2 == 1:\n",
    "        break\n",
    "    total += value\n",
    "else:\n",
    "    print(\"The total is:\", total)"
   ]
  },
  {
   "cell_type": "markdown",
   "id": "celtic-maldives",
   "metadata": {
    "slideshow": {
     "slide_type": "slide"
    }
   },
   "source": [
    "# Built-in Iterators `reversed()`, `enumerate()`\n",
    "\n",
    "- `reversed()` and  `enumerate()`are iterators which like, `range()`, aren't a typical collection. They are intended to be used in loops or loop-like code blocks\n",
    "- `reversed()` will return the collection between the parenthesis in reverse order\n",
    "- `enumerate()` will return a collection in the original order, but with an additional counter"
   ]
  },
  {
   "cell_type": "markdown",
   "id": "monetary-breakfast",
   "metadata": {
    "slideshow": {
     "slide_type": "slide"
    }
   },
   "source": [
    "# Built-In Iterators: `reversed()` "
   ]
  },
  {
   "cell_type": "code",
   "execution_count": 6,
   "id": "prostate-celtic",
   "metadata": {
    "scrolled": true
   },
   "outputs": [
    {
     "name": "stdout",
     "output_type": "stream",
     "text": [
      "<list_reverseiterator object at 0x7f1048299dc0>\n",
      "5 4 3 2 1 "
     ]
    }
   ],
   "source": [
    "values = [1, 2, 3, 4, 5]\n",
    "\n",
    "reversed_values = reversed(values)\n",
    "print(reversed_values)\n",
    "for value in reversed_values:\n",
    "    print(value, end=\" \")"
   ]
  },
  {
   "cell_type": "markdown",
   "id": "noted-wallace",
   "metadata": {
    "slideshow": {
     "slide_type": "slide"
    }
   },
   "source": [
    "# Built-In Iterators: `reversed()` "
   ]
  },
  {
   "cell_type": "code",
   "execution_count": 15,
   "id": "martial-current",
   "metadata": {},
   "outputs": [
    {
     "name": "stdout",
     "output_type": "stream",
     "text": [
      "<reversed object at 0x7f10481dcbb0>\n",
      "tdimhcS remiehelgniJ bocaJ nhoJ"
     ]
    }
   ],
   "source": [
    "name = \"John Jacob Jingleheimer Schmidt\"\n",
    "\n",
    "reversed_name = reversed(name)\n",
    "print(reversed_name)\n",
    "for character in reversed_name:\n",
    "    print(character, end=\"\")"
   ]
  },
  {
   "cell_type": "markdown",
   "id": "featured-space",
   "metadata": {
    "slideshow": {
     "slide_type": "slide"
    }
   },
   "source": [
    "# Built-In Iterators: `enumerate()` "
   ]
  },
  {
   "cell_type": "code",
   "execution_count": 14,
   "id": "severe-american",
   "metadata": {},
   "outputs": [
    {
     "name": "stdout",
     "output_type": "stream",
     "text": [
      "<enumerate object at 0x7f10481e0200>\n",
      "(0, 'hello') (1, 'there') (2, 'friend') "
     ]
    }
   ],
   "source": [
    "values = [\"hello\", \"there\", \"friend\"]\n",
    "\n",
    "enumerated_values = enumerate(values)\n",
    "print(enumerated_values)\n",
    "for value in enumerated_values:\n",
    "    print(value, end = \" \")"
   ]
  },
  {
   "cell_type": "markdown",
   "id": "union-holiday",
   "metadata": {
    "slideshow": {
     "slide_type": "slide"
    }
   },
   "source": [
    "# Built-In Function: `sorted()` \n",
    "- `sorted()` will return a the collection in ascending order\n",
    "- Optionally you use use `reverse=True` to get the list in descending order"
   ]
  },
  {
   "cell_type": "code",
   "execution_count": 16,
   "id": "hindu-disaster",
   "metadata": {},
   "outputs": [
    {
     "name": "stdout",
     "output_type": "stream",
     "text": [
      "[-45, 0, 1, 2, 5, 7]\n",
      "[7, 5, 2, 1, 0, -45]\n"
     ]
    }
   ],
   "source": [
    "values = [2, 5, 7, 1, 0, -45]\n",
    "\n",
    "sorted_values_acending = sorted(values)\n",
    "print(sorted_values_acending)\n",
    "sorted_values_descending = sorted(values, reverse=True)\n",
    "print(sorted_values_descending)"
   ]
  },
  {
   "cell_type": "markdown",
   "id": "solved-latter",
   "metadata": {
    "slideshow": {
     "slide_type": "slide"
    }
   },
   "source": [
    "# Slug Money: A Program To Track Your Finances\n",
    "\n",
    "<center>\n",
    "<img src=\"data:image/png;base64,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\"><img />\n",
    "<center/>\n"
   ]
  },
  {
   "cell_type": "markdown",
   "id": "moral-wilson",
   "metadata": {
    "slideshow": {
     "slide_type": "slide"
    }
   },
   "source": [
    "### Where we are now\n",
    "- Ask for a current balance and a two transactions\n",
    "- Calculate new balance\n",
    "- Ask the user for a transaction type\n",
    "- Add input validation\n",
    "\n",
    "### What we can add using this week's techniques\n",
    "- Store any number of transactions\n",
    "- Infinitely validate user input"
   ]
  },
  {
   "cell_type": "code",
   "execution_count": null,
   "id": "fitted-nepal",
   "metadata": {
    "slideshow": {
     "slide_type": "slide"
    }
   },
   "outputs": [],
   "source": [
    "transactions = {\n",
    "    \"w\": [],\n",
    "    \"d\": []\n",
    "}\n",
    "\n",
    "print(\"Welcome To Slug Money\")\n",
    "current_balance = float(input(\"Enter your balance: $\"))\n",
    "\n",
    "# =======================================================\n",
    "# Ask for a transaction type/amount and append\n",
    "# =======================================================\n",
    "t_type = input(\"Enter transaction type(d/w):\")\n",
    "transaction_amount = float(input(\"Enter a transaction amount: $\"))\n",
    "if transaction_amount <=0:\n",
    "    transaction_amount  = float(input(\"Please enter strictly positive values: $\"))\n",
    "\n",
    "transactions[t_type].append(transaction_amount)\n",
    "    \n",
    "# update balance\n",
    "if t_type == \"d\":\n",
    "    new_balance = current_balance + transaction_amount\n",
    "else:\n",
    "    new_balance = current_balance - transaction_amount\n",
    "\n",
    "\n",
    "# =======================================================\n",
    "# Ask for a transaction type/amount\n",
    "# =======================================================\n",
    "t_type = input(\"Enter transaction type(d/w):\")\n",
    "transaction_amount = float(input(\"Enter a transaction amount: $\"))\n",
    "if transaction_amount <=0:\n",
    "    transaction_amount  = float(input(\"Please enter strictly positive values: $\"))\n",
    "\n",
    "transactions[t_type].append(transaction_amount)\n",
    "\n",
    "# update balance\n",
    "if t_type == \"d\":\n",
    "    new_balance = new_balance + transaction_amount\n",
    "else:\n",
    "    new_balance = new_balance - transaction_amount\n",
    "\n",
    "print()\n",
    "print(\"Your starting balance was: $\", current_balance)\n",
    "\n",
    "transaction_str = \"You had a {} worth: ${}\"\n",
    "if len(transactions[\"w\"]) > 0:\n",
    "    print(transaction_str.format(\"withdrawal\", transactions[\"w\"].pop()))\n",
    "if len(transactions[\"w\"]) > 0:\n",
    "    print(transaction_str.format(\"withdrawal\", transactions[\"w\"].pop()))\n",
    "\n",
    "if len(transactions[\"d\"]) > 0:\n",
    "    print(transaction_str.format(\"deposit\", transactions[\"d\"].pop()))\n",
    "if len(transactions[\"d\"]) > 0:\n",
    "    print(transaction_str.format(\"deposit\", transactions[\"d\"].pop()))\n",
    "\n",
    "    \n",
    "print(\"Your ending balance is: $\", new_balance)\n",
    "\n",
    "print(\"Thanks for using Slug Money!\")"
   ]
  },
  {
   "cell_type": "markdown",
   "id": "fifteen-substitute",
   "metadata": {
    "slideshow": {
     "slide_type": "slide"
    }
   },
   "source": [
    "# What's Due Next?\n",
    "\n",
    "- zyBooks Chapter 4 due on April 25, 11:59pm\n",
    "- Assignment 2 due April 25, 11:59pm\n"
   ]
  },
  {
   "cell_type": "markdown",
   "id": "early-smoke",
   "metadata": {
    "slideshow": {
     "slide_type": "slide"
    }
   },
   "source": [
    "# Assignment 2 Questions/Help"
   ]
  }
 ],
 "metadata": {
  "celltoolbar": "Slideshow",
  "kernelspec": {
   "display_name": "Python 3",
   "language": "python",
   "name": "python3"
  },
  "language_info": {
   "codemirror_mode": {
    "name": "ipython",
    "version": 3
   },
   "file_extension": ".py",
   "mimetype": "text/x-python",
   "name": "python",
   "nbconvert_exporter": "python",
   "pygments_lexer": "ipython3",
   "version": "3.8.8"
  },
  "rise": {
   "autolaunch": true,
   "transition": "none"
  }
 },
 "nbformat": 4,
 "nbformat_minor": 5
}
