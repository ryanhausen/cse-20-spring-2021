{
 "cells": [
  {
   "cell_type": "markdown",
   "id": "based-coupon",
   "metadata": {
    "slideshow": {
     "slide_type": "slide"
    }
   },
   "source": [
    "# Beginning Programming in Python\n",
    "\n",
    "### Supplemental Topics: Plotting\n",
    "#### CSE20 - Spring 2021\n",
    "\n",
    "\n",
    "Interactive Slides: [https://tinyurl.com/cse20-spr21-plotting](https://tinyurl.com/cse20-spr21-plotting)"
   ]
  },
  {
   "cell_type": "markdown",
   "id": "correct-reason",
   "metadata": {
    "slideshow": {
     "slide_type": "slide"
    }
   },
   "source": [
    "# Plotting\n",
    "\n",
    "### This material will not be on the final, however it is a helpful tool if you are working with data in any way.\n"
   ]
  },
  {
   "cell_type": "markdown",
   "id": "painful-northern",
   "metadata": {
    "slideshow": {
     "slide_type": "slide"
    }
   },
   "source": [
    "# The `matplotlib` package\n",
    "\n",
    "- The `matplotlib` package can be used to make a variety of different plots. For example:\n",
    "    - Line plots\n",
    "    - Bar charts\n",
    "    - Histograms\n",
    "    - and more\n",
    " \n",
    " More information and examples can be found on the website: https://matplotlib.org/"
   ]
  },
  {
   "cell_type": "markdown",
   "id": "ordinary-gilbert",
   "metadata": {
    "slideshow": {
     "slide_type": "slide"
    }
   },
   "source": [
    "# Installation\n",
    "\n",
    "- `matplotlib` can be installed using wither `pip` or `conda`\n",
    "\n",
    "Run the cell below to install `matplotlib` and import the module we will be using"
   ]
  },
  {
   "cell_type": "code",
   "execution_count": null,
   "id": "czech-contributor",
   "metadata": {},
   "outputs": [],
   "source": [
    "!pip install matplotlib\n",
    "import matplotlib.pyplot as plt"
   ]
  },
  {
   "cell_type": "markdown",
   "id": "revolutionary-pierce",
   "metadata": {
    "slideshow": {
     "slide_type": "slide"
    }
   },
   "source": [
    "# Example: Line Plot"
   ]
  },
  {
   "cell_type": "code",
   "execution_count": null,
   "id": "israeli-columbia",
   "metadata": {
    "scrolled": true
   },
   "outputs": [],
   "source": [
    "xs = [0, 1, 2, 3, 4]\n",
    "ys = [1, 2, 1, 3, 5]\n",
    "\n",
    "plt.figure()\n",
    "plt.plot(xs, ys)\n",
    "plt.show()"
   ]
  },
  {
   "cell_type": "markdown",
   "id": "known-character",
   "metadata": {
    "slideshow": {
     "slide_type": "slide"
    }
   },
   "source": [
    "# Example: Line Plot Customizations"
   ]
  },
  {
   "cell_type": "code",
   "execution_count": null,
   "id": "bright-island",
   "metadata": {},
   "outputs": [],
   "source": [
    "xs = [0, 1,   2,   3,   4, 5]\n",
    "ys = [1, 2.2, 1.1, 3.5, 5, 6]\n",
    "\n",
    "plt.figure()\n",
    "plt.plot(xs, ys, color=\"red\", label=\"loss\")\n",
    "plt.plot(xs, ys[::-1], \"--\", color=\"green\", label=\"profit\")\n",
    "plt.legend()\n",
    "plt.show()"
   ]
  },
  {
   "cell_type": "markdown",
   "id": "atlantic-cooperative",
   "metadata": {
    "slideshow": {
     "slide_type": "slide"
    }
   },
   "source": [
    "# Example: Histogram"
   ]
  },
  {
   "cell_type": "code",
   "execution_count": null,
   "id": "9e4bf0e5",
   "metadata": {},
   "outputs": [],
   "source": [
    "import random\n",
    "\n",
    "data = [random.randint(0, 10) for _ in range(int(50))]\n",
    "\n",
    "plt.figure()\n",
    "plt.hist(data)\n",
    "plt.xlabel(\"X-Values\")\n",
    "plt.ylabel(\"Counts\")\n",
    "plt.show()"
   ]
  },
  {
   "cell_type": "markdown",
   "id": "asian-advantage",
   "metadata": {
    "slideshow": {
     "slide_type": "slide"
    }
   },
   "source": [
    "# Example: Bar Chart"
   ]
  },
  {
   "cell_type": "code",
   "execution_count": null,
   "id": "4d020c54",
   "metadata": {},
   "outputs": [],
   "source": [
    "data =       [12,  15,   8,  20,  45]\n",
    "categories = [\"A\", \"B\", \"C\", \"D\", \"E\"]\n",
    "\n",
    "plt.figure()\n",
    "plt.bar(range(len(data)), data, color=\"r\")\n",
    "#plt.bar([1, 3, 5, 7, 9], data, color=\"r\")\n",
    "#plt.xticks(range(len(data)), categories)\n",
    "plt.show()"
   ]
  },
  {
   "cell_type": "markdown",
   "id": "25e8932e",
   "metadata": {
    "slideshow": {
     "slide_type": "slide"
    }
   },
   "source": [
    "# Example: Scatterplot"
   ]
  },
  {
   "cell_type": "code",
   "execution_count": null,
   "id": "3a9a48cb",
   "metadata": {},
   "outputs": [],
   "source": [
    "xs = [3, 5, 4,  2, 7]\n",
    "ys = [1, 8, 7, -5, 3]\n",
    "zs = [0, 1, 2,  2, 4]\n",
    "\n",
    "plt.figure()\n",
    "plt.scatter(xs, ys)\n",
    "#plt.scatter(xs, ys, c=zs)\n",
    "#plt.colorbar()\n",
    "plt.show()"
   ]
  },
  {
   "cell_type": "markdown",
   "id": "afraid-cincinnati",
   "metadata": {
    "slideshow": {
     "slide_type": "slide"
    }
   },
   "source": [
    "# Example: Image"
   ]
  },
  {
   "cell_type": "code",
   "execution_count": null,
   "id": "2276ac19",
   "metadata": {},
   "outputs": [],
   "source": [
    "data_2d = [\n",
    "    [0, 13, 5],\n",
    "    [4, 5,  3],\n",
    "    [2, 22, 4],\n",
    "]\n",
    "\n",
    "plt.figure()\n",
    "plt.imshow(data_2d)\n",
    "#plt.colorbar()\n",
    "plt.show()"
   ]
  },
  {
   "cell_type": "markdown",
   "id": "967c8397",
   "metadata": {
    "slideshow": {
     "slide_type": "slide"
    }
   },
   "source": [
    "# What's Due Next?\n",
    "\n",
    "- Assignment 5 due June 6th 11:59 PM"
   ]
  }
 ],
 "metadata": {
  "celltoolbar": "Slideshow",
  "kernelspec": {
   "display_name": "Python 3",
   "language": "python",
   "name": "python3"
  },
  "language_info": {
   "codemirror_mode": {
    "name": "ipython",
    "version": 3
   },
   "file_extension": ".py",
   "mimetype": "text/x-python",
   "name": "python",
   "nbconvert_exporter": "python",
   "pygments_lexer": "ipython3",
   "version": "3.8.8"
  },
  "rise": {
   "autolaunch": true,
   "transition": "none"
  }
 },
 "nbformat": 4,
 "nbformat_minor": 5
}
