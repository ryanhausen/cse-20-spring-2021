{
 "cells": [
  {
   "cell_type": "markdown",
   "id": "based-coupon",
   "metadata": {
    "slideshow": {
     "slide_type": "slide"
    }
   },
   "source": [
    "# Beginning Programming in Python\n",
    "\n",
    "### Supplemental Topics: Plotting\n",
    "#### CSE20 - Spring 2021\n",
    "\n",
    "\n",
    "Interactive Slides: [https://tinyurl.com/cse20-spr21-oop3](https://tinyurl.com/cse20-spr21-oop3)"
   ]
  },
  {
   "cell_type": "markdown",
   "id": "correct-reason",
   "metadata": {
    "slideshow": {
     "slide_type": "slide"
    }
   },
   "source": [
    "# Plotting\n",
    "\n",
    "### This material will not be on the final, however it is a helpful tool if you are working with data in any way."
   ]
  },
  {
   "cell_type": "markdown",
   "id": "painful-northern",
   "metadata": {
    "slideshow": {
     "slide_type": "slide"
    }
   },
   "source": [
    "# The `matplotlib` package\n",
    "\n",
    "- The `matplotlib` package can be used to make a variety of different plots. For example:\n",
    "    - Line plots\n",
    "    - Bar charts\n",
    "    - Histograms\n",
    "    - and more\n",
    " \n",
    " More information and examples can be found on the website: https://matplotlib.org/"
   ]
  },
  {
   "cell_type": "markdown",
   "id": "ordinary-gilbert",
   "metadata": {
    "slideshow": {
     "slide_type": "slide"
    }
   },
   "source": [
    "# Installation\n",
    "\n",
    "- `matplotlib` can be installed using wither `pip` or `conda`\n",
    "\n",
    "If you're running this in the interactive notebook run the cell below"
   ]
  },
  {
   "cell_type": "code",
   "execution_count": null,
   "id": "czech-contributor",
   "metadata": {},
   "outputs": [],
   "source": [
    "!pip install matplotlib "
   ]
  },
  {
   "cell_type": "code",
   "execution_count": null,
   "id": "nuclear-recycling",
   "metadata": {},
   "outputs": [],
   "source": [
    "import matplotlib.pyplot as plt"
   ]
  },
  {
   "cell_type": "markdown",
   "id": "revolutionary-pierce",
   "metadata": {
    "slideshow": {
     "slide_type": "slide"
    }
   },
   "source": [
    "# Example: Line Plot"
   ]
  },
  {
   "cell_type": "code",
   "execution_count": null,
   "id": "israeli-columbia",
   "metadata": {
    "scrolled": true
   },
   "outputs": [],
   "source": [
    "xs = [0, 1, 2, 3, 4]\n",
    "ys = [1, 2, 1, 3, 5]\n",
    "\n",
    "plt.figure()\n",
    "plt.plot(xs, ys)\n",
    "plt.show()"
   ]
  },
  {
   "cell_type": "markdown",
   "id": "known-character",
   "metadata": {
    "slideshow": {
     "slide_type": "slide"
    }
   },
   "source": [
    "# Example: Line Plot Customizations"
   ]
  },
  {
   "cell_type": "code",
   "execution_count": null,
   "id": "bright-island",
   "metadata": {},
   "outputs": [],
   "source": [
    "xs = [0, 1,   2,   3,   4, 5]\n",
    "ys = [1, 2.2, 1.1, 3.5, 5, 6]\n",
    "\n",
    "plt.figure()\n",
    "plt.plot(xs, ys, color=\"red\", label=\"profit\")\n",
    "plt.plot(xs, ys[::-1], \"--\", color=\"green\", label=\"loss\")\n",
    "plt.legend()\n",
    "plt.show()"
   ]
  },
  {
   "cell_type": "markdown",
   "id": "atlantic-cooperative",
   "metadata": {
    "slideshow": {
     "slide_type": "slide"
    }
   },
   "source": [
    "# Example: Histogram"
   ]
  },
  {
   "cell_type": "markdown",
   "id": "asian-advantage",
   "metadata": {
    "slideshow": {
     "slide_type": "slide"
    }
   },
   "source": [
    "# Example: Bar Chart"
   ]
  },
  {
   "cell_type": "markdown",
   "id": "afraid-cincinnati",
   "metadata": {
    "slideshow": {
     "slide_type": "slide"
    }
   },
   "source": [
    "# Example: Image"
   ]
  }
 ],
 "metadata": {
  "celltoolbar": "Slideshow",
  "kernelspec": {
   "display_name": "Python 3",
   "language": "python",
   "name": "python3"
  },
  "language_info": {
   "codemirror_mode": {
    "name": "ipython",
    "version": 3
   },
   "file_extension": ".py",
   "mimetype": "text/x-python",
   "name": "python",
   "nbconvert_exporter": "python",
   "pygments_lexer": "ipython3",
   "version": "3.8.8"
  },
  "rise": {
   "autolaunch": true,
   "transition": "none"
  }
 },
 "nbformat": 4,
 "nbformat_minor": 5
}
