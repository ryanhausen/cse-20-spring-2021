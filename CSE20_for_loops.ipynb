{
 "cells": [
  {
   "cell_type": "markdown",
   "id": "derived-spirit",
   "metadata": {
    "slideshow": {
     "slide_type": "slide"
    }
   },
   "source": [
    "# Beginning Programming in Python\n",
    "\n",
    "### Looping Basic/For Loops\n",
    "#### CSE20 - Spring 2021\n",
    "\n",
    "\n",
    "Interactive Slides: [https://tinyurl.com/cse20-spr21-looping-for](https://tinyurl.com/cse20-spr21-looping-for)"
   ]
  },
  {
   "cell_type": "markdown",
   "id": "dressed-movement",
   "metadata": {
    "slideshow": {
     "slide_type": "slide"
    }
   },
   "source": [
    "# Looping\n",
    "\n",
    "- Often in programming we want to perform similar actions repetitively.\n",
    "- The amount of times that we perform the action can be based on a logical condition(`while` loops), it can also be based on the elements in a collection(`for` loops)."
   ]
  },
  {
   "cell_type": "markdown",
   "id": "prime-passport",
   "metadata": {
    "slideshow": {
     "slide_type": "slide"
    }
   },
   "source": [
    "# The `for` Loop\n",
    "\n",
    "- The `for` loop is commonly used to perform the same action on multiple items in a collection\n",
    "- The example below prints every value in the variable `collection_variable`\n",
    "\n",
    "```python\n",
    "for [single_element_variable] in [collection_variable]:\n",
    "    print(single_element_variable)\n",
    "```"
   ]
  },
  {
   "cell_type": "markdown",
   "id": "static-british",
   "metadata": {
    "slideshow": {
     "slide_type": "slide"
    }
   },
   "source": [
    "# `for` Loop Example"
   ]
  },
  {
   "cell_type": "code",
   "execution_count": null,
   "id": "formal-jimmy",
   "metadata": {},
   "outputs": [],
   "source": [
    "values = [4, 8, 15, 16, 23, 42]\n",
    "\n",
    "for value in values:\n",
    "    if value % 2 == 0:\n",
    "        print(value, \"is even.\")\n",
    "    else:\n",
    "        print(value, \"is odd.\")"
   ]
  },
  {
   "cell_type": "markdown",
   "id": "biological-democrat",
   "metadata": {
    "slideshow": {
     "slide_type": "slide"
    }
   },
   "source": [
    "# `for` Loop Example"
   ]
  },
  {
   "cell_type": "code",
   "execution_count": null,
   "id": "median-camcorder",
   "metadata": {},
   "outputs": [],
   "source": [
    "values = [4, 8.0, \"15\", \"16\", 23.0, 42]\n",
    "\n",
    "for value in values:\n",
    "    if type(value)==int:\n",
    "        print(value, \"is an int.\")\n",
    "    elif type(value)==float:\n",
    "        print(value, \"is a float.\")\n",
    "    elif type(value)==str:\n",
    "        print(value, \"is a string.\")\n",
    "    else:\n",
    "        print(value, \"is not a recognized type\")"
   ]
  },
  {
   "cell_type": "markdown",
   "id": "antique-patrol",
   "metadata": {
    "slideshow": {
     "slide_type": "slide"
    }
   },
   "source": [
    "# `for` Loop Example"
   ]
  },
  {
   "cell_type": "code",
   "execution_count": null,
   "id": "metropolitan-contributor",
   "metadata": {},
   "outputs": [],
   "source": [
    "values = [\n",
    "    (\"cat\", \"meow\"),\n",
    "    (\"dog\", \"bark\"),\n",
    "    (\"bird\", \"chirp\")\n",
    "]\n",
    "\n",
    "for animal, sound in values:\n",
    "    print(\"The\", animal, \"says\", sound)"
   ]
  },
  {
   "cell_type": "markdown",
   "id": "curious-canyon",
   "metadata": {
    "slideshow": {
     "slide_type": "slide"
    }
   },
   "source": [
    "# The `range` object\n",
    "- The `range` represents a range of integer values\n",
    "- It is commonly used to use index the values in a `list`\n",
    "- You can create a `range` object in a few ways:\n",
    "    - `range(stop)` represents the integer range $[0, \\textrm{stop})$\n",
    "    - `range(start, stop)` represents the integer range $[\\textrm{start}, \\textrm{stop})$\n",
    "    - `range(start, stop, step)` represents the integer range $[\\textrm{start}, \\textrm{stop})$ counting by `step`s "
   ]
  },
  {
   "cell_type": "markdown",
   "id": "mechanical-edgar",
   "metadata": {
    "slideshow": {
     "slide_type": "slide"
    }
   },
   "source": [
    "# `range` Example"
   ]
  },
  {
   "cell_type": "code",
   "execution_count": null,
   "id": "adjusted-trust",
   "metadata": {},
   "outputs": [],
   "source": [
    "range_values = range(10)\n",
    "#range_values = range(5, 10)\n",
    "#range_values = range(2, 10, 2)\n",
    "\n",
    "print(range_values)\n",
    "for r in range_values:\n",
    "    print(r, end=\" \")"
   ]
  },
  {
   "cell_type": "markdown",
   "id": "accredited-ratio",
   "metadata": {
    "slideshow": {
     "slide_type": "slide"
    }
   },
   "source": [
    "# Using `range` to index a `list`"
   ]
  },
  {
   "cell_type": "code",
   "execution_count": null,
   "id": "critical-generic",
   "metadata": {},
   "outputs": [],
   "source": [
    "values = [4, 8, 15, 16, 23, 42]\n",
    "\n",
    "for i in range(len(values)):\n",
    "    print(\"The value stored at index\", i, \"is\", values[i])"
   ]
  },
  {
   "cell_type": "markdown",
   "id": "alleged-messenger",
   "metadata": {
    "slideshow": {
     "slide_type": "slide"
    }
   },
   "source": [
    "# Variable Scope\n",
    "\n",
    "- A variable is \"in scope\" if the python interpreter can resolve the variable name to its intended value\n",
    "- A variable is \"out of scope\" if the python interpreter is unable to resolve the variable to its intended value\n",
    "- Loops/Conditionals can affect scope"
   ]
  },
  {
   "cell_type": "markdown",
   "id": "english-eagle",
   "metadata": {
    "slideshow": {
     "slide_type": "slide"
    }
   },
   "source": [
    "# Variable Scope: Loops\n",
    "- Variables declared above a loop/conditional can be accessed and changed within the loop/conditional"
   ]
  },
  {
   "cell_type": "code",
   "execution_count": null,
   "id": "daily-weekly",
   "metadata": {},
   "outputs": [],
   "source": [
    "\n",
    "val = -1\n",
    "for i in range(4):\n",
    "    print(i)\n",
    "    if i==2:\n",
    "        val = i\n",
    "\n",
    "print(\"val=\",val)"
   ]
  },
  {
   "cell_type": "markdown",
   "id": "agreed-insurance",
   "metadata": {
    "slideshow": {
     "slide_type": "slide"
    }
   },
   "source": [
    "# Variable Scope: Loops\n",
    "- Variables declared within a loop/conditional can be accessed after the loop/conditional"
   ]
  },
  {
   "cell_type": "code",
   "execution_count": null,
   "id": "earlier-complement",
   "metadata": {},
   "outputs": [],
   "source": [
    "for i in range(5):\n",
    "    if i>5:\n",
    "        j = i\n",
    "\n",
    "print(i)\n",
    "print(j)"
   ]
  },
  {
   "cell_type": "markdown",
   "id": "further-reservoir",
   "metadata": {
    "slideshow": {
     "slide_type": "slide"
    }
   },
   "source": [
    "# Looping Through a Dictionary\n",
    "- Using a `for` loop on a dictionary iterates through its `keys`"
   ]
  },
  {
   "cell_type": "code",
   "execution_count": null,
   "id": "committed-sleeping",
   "metadata": {},
   "outputs": [],
   "source": [
    "fruit_dict = {\"a\":\"apple\", \"b\":\"banana\", \"c\":\"carrot\"}\n",
    "\n",
    "for key in fruit_dict:\n",
    "    print(\"The value stored at\", key, \"is\", fruit_dict[key])"
   ]
  },
  {
   "cell_type": "markdown",
   "id": "complimentary-domain",
   "metadata": {
    "slideshow": {
     "slide_type": "slide"
    }
   },
   "source": [
    "# Looping Through a Dictionary\n",
    "- You can iterate through a dictionary in a particular way by invoking one of the methods that returns a \"dictionary view\""
   ]
  },
  {
   "cell_type": "code",
   "execution_count": null,
   "id": "lucky-indian",
   "metadata": {},
   "outputs": [],
   "source": [
    "fruit_dict = {\"a\":\"apple\", \"b\":\"banana\", \"c\":\"carrot\"}\n",
    "\n",
    "print(\"The dictionary contains the keys:\", end=\" \")\n",
    "for key in fruit_dict.keys():\n",
    "    print(key, end=\" \")\n",
    "\n",
    "print(\"\\nThe dictionary contains the values:\", end=\" \")\n",
    "for value in fruit_dict.values():\n",
    "    print(value, end=\" \")"
   ]
  },
  {
   "cell_type": "markdown",
   "id": "dutch-induction",
   "metadata": {
    "slideshow": {
     "slide_type": "slide"
    }
   },
   "source": [
    "# Looping Through a Dictionary\n",
    "- You can iterate through a dictionary in a particular way by invoking one of the methods that returns a \"dictionary view\""
   ]
  },
  {
   "cell_type": "code",
   "execution_count": null,
   "id": "returning-catering",
   "metadata": {},
   "outputs": [],
   "source": [
    "fruit_dict = {\"a\":\"apple\", \"b\":\"banana\", \"c\":\"carrot\"}\n",
    "\n",
    "entry_msg = \"The dictionary contains the key {} with the value {}\"\n",
    "for key, value in fruit_dict.items():\n",
    "    print(entry_msg.format(key, value))"
   ]
  },
  {
   "cell_type": "markdown",
   "id": "reduced-cartridge",
   "metadata": {
    "slideshow": {
     "slide_type": "slide"
    }
   },
   "source": [
    "# Nested `for` Loops\n",
    "\n",
    "- Just like in conditionals any statement can go within the scope of a `for` loop, including other for loops"
   ]
  },
  {
   "cell_type": "code",
   "execution_count": null,
   "id": "alien-wealth",
   "metadata": {},
   "outputs": [],
   "source": [
    "collections = [\n",
    "    (1, 2, 3),\n",
    "    (4, 5, 6, 7),\n",
    "    (8,),\n",
    "    (9, 10, 11, 12, 13, 14, 15)\n",
    "]\n",
    "\n",
    "for collection in collections:\n",
    "    if len(collection) > 3:\n",
    "        for value in collection:\n",
    "            print(value, end=\" \")"
   ]
  },
  {
   "cell_type": "markdown",
   "id": "consistent-advance",
   "metadata": {
    "slideshow": {
     "slide_type": "slide"
    }
   },
   "source": [
    "# Iterating through strings\n",
    "\n",
    "- Strings can be iterated character by character or can be broken up into tokens by using the `split` method"
   ]
  },
  {
   "cell_type": "code",
   "execution_count": null,
   "id": "threatened-senate",
   "metadata": {
    "scrolled": true
   },
   "outputs": [],
   "source": [
    "message = \"Howdy there friend!\"\n",
    "\n",
    "for char in message:\n",
    "    print(char, end=\" \")\n",
    "\n",
    "print()\n",
    "for token in message.split(\" \"):\n",
    "    print(\"token:\", token)"
   ]
  },
  {
   "cell_type": "markdown",
   "id": "twenty-tsunami",
   "metadata": {
    "slideshow": {
     "slide_type": "slide"
    }
   },
   "source": [
    "# What's Due Next?\n",
    "\n",
    "- zybooks Chapter 4 due April 25th 11:59 PM\n",
    "- Assignment 2 due April 25th 11:59 PM"
   ]
  }
 ],
 "metadata": {
  "celltoolbar": "Slideshow",
  "kernelspec": {
   "display_name": "Python 3",
   "language": "python",
   "name": "python3"
  },
  "language_info": {
   "codemirror_mode": {
    "name": "ipython",
    "version": 3
   },
   "file_extension": ".py",
   "mimetype": "text/x-python",
   "name": "python",
   "nbconvert_exporter": "python",
   "pygments_lexer": "ipython3",
   "version": "3.8.8"
  },
  "rise": {
   "autolaunch": true,
   "transition": "none"
  }
 },
 "nbformat": 4,
 "nbformat_minor": 5
}
