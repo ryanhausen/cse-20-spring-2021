{
 "cells": [
  {
   "cell_type": "markdown",
   "id": "affiliated-stroke",
   "metadata": {
    "slideshow": {
     "slide_type": "slide"
    }
   },
   "source": [
    "# Beginning Programming in Python\n",
    "\n",
    "### Error Handling/OOP1\n",
    "#### CSE20 - Spring 2021\n",
    "\n",
    "\n",
    "Interactive Slides: [https://tinyurl.com/cse20-spr21-errors-oop1](https://tinyurl.com/cse20-spr21-errors-oop1)"
   ]
  },
  {
   "cell_type": "markdown",
   "id": "mediterranean-peace",
   "metadata": {
    "slideshow": {
     "slide_type": "slide"
    }
   },
   "source": [
    "# Error Handling\n",
    "\n",
    "- Up until now whenever our programs have had runtime errors it has stopped our program from completing\n",
    "- This is generally not what we would like to have happen.\n",
    "- Ideally, our programs would never contain any errors, but that's not the case and so we need to find a way to more elegantly handle runtime errors in our programs\n",
    "- Some programming languages refer to runtime errors as exceptions, in python exceptions and errors are the same thing"
   ]
  },
  {
   "cell_type": "markdown",
   "id": "polish-blank",
   "metadata": {
    "slideshow": {
     "slide_type": "slide"
    }
   },
   "source": [
    "# `try`...`except`\n",
    "\n",
    "- The `try`/`except` statements allow us to handle when our code doesn't work right. \n",
    "- There are usually sections of code that are more prone to runtime errors, for example parts of the code handling I/O\n",
    "- We can use `try`/`except` to gracefully handle those errors.\n",
    "\n",
    "```python\n",
    "try:\n",
    "    # some code\n",
    "except {optional_error_type} {as alias}:\n",
    "    # code dealing with runtime exception\n",
    "```"
   ]
  },
  {
   "cell_type": "markdown",
   "id": "respected-warehouse",
   "metadata": {
    "slideshow": {
     "slide_type": "slide"
    }
   },
   "source": [
    "# `try`...`except`"
   ]
  },
  {
   "cell_type": "code",
   "execution_count": 6,
   "id": "raised-africa",
   "metadata": {},
   "outputs": [
    {
     "name": "stdout",
     "output_type": "stream",
     "text": [
      "You can't divide by 0!\n"
     ]
    },
    {
     "ename": "NameError",
     "evalue": "name 'a' is not defined",
     "output_type": "error",
     "traceback": [
      "\u001b[0;31m---------------------------------------------------------------------------\u001b[0m",
      "\u001b[0;31mNameError\u001b[0m                                 Traceback (most recent call last)",
      "\u001b[0;32m<ipython-input-6-03d24554a1b2>\u001b[0m in \u001b[0;36m<module>\u001b[0;34m\u001b[0m\n\u001b[1;32m      7\u001b[0m \u001b[0;31m#    a = 0\u001b[0m\u001b[0;34m\u001b[0m\u001b[0;34m\u001b[0m\u001b[0;34m\u001b[0m\u001b[0m\n\u001b[1;32m      8\u001b[0m \u001b[0;34m\u001b[0m\u001b[0m\n\u001b[0;32m----> 9\u001b[0;31m \u001b[0mprint\u001b[0m\u001b[0;34m(\u001b[0m\u001b[0ma\u001b[0m\u001b[0;34m)\u001b[0m\u001b[0;34m\u001b[0m\u001b[0;34m\u001b[0m\u001b[0m\n\u001b[0m",
      "\u001b[0;31mNameError\u001b[0m: name 'a' is not defined"
     ]
    }
   ],
   "source": [
    "#a = 3/0\n",
    "try:\n",
    "    a = 3/0\n",
    "except:\n",
    "    print(\"You can't divide by 0!\")\n",
    "    a = 0\n",
    "\n",
    "# other important functions\n",
    "print(a)"
   ]
  },
  {
   "cell_type": "markdown",
   "id": "distinguished-forest",
   "metadata": {
    "slideshow": {
     "slide_type": "slide"
    }
   },
   "source": [
    "# Built-in Exceptions/Errors Examples\n",
    "\n",
    "- `Exception` Includes all exception/error types\n",
    "- `ZeroDivisionError` occurs when your divide by zero\n",
    "- `IndexError`/`KeyError` occurs when you try to access an invalid index/key\n",
    "- `NotImplementedError` occurs when a method/function is not implemented (<span style=\"color:red\">NEEDED FOR ASSIGNMENT 5</span>)\n",
    "- `StopIteration` occurs when an iterator has exhausted all its elements"
   ]
  },
  {
   "cell_type": "markdown",
   "id": "engaged-sitting",
   "metadata": {
    "slideshow": {
     "slide_type": "slide"
    }
   },
   "source": [
    "# `try`...`except`\n",
    "\n",
    "- More information on Errors/Exception Handling: https://docs.python.org/3/tutorial/errors.html"
   ]
  },
  {
   "cell_type": "code",
   "execution_count": 9,
   "id": "assigned-pantyhose",
   "metadata": {},
   "outputs": [
    {
     "ename": "ZeroDivisionError",
     "evalue": "division by zero",
     "output_type": "error",
     "traceback": [
      "\u001b[0;31m---------------------------------------------------------------------------\u001b[0m",
      "\u001b[0;31mZeroDivisionError\u001b[0m                         Traceback (most recent call last)",
      "\u001b[0;32m<ipython-input-9-a1efa9098862>\u001b[0m in \u001b[0;36m<module>\u001b[0;34m\u001b[0m\n\u001b[1;32m      2\u001b[0m \u001b[0;34m\u001b[0m\u001b[0m\n\u001b[1;32m      3\u001b[0m \u001b[0;32mtry\u001b[0m\u001b[0;34m:\u001b[0m\u001b[0;34m\u001b[0m\u001b[0;34m\u001b[0m\u001b[0m\n\u001b[0;32m----> 4\u001b[0;31m     \u001b[0ma\u001b[0m \u001b[0;34m=\u001b[0m \u001b[0;36m3\u001b[0m\u001b[0;34m/\u001b[0m\u001b[0;36m0\u001b[0m\u001b[0;34m\u001b[0m\u001b[0;34m\u001b[0m\u001b[0m\n\u001b[0m\u001b[1;32m      5\u001b[0m \u001b[0;31m#except Exception as e:\u001b[0m\u001b[0;34m\u001b[0m\u001b[0;34m\u001b[0m\u001b[0;34m\u001b[0m\u001b[0m\n\u001b[1;32m      6\u001b[0m \u001b[0;31m#except ZeroDivisionError as e:\u001b[0m\u001b[0;34m\u001b[0m\u001b[0;34m\u001b[0m\u001b[0;34m\u001b[0m\u001b[0m\n",
      "\u001b[0;31mZeroDivisionError\u001b[0m: division by zero"
     ]
    }
   ],
   "source": [
    "#a = 3/0\n",
    "\n",
    "try:\n",
    "    a = 3/0\n",
    "#except Exception as e:\n",
    "#except ZeroDivisionError as e:\n",
    "except NotImplementedError as e:\n",
    "    print(type(e), e)\n",
    "    print(\"You can't divide by 0!\")\n",
    "    a = 0\n",
    "\n",
    "print(a)"
   ]
  },
  {
   "cell_type": "markdown",
   "id": "distinguished-honolulu",
   "metadata": {
    "slideshow": {
     "slide_type": "slide"
    }
   },
   "source": [
    "# Object Oriented Programming (OOP) \n",
    "\n",
    "- In considering the problems we solve as software engineers it is often the case that the principles or data are working with model some kind of object in the real world.\n",
    "- We don't have enough time to do a deep dive into OOP so we're going to give a high-level introduction\n",
    "- Object Oriented Programming takes advantage of that relationship and by allowing you to directly model objects in code uses *classes*\n",
    "- In python **everything** is an object"
   ]
  },
  {
   "cell_type": "code",
   "execution_count": 10,
   "id": "outstanding-personality",
   "metadata": {},
   "outputs": [
    {
     "name": "stdout",
     "output_type": "stream",
     "text": [
      "__abs__ __add__ __and__ __bool__ __ceil__ __class__ __delattr__ __dir__ __divmod__ __doc__ __eq__ __float__ __floor__ __floordiv__ __format__ __ge__ __getattribute__ __getnewargs__ __gt__ __hash__ __index__ __init__ __init_subclass__ __int__ __invert__ __le__ __lshift__ __lt__ __mod__ __mul__ __ne__ __neg__ __new__ __or__ __pos__ __pow__ __radd__ __rand__ __rdivmod__ __reduce__ __reduce_ex__ __repr__ __rfloordiv__ __rlshift__ __rmod__ __rmul__ __ror__ __round__ __rpow__ __rrshift__ __rshift__ __rsub__ __rtruediv__ __rxor__ __setattr__ __sizeof__ __str__ __sub__ __subclasshook__ __truediv__ __trunc__ __xor__ bit_length conjugate denominator from_bytes imag numerator real to_bytes "
     ]
    }
   ],
   "source": [
    "for function in dir(int(3)):\n",
    "    print(function, end=\" \")"
   ]
  },
  {
   "cell_type": "markdown",
   "id": "funny-mailman",
   "metadata": {
    "slideshow": {
     "slide_type": "slide"
    }
   },
   "source": [
    "# Classes\n",
    "\n",
    "- Classes allow use to define a set of attributes and behaviors for a type. \n",
    "- Classes can have attributes (values) and methods (functions) which can accessed/in\n",
    "- Classes are named using [PascalCase](https://techterms.com/definition/pascalcase), the first letter of compound words are capitalized\n",
    "- The constructor for a class is a special function called `__init__`\n",
    "- The current instance of class is referenced using the token `self`\n",
    "- `self` is included by default in all instance methods of a class"
   ]
  },
  {
   "cell_type": "markdown",
   "id": "perfect-explorer",
   "metadata": {
    "slideshow": {
     "slide_type": "slide"
    }
   },
   "source": [
    "# Classes"
   ]
  },
  {
   "cell_type": "code",
   "execution_count": 16,
   "id": "adverse-shipping",
   "metadata": {},
   "outputs": [
    {
     "name": "stdout",
     "output_type": "stream",
     "text": [
      "Meow, my name is A\n",
      "Bark! My name is jeff and my breed is C\n"
     ]
    }
   ],
   "source": [
    "class Cat:\n",
    "    def __init__(self, name):\n",
    "        self.name = name\n",
    "    \n",
    "    def make_sound(self):\n",
    "        print(f\"Meow, my name is {self.name}\")\n",
    "\n",
    "class Dog:\n",
    "    def __init__(self, name, breed):\n",
    "        self.name = name\n",
    "        self.dog_breed = breed\n",
    "    \n",
    "    def make_sound(self):\n",
    "        name = \"jeff\"\n",
    "        print(f\"Bark! My name is {name} and my breed is {self.dog_breed}\")\n",
    "\n",
    "c1 = Cat(\"A\")\n",
    "c2 = Cat(\"A2\")\n",
    "d = Dog(\"B\", \"C\")\n",
    "\n",
    "c.make_sound()\n",
    "d.make_sound()"
   ]
  },
  {
   "cell_type": "markdown",
   "id": "meaning-accused",
   "metadata": {
    "slideshow": {
     "slide_type": "slide"
    }
   },
   "source": [
    "# What's Due Next?\n",
    "\n",
    "- zybooks Chapters 11 due May 30th 11:59 PM\n",
    "- Assignment 5 due June 6th 11:59 PM"
   ]
  }
 ],
 "metadata": {
  "celltoolbar": "Slideshow",
  "kernelspec": {
   "display_name": "Python 3",
   "language": "python",
   "name": "python3"
  },
  "language_info": {
   "codemirror_mode": {
    "name": "ipython",
    "version": 3
   },
   "file_extension": ".py",
   "mimetype": "text/x-python",
   "name": "python",
   "nbconvert_exporter": "python",
   "pygments_lexer": "ipython3",
   "version": "3.7.10"
  },
  "rise": {
   "autolaunch": true,
   "transition": "none"
  }
 },
 "nbformat": 4,
 "nbformat_minor": 5
}
