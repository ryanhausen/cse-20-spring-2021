{
 "cells": [
  {
   "cell_type": "markdown",
   "id": "affiliated-stroke",
   "metadata": {
    "slideshow": {
     "slide_type": "slide"
    }
   },
   "source": [
    "# Beginning Programming in Python\n",
    "\n",
    "### Error Handling/OOP1\n",
    "#### CSE20 - Spring 2021\n",
    "\n",
    "\n",
    "Interactive Slides: [https://tinyurl.com/cse20-spr21-errors-oop1](https://tinyurl.com/cse20-spr21-errors-oop1)"
   ]
  },
  {
   "cell_type": "markdown",
   "id": "mediterranean-peace",
   "metadata": {
    "slideshow": {
     "slide_type": "slide"
    }
   },
   "source": [
    "# Error Handling\n",
    "\n",
    "- Up until now whenever our programs have had runtime errors it has stopped our program from completing\n",
    "- This is generally not what we would like to have happen.\n",
    "- Ideally, our programs would never contain any errors, but that's not the case and so we need to find a way to more elegantly handle runtime errors in our programs\n",
    "- Some programming languages refer to runtime errors as exceptions, in python exceptions and errors are the same thing"
   ]
  },
  {
   "cell_type": "markdown",
   "id": "polish-blank",
   "metadata": {
    "slideshow": {
     "slide_type": "slide"
    }
   },
   "source": [
    "# `try`...`except`\n",
    "\n",
    "- The `try`/`except` statements allow us to handle when our code doesn't work right. \n",
    "- There are usually sections of code that are more prone to runtime errors, for example parts of the code handling I/O\n",
    "- We can use `try`/`except` to gracefully handle those errors.\n",
    "\n",
    "```python\n",
    "try:\n",
    "    # some code\n",
    "except {optional_error_type} {as alias}:\n",
    "    # code dealing with runtime exception\n",
    "```"
   ]
  },
  {
   "cell_type": "markdown",
   "id": "respected-warehouse",
   "metadata": {
    "slideshow": {
     "slide_type": "slide"
    }
   },
   "source": [
    "# `try`...`except`"
   ]
  },
  {
   "cell_type": "code",
   "execution_count": null,
   "id": "raised-africa",
   "metadata": {},
   "outputs": [],
   "source": [
    "#a = 3/0\n",
    "\n",
    "try:\n",
    "    a = 3/0\n",
    "except:\n",
    "    print(\"You can't divide by 0!\")\n",
    "    a = 0\n",
    "\n",
    "print(a)"
   ]
  },
  {
   "cell_type": "markdown",
   "id": "distinguished-forest",
   "metadata": {
    "slideshow": {
     "slide_type": "slide"
    }
   },
   "source": [
    "# Built-in Exceptions/Errors Examples\n",
    "\n",
    "- `Exception` Includes all exception/error types\n",
    "- `ZeroDivisionError` occurs when your divide by zero\n",
    "- `IndexError`/`KeyError` occurs when you try to access an invalid index/key\n",
    "- `NotImplementedError` occurs when a method/function is not implemented (<span style=\"color:red\">NEEDED FOR ASSIGNMENT 5</span>)\n",
    "- `StopIteration` occurs when an iterator has exhausted all its elements"
   ]
  },
  {
   "cell_type": "markdown",
   "id": "engaged-sitting",
   "metadata": {
    "slideshow": {
     "slide_type": "slide"
    }
   },
   "source": [
    "# `try`...`except`\n",
    "\n",
    "- More information on Errors/Exception Handling: https://docs.python.org/3/tutorial/errors.html"
   ]
  },
  {
   "cell_type": "code",
   "execution_count": null,
   "id": "assigned-pantyhose",
   "metadata": {},
   "outputs": [],
   "source": [
    "#a = 3/0\n",
    "\n",
    "try:\n",
    "    a = 3/0\n",
    "except Exception as e:\n",
    "#except ZeroDivisionError as e:\n",
    "#except NotImplementedError as e:\n",
    "    print(type(e), e)\n",
    "    print(\"You can't divide by 0!\")\n",
    "    a = 0\n",
    "\n",
    "print(a)"
   ]
  },
  {
   "cell_type": "markdown",
   "id": "distinguished-honolulu",
   "metadata": {
    "slideshow": {
     "slide_type": "slide"
    }
   },
   "source": [
    "# Object Oriented Programming (OOP) \n",
    "\n",
    "- In considering the problems we solve as software engineers it is often the case that the principles or data are working with model some kind of object in the real world.\n",
    "- We don't have enough time to do a deep dive into OOP so we're going to give a high-level introduction\n",
    "- Object Oriented Programming takes advantage of that relationship and by allowing you to directly model objects in code uses *classes*\n",
    "- In python **everything** is an object"
   ]
  },
  {
   "cell_type": "code",
   "execution_count": null,
   "id": "outstanding-personality",
   "metadata": {},
   "outputs": [],
   "source": [
    "for function in dir(int(3)):\n",
    "    print(function, end=\" \")"
   ]
  },
  {
   "cell_type": "markdown",
   "id": "funny-mailman",
   "metadata": {
    "slideshow": {
     "slide_type": "slide"
    }
   },
   "source": [
    "# Classes\n",
    "\n",
    "- Classes allow use to define a set of attributes and behaviors for a type. \n",
    "- Classes can have attributes (values) and methods (functions) which can accessed/in\n",
    "- Classes are named using [PascalCase](https://techterms.com/definition/pascalcase), the first letter of compound words are capitalized\n",
    "- The constructor for a class is a special function called `__init__`\n",
    "- The current instance of class is referenced using the token `self`\n",
    "- `self` is included by default in all instance methods of a class"
   ]
  },
  {
   "cell_type": "markdown",
   "id": "perfect-explorer",
   "metadata": {
    "slideshow": {
     "slide_type": "slide"
    }
   },
   "source": [
    "# Classes"
   ]
  },
  {
   "cell_type": "code",
   "execution_count": null,
   "id": "adverse-shipping",
   "metadata": {},
   "outputs": [],
   "source": [
    "class Cat:\n",
    "    def __init__(self, name):\n",
    "        self.name = name\n",
    "    \n",
    "    def make_sound(self):\n",
    "        print(f\"Meow, my name is {self.name}\")\n",
    "\n",
    "cat1 = Cat(\"Whiskers\") # __init__(self, \"Whiskers\")\n",
    "cat1.make_sound()\n",
    "\n",
    "cat2 = Cat(\"Fuzzy\")    # __init__(self, \"Fuzzy\")\n",
    "cat2.make_sound()"
   ]
  },
  {
   "cell_type": "markdown",
   "id": "meaning-accused",
   "metadata": {
    "slideshow": {
     "slide_type": "slide"
    }
   },
   "source": [
    "# What's Due Next?\n",
    "\n",
    "- zybooks Chapters 11 due May 30th 11:59 PM\n",
    "- Assignment 5 due June 6th 11:59 PM"
   ]
  }
 ],
 "metadata": {
  "celltoolbar": "Slideshow",
  "kernelspec": {
   "display_name": "Python 3",
   "language": "python",
   "name": "python3"
  },
  "language_info": {
   "codemirror_mode": {
    "name": "ipython",
    "version": 3
   },
   "file_extension": ".py",
   "mimetype": "text/x-python",
   "name": "python",
   "nbconvert_exporter": "python",
   "pygments_lexer": "ipython3",
   "version": "3.8.8"
  },
  "rise": {
   "autolaunch": true,
   "transition": "none"
  }
 },
 "nbformat": 4,
 "nbformat_minor": 5
}
