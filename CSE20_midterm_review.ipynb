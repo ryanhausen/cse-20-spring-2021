{
 "cells": [
  {
   "cell_type": "markdown",
   "id": "heard-lease",
   "metadata": {
    "slideshow": {
     "slide_type": "slide"
    }
   },
   "source": [
    "# Beginning Programming in Python\n",
    "\n",
    "### Midterm Review\n",
    "#### CSE20 - Spring 2021\n",
    "\n",
    "\n",
    "Interactive Slides: [https://tinyurl.com/cse20-spr21-midterm-review](https://tinyurl.com/cse20-spr21-midterm-review)"
   ]
  },
  {
   "cell_type": "markdown",
   "id": "cubic-price",
   "metadata": {
    "slideshow": {
     "slide_type": "slide"
    }
   },
   "source": [
    "# What's Due Next?\n",
    "\n",
    "- zybooks Chapter 5 & 6 due May 9th 11:59 PM\n",
    "- Assignment 3 due May 9 11:59 PM"
   ]
  },
  {
   "cell_type": "markdown",
   "id": "contained-surgeon",
   "metadata": {
    "slideshow": {
     "slide_type": "slide"
    }
   },
   "source": [
    "# Midterm Format\n",
    "\n",
    "- On Canvas\n",
    "- 1 Hour\n",
    "- 10: Multiple choice/Multiple selection \n",
    "- Programming Exercises\n",
    "\n",
    "- Once the exam starts\n",
    "    - You may only leave the exam window to **message the instructor**.\n",
    "    - Canvas records your actions\n",
    "    - You need to be at the zoom lecture with your camera on. The exam will be recorded.\n",
    "    - Failing to be at the zoom lecture with your camera on will result in a zero for the exam.\n",
    "\n",
    "### For any students affiliated with the DRC please reach out to confirm your accommodations for the exam"
   ]
  },
  {
   "cell_type": "markdown",
   "id": "humanitarian-greensboro",
   "metadata": {
    "slideshow": {
     "slide_type": "slide"
    }
   },
   "source": [
    "# Topics Covered\n",
    "\n",
    "- Basics of programming\n",
    "    - Input/Processing/Output \n",
    "    - Interpreted/Compiled\n",
    "    - Basic Types (int, float,...)\n",
    "    - Order of operations (+, **, /, ...)\n",
    "- Syntax/Runtime Errors\n",
    "- Conditional Control Flow\n",
    "    - `if`/`elif`/`else`\n",
    "- Lists/Tuple/Dictionaries/Sets]\n",
    "    - Instantiation (Creation)\n",
    "    - Methods\n",
    "- `range` objects\n",
    "- `for`/`while` loops"
   ]
  },
  {
   "cell_type": "markdown",
   "id": "greatest-intro",
   "metadata": {
    "slideshow": {
     "slide_type": "slide"
    }
   },
   "source": [
    "# Your Questions"
   ]
  },
  {
   "cell_type": "code",
   "execution_count": null,
   "id": "south-panel",
   "metadata": {},
   "outputs": [],
   "source": []
  }
 ],
 "metadata": {
  "celltoolbar": "Slideshow",
  "kernelspec": {
   "display_name": "Python 3",
   "language": "python",
   "name": "python3"
  },
  "language_info": {
   "codemirror_mode": {
    "name": "ipython",
    "version": 3
   },
   "file_extension": ".py",
   "mimetype": "text/x-python",
   "name": "python",
   "nbconvert_exporter": "python",
   "pygments_lexer": "ipython3",
   "version": "3.8.8"
  },
  "rise": {
   "autolaunch": true,
   "transition": "none"
  }
 },
 "nbformat": 4,
 "nbformat_minor": 5
}
