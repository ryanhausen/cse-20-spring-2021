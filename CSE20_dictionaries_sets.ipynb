{
 "cells": [
  {
   "cell_type": "markdown",
   "id": "legendary-vitamin",
   "metadata": {
    "slideshow": {
     "slide_type": "slide"
    }
   },
   "source": [
    "# Beginning Programming in Python\n",
    "\n",
    "### Dictionaries/Sets\n",
    "#### CSE20 - Spring 2021\n",
    "\n",
    "\n",
    "Interactive Slides: [https://tinyurl.com/cse20-spr21-dictionaries-sets](https://tinyurl.com/cse20-spr21-dictionaries-sets)"
   ]
  },
  {
   "cell_type": "markdown",
   "id": "introductory-extension",
   "metadata": {
    "slideshow": {
     "slide_type": "slide"
    }
   },
   "source": [
    "# Dictionaries\n",
    "\n",
    "- A mapping type that defines **key:value** relationships between values\n",
    "- A **key** is a unique value that is associated with its respective **value**\n",
    "- All of the **key**s in a dictionary have to be unique and can be any hashable type. **Value**s do not have to be unique. \n",
    "- **key**s can be any type and a single dictionary can use multiple types as keys\n",
    "- Dictionaries are a mutable type\n",
    "- No particular naming convention for variables, just choose informative variable names"
   ]
  },
  {
   "cell_type": "markdown",
   "id": "acquired-banks",
   "metadata": {
    "slideshow": {
     "slide_type": "slide"
    }
   },
   "source": [
    "# Dictionaries: Instantiation (Creation)\n",
    "\n",
    "- There are a few ways to instantiate a dictionary. The way we'll go over today is using curly braces `{key:value}`"
   ]
  },
  {
   "cell_type": "code",
   "execution_count": null,
   "id": "identified-proposition",
   "metadata": {},
   "outputs": [],
   "source": [
    "nums_to_strings = {1:\"one\", 2:\"two\", 3:\"three\"}\n",
    "strings_to_nums = {\n",
    "    \"one\":1,\n",
    "    \"two\":2,\n",
    "    \"three\":3\n",
    "}"
   ]
  },
  {
   "cell_type": "markdown",
   "id": "indie-faculty",
   "metadata": {
    "slideshow": {
     "slide_type": "slide"
    }
   },
   "source": [
    "# Dictionaries: Instantiation (Creation)"
   ]
  },
  {
   "cell_type": "code",
   "execution_count": 4,
   "id": "organized-consciousness",
   "metadata": {},
   "outputs": [
    {
     "name": "stdout",
     "output_type": "stream",
     "text": [
      "{1: 'one', 'two': 2.0, 'another_dict': {'three': 3}, 'a list': [1, 2, 3]}\n"
     ]
    }
   ],
   "source": [
    "mixed_types_dict = {\n",
    "    1: \"one\",\n",
    "    \"two\": 2.0,\n",
    "    \"another_dict\": {\"three\": 3},\n",
    "    \"a list\": [1, 2, 3]\n",
    "}\n",
    "\n",
    "print(mixed_types_dict)"
   ]
  },
  {
   "cell_type": "markdown",
   "id": "frozen-northeast",
   "metadata": {
    "slideshow": {
     "slide_type": "slide"
    }
   },
   "source": [
    "# Dictionaries: Access\n",
    "\n",
    "- To access/retrieve the **value**s stored in a dictionary we use square brackets with the **key** `[key]`\n",
    "- We can only access a single value at a time using a single key\n",
    "- Dictionaries are considered **unordered** so the keys are not guaranteed to be in the order that they were added in."
   ]
  },
  {
   "cell_type": "markdown",
   "id": "loaded-village",
   "metadata": {
    "slideshow": {
     "slide_type": "slide"
    }
   },
   "source": [
    "# Dictionaries: Access"
   ]
  },
  {
   "cell_type": "code",
   "execution_count": 7,
   "id": "sealed-preservation",
   "metadata": {},
   "outputs": [
    {
     "name": "stdout",
     "output_type": "stream",
     "text": [
      "two\n",
      "2\n"
     ]
    }
   ],
   "source": [
    "nums_to_strings = {1:\"one\", 2:\"two\", 3:\"three\"}\n",
    "strings_to_nums = {\n",
    "    \"one\":1,\n",
    "    \"two\":2,\n",
    "    \"three\":3\n",
    "}\n",
    "\n",
    "print(nums_to_strings[2])\n",
    "print(strings_to_nums[\"two\"])"
   ]
  },
  {
   "cell_type": "markdown",
   "id": "burning-offense",
   "metadata": {
    "slideshow": {
     "slide_type": "slide"
    }
   },
   "source": [
    "# Dictionaries: Access\n",
    "\n",
    "- If you try to use a key doesn't exists in the dictionary it will raise a `KeyError`\n",
    "- If your not sure if a key is in a dictionary you can use the membership operators `in` and `not in` to check for the key"
   ]
  },
  {
   "cell_type": "code",
   "execution_count": 9,
   "id": "imperial-administration",
   "metadata": {},
   "outputs": [
    {
     "name": "stdout",
     "output_type": "stream",
     "text": [
      "False\n",
      "one\n"
     ]
    }
   ],
   "source": [
    "nums_to_strings = {1:\"one\"}\n",
    "\n",
    "print(2 in nums_to_strings)\n",
    "print(nums_to_strings[1])"
   ]
  },
  {
   "cell_type": "markdown",
   "id": "successful-brazilian",
   "metadata": {
    "slideshow": {
     "slide_type": "slide"
    }
   },
   "source": [
    "# Dictionaries: Updates\n",
    "\n",
    "- To update/add **value**s stored in a dictionary we use square brackets with the **key** `[key]`"
   ]
  },
  {
   "cell_type": "code",
   "execution_count": 10,
   "id": "decimal-beach",
   "metadata": {},
   "outputs": [
    {
     "name": "stdout",
     "output_type": "stream",
     "text": [
      "{1: 'one'}\n",
      "{1: 'ONE', '2': 'TWO'}\n"
     ]
    }
   ],
   "source": [
    "nums_to_strings = {1:\"one\"}\n",
    "print(nums_to_strings)\n",
    "nums_to_strings[1] = \"ONE\"\n",
    "nums_to_strings[\"2\"] = \"TWO\"\n",
    "print(nums_to_strings)"
   ]
  },
  {
   "cell_type": "markdown",
   "id": "lesbian-ballet",
   "metadata": {
    "slideshow": {
     "slide_type": "slide"
    }
   },
   "source": [
    "# `dict`: Methods\n",
    "\n",
    "- Dictionaries are considered `object`s, we'll go over `object`s in more detail when we go over Object Oriented Programming (OOP).\n",
    "- For now you need to know that objects can have functions called `methods`, which can be \"called\" by using the `dict_variable.method_name()` notation. "
   ]
  },
  {
   "cell_type": "markdown",
   "id": "designed-municipality",
   "metadata": {
    "slideshow": {
     "slide_type": "slide"
    }
   },
   "source": [
    "# `dict` Methods: `clear()`\n",
    "- `clear()`removes all items from the dictionary"
   ]
  },
  {
   "cell_type": "code",
   "execution_count": 11,
   "id": "relative-blond",
   "metadata": {},
   "outputs": [
    {
     "name": "stdout",
     "output_type": "stream",
     "text": [
      "{1: 'one'}\n",
      "{}\n"
     ]
    }
   ],
   "source": [
    "nums_to_strings = {1:\"one\"}\n",
    "print(nums_to_strings)\n",
    "nums_to_strings.clear()\n",
    "print(nums_to_strings)"
   ]
  },
  {
   "cell_type": "markdown",
   "id": "lined-tuition",
   "metadata": {
    "slideshow": {
     "slide_type": "slide"
    }
   },
   "source": [
    "# `dict` Methods: `get()`\n",
    "- `get()` works just like using square brackets `[]`"
   ]
  },
  {
   "cell_type": "code",
   "execution_count": 12,
   "id": "vanilla-credits",
   "metadata": {},
   "outputs": [
    {
     "name": "stdout",
     "output_type": "stream",
     "text": [
      "one\n",
      "one\n"
     ]
    }
   ],
   "source": [
    "nums_to_strings = {1:\"one\", 2:\"two\"}\n",
    "print(nums_to_strings.get(1))\n",
    "print(nums_to_strings[1])"
   ]
  },
  {
   "cell_type": "markdown",
   "id": "transparent-missile",
   "metadata": {
    "slideshow": {
     "slide_type": "slide"
    }
   },
   "source": [
    "# `dict` Methods: `items()`\n",
    "- Returns a \"view\" of the key:value pairs in the dictionary. \n",
    "- Note these views are dynamic and change as the dictionary changes"
   ]
  },
  {
   "cell_type": "code",
   "execution_count": 13,
   "id": "billion-developer",
   "metadata": {},
   "outputs": [
    {
     "name": "stdout",
     "output_type": "stream",
     "text": [
      "{1: 'one', 2: 'two'} dict_items([(1, 'one'), (2, 'two')])\n",
      "{1: 'one', 2: 'two', 3: 'three'} dict_items([(1, 'one'), (2, 'two'), (3, 'three')])\n"
     ]
    }
   ],
   "source": [
    "nums_to_strings = {1:\"one\", 2:\"two\"}\n",
    "items = nums_to_strings.items()\n",
    "print(nums_to_strings, items) \n",
    "nums_to_strings[3] = \"three\"\n",
    "print(nums_to_strings, items) "
   ]
  },
  {
   "cell_type": "markdown",
   "id": "composite-administration",
   "metadata": {
    "slideshow": {
     "slide_type": "slide"
    }
   },
   "source": [
    "# `dict` Methods: `keys()`\n",
    "- Returns a \"view\" of the keys in the dictionary. \n",
    "- Note these views are dynamic and change as the dictionary changes"
   ]
  },
  {
   "cell_type": "code",
   "execution_count": 14,
   "id": "indie-houston",
   "metadata": {},
   "outputs": [
    {
     "name": "stdout",
     "output_type": "stream",
     "text": [
      "{1: 'one', 2: 'two'} dict_keys([1, 2])\n",
      "{1: 'one', 2: 'two', 3: 'three'} dict_keys([1, 2, 3])\n"
     ]
    }
   ],
   "source": [
    "nums_to_strings = {1:\"one\", 2:\"two\"}\n",
    "keys = nums_to_strings.keys()\n",
    "print(nums_to_strings, keys) \n",
    "nums_to_strings[3] = \"three\"\n",
    "print(nums_to_strings, keys) "
   ]
  },
  {
   "cell_type": "markdown",
   "id": "dressed-madonna",
   "metadata": {
    "slideshow": {
     "slide_type": "slide"
    }
   },
   "source": [
    "# `dict` Methods: `values()`\n",
    "- Returns a \"view\" of the keys in the dictionary. \n",
    "- Note these views are dynamic and change as the dictionary changes"
   ]
  },
  {
   "cell_type": "code",
   "execution_count": 15,
   "id": "unusual-partner",
   "metadata": {},
   "outputs": [
    {
     "name": "stdout",
     "output_type": "stream",
     "text": [
      "{1: 'one', 2: 'two'} dict_values(['one', 'two'])\n",
      "{1: 'one', 2: 'two', 3: 'three'} dict_values(['one', 'two', 'three'])\n"
     ]
    }
   ],
   "source": [
    "nums_to_strings = {1:\"one\", 2:\"two\"}\n",
    "vals = nums_to_strings.values()\n",
    "print(nums_to_strings, vals) \n",
    "nums_to_strings[3] = \"three\"\n",
    "print(nums_to_strings, vals) "
   ]
  },
  {
   "cell_type": "markdown",
   "id": "impressed-stereo",
   "metadata": {
    "slideshow": {
     "slide_type": "slide"
    }
   },
   "source": [
    "# `dict` Methods: `pop()`\n",
    "- Returns the value at the given key while removing the key"
   ]
  },
  {
   "cell_type": "code",
   "execution_count": 16,
   "id": "centered-jerusalem",
   "metadata": {},
   "outputs": [
    {
     "name": "stdout",
     "output_type": "stream",
     "text": [
      "{2: 'two'} one\n"
     ]
    }
   ],
   "source": [
    "nums_to_strings = {1:\"one\", 2:\"two\"}\n",
    "val_at_1 = nums_to_strings.pop(1)\n",
    "print(nums_to_strings, val_at_1) "
   ]
  },
  {
   "cell_type": "markdown",
   "id": "broken-cardiff",
   "metadata": {
    "slideshow": {
     "slide_type": "slide"
    }
   },
   "source": [
    "# `dict` Methods: `popitem()`\n",
    "- Returns the key/value:\n",
    "    - Last In First Out (LIFO) order. (Python 3.7+)\n",
    "    - Arbitrary order (Python < 3.7)"
   ]
  },
  {
   "cell_type": "code",
   "execution_count": 17,
   "id": "boxed-number",
   "metadata": {},
   "outputs": [
    {
     "name": "stdout",
     "output_type": "stream",
     "text": [
      "{1: 'one', 2: 'two'}\n",
      "(3, 'three')\n"
     ]
    }
   ],
   "source": [
    "nums_to_strings = {1:\"one\", 2:\"two\", 3:\"three\"}\n",
    "val_at_1 = nums_to_strings.popitem()\n",
    "print(nums_to_strings)\n",
    "print(val_at_1)"
   ]
  },
  {
   "cell_type": "markdown",
   "id": "cultural-portland",
   "metadata": {
    "slideshow": {
     "slide_type": "slide"
    }
   },
   "source": [
    "# `dict` Methods: `setdefault()`\n",
    "- If the key argument that is passed to the method exists in the dictionary, then it is returned. If it not in the dictionary, then an optional default argument can be used. If no default argument is provided, the it is set to `None` "
   ]
  },
  {
   "cell_type": "markdown",
   "id": "alpine-software",
   "metadata": {
    "slideshow": {
     "slide_type": "slide"
    }
   },
   "source": [
    "# Quick aside: `None` and `pass`\n",
    "\n",
    "- `None` is a special type in python that is intended to represent the absence information. \n",
    "- It usually means, \"Not Anything\" or \"null\"\n",
    "- `pass` is a placeholder statement in Python that doesn't perform any actions but can be used to ensure no syntax errors, i.e:\n",
    "\n",
    "```python\n",
    "if [boolean]:\n",
    "    pass\n",
    "else:\n",
    "    pass\n",
    "```"
   ]
  },
  {
   "cell_type": "markdown",
   "id": "danish-colon",
   "metadata": {
    "slideshow": {
     "slide_type": "slide"
    }
   },
   "source": [
    "# `dict` Methods: `setdefault()`\n",
    "- If the key argument that is passed to the method exists in the dictionary, then it is returned. If it not in the dictionary, then an optional default argument can be used. If no default argument is provided, the it is set to `None` "
   ]
  },
  {
   "cell_type": "code",
   "execution_count": 19,
   "id": "particular-guatemala",
   "metadata": {},
   "outputs": [
    {
     "name": "stdout",
     "output_type": "stream",
     "text": [
      "{1: 'one', 2: 'two'} two\n",
      "{1: 'one', 2: 'two', 3: 'three'} three\n"
     ]
    }
   ],
   "source": [
    "nums_to_strings = {1:\"one\", 2:\"two\"}\n",
    "\n",
    "val_at_2 = nums_to_strings.setdefault(2, \"three\")\n",
    "print(nums_to_strings, val_at_2)\n",
    "\n",
    "val_at_3 = nums_to_strings.setdefault(3, \"three\")\n",
    "print(nums_to_strings, val_at_3)"
   ]
  },
  {
   "cell_type": "markdown",
   "id": "cordless-seventh",
   "metadata": {
    "slideshow": {
     "slide_type": "slide"
    }
   },
   "source": [
    "# `dict` Methods: `update()`\n",
    "- Merges the dictionary that the method is being called on with the one that is passed as an argument in the method "
   ]
  },
  {
   "cell_type": "code",
   "execution_count": 1,
   "id": "endless-hands",
   "metadata": {},
   "outputs": [
    {
     "name": "stdout",
     "output_type": "stream",
     "text": [
      "{1: 'one', 2: 'two'}\n",
      "{1: 'one', 2: 'two', 3: 'three'}\n"
     ]
    }
   ],
   "source": [
    "nums_to_strings = {1:\"one\", 2:\"two\"}\n",
    "print(nums_to_strings)\n",
    "\n",
    "nums_to_strings_three = {3:\"three\"}\n",
    "nums_to_strings.update(nums_to_strings_three)\n",
    "print(nums_to_strings)"
   ]
  },
  {
   "cell_type": "markdown",
   "id": "charitable-steal",
   "metadata": {
    "slideshow": {
     "slide_type": "slide"
    }
   },
   "source": [
    "# Built-in Functions That are Compatible With `dict`s\n",
    "\n",
    "- `len()` returns the number of items in a `dict`\n",
    "- `list()` returns the keys in the dictionary as a list"
   ]
  },
  {
   "cell_type": "code",
   "execution_count": 23,
   "id": "amber-picking",
   "metadata": {},
   "outputs": [
    {
     "name": "stdout",
     "output_type": "stream",
     "text": [
      "{1: 'one', 2: 'two'}\n",
      "There are 2 items in the dictionary\n",
      "The following keys are in the dictionary: [1, 2]\n"
     ]
    }
   ],
   "source": [
    "nums_to_strings = {1:\"one\", 2:\"two\"}\n",
    "print(nums_to_strings)\n",
    "print(\"There are\", len(nums_to_strings), \"items in the dictionary\")\n",
    "print(\"The following keys are in the dictionary:\", list(nums_to_strings))"
   ]
  },
  {
   "cell_type": "markdown",
   "id": "small-calcium",
   "metadata": {
    "slideshow": {
     "slide_type": "slide"
    }
   },
   "source": [
    "# Sets\n",
    "- `set`s are an **unordered** collection containing **no** duplicates \n",
    "- They are functionally similar to mathematical sets. We can perform common set operations like:\n",
    "    - membership\n",
    "    - subsets\n",
    "    - supersets\n",
    "    - intersections\n",
    "    - etc ..."
   ]
  },
  {
   "cell_type": "markdown",
   "id": "affecting-college",
   "metadata": {
    "slideshow": {
     "slide_type": "slide"
    }
   },
   "source": [
    "# `set`: instantiation (creation)\n",
    "\n",
    "- Sets can be created a few ways. Today we'll go over two ways: curly braces `{}` and the type constructor `set()`"
   ]
  },
  {
   "cell_type": "code",
   "execution_count": 4,
   "id": "moved-former",
   "metadata": {},
   "outputs": [
    {
     "name": "stdout",
     "output_type": "stream",
     "text": [
      "{1, 2, 5} {1, 2, 5}\n"
     ]
    }
   ],
   "source": [
    "a_set = {1, 2, 5}\n",
    "another_set = set([1, 2, 5])\n",
    "\n",
    "print(a_set, another_set)"
   ]
  },
  {
   "cell_type": "markdown",
   "id": "attractive-attitude",
   "metadata": {
    "slideshow": {
     "slide_type": "slide"
    }
   },
   "source": [
    "# Common `set` operations: Membership\n",
    "\n",
    "- You can use the membership operators `in` and `not in` to see if a value is a member of the set"
   ]
  },
  {
   "cell_type": "code",
   "execution_count": 29,
   "id": "large-symphony",
   "metadata": {},
   "outputs": [
    {
     "name": "stdout",
     "output_type": "stream",
     "text": [
      "True\n"
     ]
    }
   ],
   "source": [
    "a_set = {1, 2, 5}\n",
    "val = 2\n",
    "\n",
    "print(val in a_set)"
   ]
  },
  {
   "cell_type": "markdown",
   "id": "charged-victor",
   "metadata": {
    "slideshow": {
     "slide_type": "slide"
    }
   },
   "source": [
    "# Common `set` operations: isdisjoint()\n",
    "\n",
    "- The `isdisjoint()` methods returns `True` if the two sets don't have any elements in common"
   ]
  },
  {
   "cell_type": "code",
   "execution_count": 31,
   "id": "local-notification",
   "metadata": {},
   "outputs": [
    {
     "data": {
      "text/plain": [
       "True"
      ]
     },
     "execution_count": 31,
     "metadata": {},
     "output_type": "execute_result"
    }
   ],
   "source": [
    "a_set = {1, 2, 3}\n",
    "another_set = {4, 5, 6}\n",
    "\n",
    "a_set.isdisjoint(another_set)"
   ]
  },
  {
   "cell_type": "markdown",
   "id": "downtown-incident",
   "metadata": {
    "slideshow": {
     "slide_type": "slide"
    }
   },
   "source": [
    "# Common `set` operations: subset\n",
    "\n",
    "- `issubset()` and `<=` will test if all of the elements in the set on the left side are in the set on the right side.\n",
    "- `<` will test if the set on the left is a proper subset."
   ]
  },
  {
   "cell_type": "code",
   "execution_count": 5,
   "id": "artistic-fundamental",
   "metadata": {},
   "outputs": [
    {
     "name": "stdout",
     "output_type": "stream",
     "text": [
      "True\n",
      "True\n",
      "False\n"
     ]
    }
   ],
   "source": [
    "a_set = {1, 2, 3}\n",
    "another_set = {1, 2, 3}\n",
    "\n",
    "print(a_set.issubset(another_set))\n",
    "print(a_set <= another_set)\n",
    "print(a_set < another_set)"
   ]
  },
  {
   "cell_type": "markdown",
   "id": "alpine-victorian",
   "metadata": {
    "slideshow": {
     "slide_type": "slide"
    }
   },
   "source": [
    "# Common `set` operations: superset\n",
    "\n",
    "- `issuperset()` and `>=` will test if all of the elements in the set on the right side are in the set on the left side.\n",
    "- `>` will test if the set on the left is a proper superset."
   ]
  },
  {
   "cell_type": "code",
   "execution_count": 35,
   "id": "taken-vegetable",
   "metadata": {},
   "outputs": [
    {
     "name": "stdout",
     "output_type": "stream",
     "text": [
      "True\n",
      "True\n",
      "True\n"
     ]
    }
   ],
   "source": [
    "a_set = {1, 2, 3, 4}\n",
    "another_set = {1, 2, 3}\n",
    "\n",
    "print(a_set.issuperset(another_set))\n",
    "print(a_set >= another_set)\n",
    "print(a_set > another_set)"
   ]
  },
  {
   "cell_type": "markdown",
   "id": "limiting-dollar",
   "metadata": {
    "slideshow": {
     "slide_type": "slide"
    }
   },
   "source": [
    "# Common `set` operations: union and intersection\n",
    "\n",
    "- `union()` and `|` will return the union of the set on the left and the set on the right.\n",
    "- `intersection()` and `&` will return the intersection of the set on the left and on the right"
   ]
  },
  {
   "cell_type": "code",
   "execution_count": 36,
   "id": "sealed-nursing",
   "metadata": {},
   "outputs": [
    {
     "name": "stdout",
     "output_type": "stream",
     "text": [
      "{1, 2, 3, 4}\n",
      "{2, 3}\n"
     ]
    }
   ],
   "source": [
    "a_set = {1, 2, 3}\n",
    "another_set = {2, 3, 4}\n",
    "\n",
    "print(a_set | another_set)\n",
    "print(a_set & another_set)"
   ]
  },
  {
   "cell_type": "markdown",
   "id": "widespread-insertion",
   "metadata": {
    "slideshow": {
     "slide_type": "slide"
    }
   },
   "source": [
    "# Common `set` operations: difference and symmetric difference \n",
    "\n",
    "- `difference()` and `-` will return a new set with the elements in the set on the left that are not in the set on the right\n",
    "- `symmetric_difference()` and `^` will return a new set containing the elements that both sets don't have in common"
   ]
  },
  {
   "cell_type": "code",
   "execution_count": 37,
   "id": "overall-feature",
   "metadata": {},
   "outputs": [
    {
     "name": "stdout",
     "output_type": "stream",
     "text": [
      "{1}\n",
      "{1, 4}\n"
     ]
    }
   ],
   "source": [
    "a_set = {1, 2, 3}\n",
    "another_set = {2, 3, 4}\n",
    "\n",
    "print(a_set - another_set)\n",
    "print(a_set ^ another_set)"
   ]
  },
  {
   "cell_type": "markdown",
   "id": "accomplished-ireland",
   "metadata": {
    "slideshow": {
     "slide_type": "slide"
    }
   },
   "source": [
    "# `set` Methods: `add()`\n",
    "- `add()` adds the given element to the set"
   ]
  },
  {
   "cell_type": "code",
   "execution_count": 6,
   "id": "checked-jenny",
   "metadata": {},
   "outputs": [
    {
     "name": "stdout",
     "output_type": "stream",
     "text": [
      "{1, 2, 3, 5.0, '4'}\n"
     ]
    }
   ],
   "source": [
    "a_set = {1, 2, 3}\n",
    "a_set.add(\"4\")\n",
    "a_set.add(5.0)\n",
    "a_set.add(2)\n",
    "print(a_set)"
   ]
  },
  {
   "cell_type": "markdown",
   "id": "monthly-hartford",
   "metadata": {
    "slideshow": {
     "slide_type": "slide"
    }
   },
   "source": [
    "# `set` Methods: `remove()` & `discard()`\n",
    "- `remove()` removes the given element from the set and raises an error if the element isn't in the set\n",
    "- `discard()` removes the given element from the set and **doesn't** raise an error if the element isn't in the set"
   ]
  },
  {
   "cell_type": "code",
   "execution_count": 9,
   "id": "hollow-dakota",
   "metadata": {},
   "outputs": [
    {
     "name": "stdout",
     "output_type": "stream",
     "text": [
      "{1, 3, 5}\n"
     ]
    }
   ],
   "source": [
    "a_set = {1, 2, 3, 5}\n",
    "a_set.remove(2)\n",
    "a_set.discard(4)\n",
    "print(a_set)"
   ]
  },
  {
   "cell_type": "markdown",
   "id": "constitutional-algebra",
   "metadata": {
    "slideshow": {
     "slide_type": "slide"
    }
   },
   "source": [
    "# `set` Methods: `pop()` & `clear()`\n",
    "- `pop()` removes and returns an arbitrary element from the set\n",
    "- `clear()` removes all elements from the set"
   ]
  },
  {
   "cell_type": "code",
   "execution_count": 46,
   "id": "moderate-company",
   "metadata": {},
   "outputs": [
    {
     "name": "stdout",
     "output_type": "stream",
     "text": [
      "1\n",
      "{2, 3}\n",
      "set()\n"
     ]
    }
   ],
   "source": [
    "a_set = {1, 2, 3}\n",
    "print(a_set.pop())\n",
    "print(a_set)\n",
    "a_set.clear()\n",
    "print(a_set)"
   ]
  },
  {
   "cell_type": "markdown",
   "id": "industrial-colon",
   "metadata": {
    "slideshow": {
     "slide_type": "slide"
    }
   },
   "source": [
    "# Built-in Functions That are Compatible With `set`s\n",
    "\n",
    "- `len()` returns the number of items in a `set`"
   ]
  },
  {
   "cell_type": "code",
   "execution_count": 47,
   "id": "abandoned-maryland",
   "metadata": {},
   "outputs": [
    {
     "name": "stdout",
     "output_type": "stream",
     "text": [
      "{1, 2, 3}\n",
      "There are 3 elements in the set\n"
     ]
    }
   ],
   "source": [
    "a_set = {1, 2, 3}\n",
    "print(a_set)\n",
    "print(\"There are\", len(a_set), \"elements in the set\")"
   ]
  },
  {
   "cell_type": "markdown",
   "id": "mathematical-shaft",
   "metadata": {
    "slideshow": {
     "slide_type": "slide"
    }
   },
   "source": [
    "# What's Due Next?\n",
    "\n",
    "- zybooks Chapter 3 due April 18th 11:59 PM\n",
    "- Assignment 2 due April 25th 11:59 PM"
   ]
  }
 ],
 "metadata": {
  "celltoolbar": "Slideshow",
  "kernelspec": {
   "display_name": "Python 3",
   "language": "python",
   "name": "python3"
  },
  "language_info": {
   "codemirror_mode": {
    "name": "ipython",
    "version": 3
   },
   "file_extension": ".py",
   "mimetype": "text/x-python",
   "name": "python",
   "nbconvert_exporter": "python",
   "pygments_lexer": "ipython3",
   "version": "3.8.8"
  },
  "rise": {
   "autolaunch": true,
   "transition": "none"
  }
 },
 "nbformat": 4,
 "nbformat_minor": 5
}
