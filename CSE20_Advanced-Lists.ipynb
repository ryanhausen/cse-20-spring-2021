{
 "cells": [
  {
   "cell_type": "markdown",
   "id": "personalized-morning",
   "metadata": {
    "slideshow": {
     "slide_type": "slide"
    }
   },
   "source": [
    "# Beginning Programming in Python\n",
    "\n",
    "### Advanced Lists\n",
    "#### CSE20 - Spring 2021\n",
    "\n",
    "\n",
    "Interactive Slides: [https://tinyurl.com/cse20-spr21-advanced-lists](https://tinyurl.com/cse20-spr21-advanced-lists)"
   ]
  },
  {
   "cell_type": "markdown",
   "id": "visible-cream",
   "metadata": {
    "slideshow": {
     "slide_type": "slide"
    }
   },
   "source": [
    "# List: Slicing\n",
    "\n",
    "- Lists can be sliced using slice notation `[start:stop:step]`"
   ]
  },
  {
   "cell_type": "code",
   "execution_count": null,
   "id": "exotic-flight",
   "metadata": {},
   "outputs": [],
   "source": [
    "states = [\n",
    "    \"California\", \"Arizona\", \"Washington\", \n",
    "    \"Alabama\", \"Utah\", \"Wyoming\"\n",
    "]\n",
    "\n",
    "print(states[:1])\n",
    "print(states[::2])\n",
    "print(states[::-1])"
   ]
  },
  {
   "cell_type": "markdown",
   "id": "right-blair",
   "metadata": {
    "slideshow": {
     "slide_type": "slide"
    }
   },
   "source": [
    "# List: Methods\n",
    "\n",
    "- `list.append(value)` appends `value` to the end of the list\n",
    "- `list.insert(i, value)` inserts `value` at index `i`\n",
    "- `list.index(value)` returns the index location for `value`\n",
    "- `list.count(value)` returns the number of occurrences in the list\n",
    "- More methods on `list` objects can be seen in the [Python List Documentation](https://docs.python.org/3/tutorial/datastructures.html#more-on-lists)\n"
   ]
  },
  {
   "cell_type": "markdown",
   "id": "lovely-opening",
   "metadata": {
    "slideshow": {
     "slide_type": "slide"
    }
   },
   "source": [
    "# Nested Lists\n",
    "\n",
    "- `list`s can contain other collections\n",
    "- `list`s can contain functions"
   ]
  },
  {
   "cell_type": "code",
   "execution_count": null,
   "id": "herbal-nitrogen",
   "metadata": {},
   "outputs": [],
   "source": [
    "collections = [\n",
    "    [0, 1, 2],\n",
    "    [3, 4, 5],\n",
    "]\n",
    "\n",
    "functions = [\n",
    "    lambda x: max(x),\n",
    "    lambda x: sum(x),\n",
    "]\n",
    "\n",
    "for f in functions:\n",
    "    for c in collections:\n",
    "        print(f(c))"
   ]
  },
  {
   "cell_type": "markdown",
   "id": "awful-hurricane",
   "metadata": {
    "slideshow": {
     "slide_type": "slide"
    }
   },
   "source": [
    "# List Modification\n",
    "\n",
    "- Slice/index notation can be used to set values in a list"
   ]
  },
  {
   "cell_type": "code",
   "execution_count": null,
   "id": "south-equality",
   "metadata": {},
   "outputs": [],
   "source": [
    "states = [\"Arizona\", \"California\", \"Arkansas\"]\n",
    "print(states)\n",
    "states[-1] = \"Washington\"\n",
    "print(states)"
   ]
  },
  {
   "cell_type": "markdown",
   "id": "acoustic-depression",
   "metadata": {
    "slideshow": {
     "slide_type": "slide"
    }
   },
   "source": [
    "# List Comprehensions\n",
    "\n",
    "- List comprehensions are a way that we can create lists\n",
    "- Values in the `loop_var` can be filtered by adding a `if` expression\n",
    "\n",
    "```python\n",
    "list_var = [expression for loop_var in iterable]\n",
    "filtered_list_var = [expression for loop_var in iterable if bool_expression]\n",
    "```"
   ]
  },
  {
   "cell_type": "code",
   "execution_count": null,
   "id": "impressive-campus",
   "metadata": {},
   "outputs": [],
   "source": [
    "squared_numbers = [x**2 for x in range(10)]\n",
    "squared_even_numbers = [x**2 for x in range(10) if x % 2 == 0]\n",
    "print(squared_numbers)\n",
    "print(squared_even_numbers)"
   ]
  },
  {
   "cell_type": "markdown",
   "id": "quality-prairie",
   "metadata": {
    "slideshow": {
     "slide_type": "slide"
    }
   },
   "source": [
    "# List Comprehensions"
   ]
  },
  {
   "cell_type": "code",
   "execution_count": null,
   "id": "immune-wallet",
   "metadata": {},
   "outputs": [],
   "source": [
    "squared_numbers = [x**2 for x in range(10)]\n",
    "\n",
    "squared_numbers = []\n",
    "for x in range(10):\n",
    "    squared_numbers.append(x**2)"
   ]
  },
  {
   "cell_type": "markdown",
   "id": "voluntary-humidity",
   "metadata": {
    "slideshow": {
     "slide_type": "slide"
    }
   },
   "source": [
    "# List Comprehensions"
   ]
  },
  {
   "cell_type": "code",
   "execution_count": null,
   "id": "musical-johnston",
   "metadata": {},
   "outputs": [],
   "source": [
    "squared_even_numbers = [x**2 for x in range(10) if x % 2 == 0]\n",
    "\n",
    "squared_even_numbers = []\n",
    "for x in range(10):\n",
    "    if x % 2 == 0:\n",
    "        squared_even_numbers.append(x**2)"
   ]
  },
  {
   "cell_type": "markdown",
   "id": "concerned-video",
   "metadata": {
    "slideshow": {
     "slide_type": "slide"
    }
   },
   "source": [
    "# List Sorting with key\n",
    "\n",
    "- If it is the case that the list can't be easily sorted, the you can use `key` argument with the `list.sort()` method"
   ]
  },
  {
   "cell_type": "code",
   "execution_count": null,
   "id": "extended-variation",
   "metadata": {},
   "outputs": [],
   "source": [
    "values = [\n",
    "    (\"Wyoming\", 0),\n",
    "    (\"California\", 1),\n",
    "    (\"Arizona\", 2)\n",
    "]\n",
    "values.sort()\n",
    "print(values)\n",
    "values.sort(key = lambda x: x[1])\n",
    "print(values)"
   ]
  },
  {
   "cell_type": "markdown",
   "id": "acting-enterprise",
   "metadata": {
    "slideshow": {
     "slide_type": "slide"
    }
   },
   "source": [
    "# What's Due Next?\n",
    "\n",
    "- zybooks Chapters 9&10 due May 23rd 11:59 PM\n",
    "- Assignment 4 due May 23rd 11:59 PM"
   ]
  }
 ],
 "metadata": {
  "celltoolbar": "Slideshow",
  "kernelspec": {
   "display_name": "Python 3",
   "language": "python",
   "name": "python3"
  },
  "language_info": {
   "codemirror_mode": {
    "name": "ipython",
    "version": 3
   },
   "file_extension": ".py",
   "mimetype": "text/x-python",
   "name": "python",
   "nbconvert_exporter": "python",
   "pygments_lexer": "ipython3",
   "version": "3.8.8"
  },
  "rise": {
   "autolaunch": true,
   "transition": "none"
  }
 },
 "nbformat": 4,
 "nbformat_minor": 5
}
