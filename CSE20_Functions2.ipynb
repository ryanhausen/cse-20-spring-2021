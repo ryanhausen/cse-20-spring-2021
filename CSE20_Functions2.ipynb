{
 "cells": [
  {
   "cell_type": "markdown",
   "id": "driven-stephen",
   "metadata": {
    "slideshow": {
     "slide_type": "slide"
    }
   },
   "source": [
    "# Beginning Programming in Python\n",
    "\n",
    "### Functions 2\n",
    "#### CSE20 - Spring 2021\n",
    "\n",
    "\n",
    "Interactive Slides: [https://tinyurl.com/cse20-spr21-functions2](https://tinyurl.com/cse20-spr21-functions2)"
   ]
  },
  {
   "cell_type": "markdown",
   "id": "latin-cache",
   "metadata": {
    "slideshow": {
     "slide_type": "slide"
    }
   },
   "source": [
    "# Functions\n",
    "\n",
    "- Often it's the case that we want to do something repetitively.\n",
    "- When we're working with collections we can use `for` loops\n",
    "- When we're working with some sort of boolean condition we can use `while` loops\n",
    "- For other situations we can use `functions` \n",
    "- Using `functions` can also help organize code into smaller, more manageable, pieces"
   ]
  },
  {
   "cell_type": "markdown",
   "id": "alone-valve",
   "metadata": {
    "slideshow": {
     "slide_type": "slide"
    }
   },
   "source": [
    "# Functions\n",
    "\n",
    "```python\n",
    "def f1():\n",
    "    # code here\n",
    "    return # something or None\n",
    "def f2(arg1):\n",
    "    # code here\n",
    "    return # something or None\n",
    "def f3(arg1, arg2):\n",
    "    # code here\n",
    "    return # something or None\n",
    "```"
   ]
  },
  {
   "cell_type": "markdown",
   "id": "initial-mainstream",
   "metadata": {
    "slideshow": {
     "slide_type": "slide"
    }
   },
   "source": [
    "# Functions: Argument Types\n",
    "- **Positional Arguments**: These arguments are assigned based on position in the function call\n",
    "- **Default Arguments**: These arguments have values defined in the function definition and do not have to be passed when the function is called.\n",
    "- **Keyword Arguments**: These are arguments that are specified by using `argname=value` when calling the function"
   ]
  },
  {
   "cell_type": "markdown",
   "id": "eight-academy",
   "metadata": {
    "slideshow": {
     "slide_type": "slide"
    }
   },
   "source": [
    "# Functions: Positional Arguments\n",
    "- When functions use positional arguments, the order is important"
   ]
  },
  {
   "cell_type": "code",
   "execution_count": null,
   "id": "opened-fourth",
   "metadata": {},
   "outputs": [],
   "source": [
    "def item_cost_calculator(cost, quantity, tax):\n",
    "    total = (cost * quantity) + (cost * quantity * tax)\n",
    "    return \"{:.2f}\".format(total)\n",
    "\n",
    "cst, qty, tax = 9.99, 1, 0.0975\n",
    "\n",
    "total = item_cost_calculator(cst, qty, tax)\n",
    "\n",
    "msg = \"{} item(s) with cost of {} and {}% tax costs:${}\"\n",
    "print(msg.format(qty, cst, tax, total))"
   ]
  },
  {
   "cell_type": "markdown",
   "id": "isolated-distance",
   "metadata": {
    "slideshow": {
     "slide_type": "slide"
    }
   },
   "source": [
    "# Functions: Default Arguments\n",
    "- Functions can have default arguments\n",
    "- If generally the argument will be the same, or we would like to steer the user to particular value we set the argument to that value by default"
   ]
  },
  {
   "cell_type": "code",
   "execution_count": null,
   "id": "heated-savannah",
   "metadata": {},
   "outputs": [],
   "source": [
    "def item_cost_calculator(cost, quantity, tax=0.0975):\n",
    "    total = (cost * quantity) + (cost * quantity * tax)\n",
    "    return \"{:.2f}\".format(total)\n",
    "\n",
    "cst, qty = 9.99, 1\n",
    "total = item_cost_calculator(cst, qty)\n",
    "msg = \"{} item(s) with cost of {} costs:${} including tax\"\n",
    "print(msg.format(qty, cst, total))"
   ]
  },
  {
   "cell_type": "markdown",
   "id": "racial-aquatic",
   "metadata": {
    "slideshow": {
     "slide_type": "slide"
    }
   },
   "source": [
    "# Functions: Keyword Arguments\n",
    "- When using keyword arguments the order doesn't matter, but the keyword must match the name used for the argument in the function definition.\n",
    "- Any positional arguments must come before keyword arguments"
   ]
  },
  {
   "cell_type": "code",
   "execution_count": null,
   "id": "asian-implement",
   "metadata": {},
   "outputs": [],
   "source": [
    "def item_cost_calculator(cost, quantity, tax=0.0975):\n",
    "    total = (cost * quantity) + (cost * quantity * tax)\n",
    "    return \"{:.2f}\".format(total)\n",
    "\n",
    "cst, qty = 9.99, 1\n",
    "total = item_cost_calculator(quantity=qty, cost=cst)\n",
    "msg = \"{} item(s) with cost of {} costs:${} including tax\"\n",
    "print(msg.format(qty, cst, total))"
   ]
  },
  {
   "cell_type": "markdown",
   "id": "tropical-colony",
   "metadata": {
    "slideshow": {
     "slide_type": "slide"
    }
   },
   "source": [
    "# Functions: Arbitrary Number Positional Arguments\n",
    "\n",
    "- If you want your function to accept an arbitrary number of positional argument use `*args`"
   ]
  },
  {
   "cell_type": "code",
   "execution_count": null,
   "id": "breeding-possibility",
   "metadata": {},
   "outputs": [],
   "source": [
    "def print_prices(*item_prices):\n",
    "    print(type(item_prices))\n",
    "    for price in item_prices:\n",
    "        print(\"{:.2f}\".format(price))\n",
    "\n",
    "print_prices(12.324, 12.1, 45.123, 90.0001)"
   ]
  },
  {
   "cell_type": "markdown",
   "id": "dated-canyon",
   "metadata": {
    "slideshow": {
     "slide_type": "slide"
    }
   },
   "source": [
    "# Functions: Arbitrary Number Keyword Arguments\n",
    "\n",
    "- If you want your function to accept an arbitrary number of positional argument use `**kwargs`"
   ]
  },
  {
   "cell_type": "code",
   "execution_count": null,
   "id": "liberal-bible",
   "metadata": {},
   "outputs": [],
   "source": [
    "def print_prices(**item_prices):\n",
    "    print(type(item_prices))\n",
    "    for item, price in item_prices.items():\n",
    "        print(\"{}:${:.2f}\".format(item,price))\n",
    "\n",
    "print_prices(apple=12.324, banana=12.1, carrot=45.123)"
   ]
  },
  {
   "cell_type": "markdown",
   "id": "lonely-pursuit",
   "metadata": {
    "slideshow": {
     "slide_type": "slide"
    }
   },
   "source": [
    "# Functions: Arbitrary Number Positional and Keyword Arguments"
   ]
  },
  {
   "cell_type": "code",
   "execution_count": null,
   "id": "early-commerce",
   "metadata": {},
   "outputs": [],
   "source": [
    "def print_everything(*args, **kwargs):\n",
    "    for arg in args:\n",
    "        print(arg)\n",
    "    for key, value in kwargs.items():\n",
    "        print(\"{}:{}\".format(key, value))\n",
    "        \n",
    "print_everything(\"Hello\", \"There\", price=10, tax=0.75)"
   ]
  },
  {
   "cell_type": "markdown",
   "id": "enormous-mount",
   "metadata": {
    "slideshow": {
     "slide_type": "slide"
    }
   },
   "source": [
    "# Functions Can Also Be Arguments\n",
    "\n",
    "- Functions can be arguments(keyword/positonal) just like anything else"
   ]
  },
  {
   "cell_type": "code",
   "execution_count": null,
   "id": "authentic-trader",
   "metadata": {},
   "outputs": [],
   "source": [
    "def sum_two_numbers(a, b):\n",
    "    return a + b\n",
    "\n",
    "def apply_f(f, a, b):\n",
    "    return f(a, b)\n",
    "\n",
    "num1, num2 = 3, 2\n",
    "result = apply_f(sum_two_numbers, 3, 2)\n",
    "print(result)"
   ]
  },
  {
   "cell_type": "markdown",
   "id": "streaming-boutique",
   "metadata": {
    "slideshow": {
     "slide_type": "slide"
    }
   },
   "source": [
    "# Functions Can Return Multiple Values\n",
    "- When you return multiple values they are returned as a `tuple` and so you can unpack the values"
   ]
  },
  {
   "cell_type": "code",
   "execution_count": null,
   "id": "informal-semiconductor",
   "metadata": {},
   "outputs": [],
   "source": [
    "def triplicate(value):\n",
    "    return value, value, value\n",
    "\n",
    "cp123 = triplicate(4)\n",
    "cp1, cp2, cp3 = triplicate(4)\n",
    "print(cp123, cp1, cp2, cp3)"
   ]
  },
  {
   "cell_type": "markdown",
   "id": "crucial-consolidation",
   "metadata": {
    "slideshow": {
     "slide_type": "slide"
    }
   },
   "source": [
    "# Functions: `lambda`s\n",
    "\n",
    "- Also called `inline` or `anonymous` functions. These functions are declared differently and can only span a single line of code.\n",
    "- They are commonly used where a small quick function is needed.\n",
    "- They implicitly return the result of the statement after the `:`\n",
    "\n",
    "```python\n",
    "sqr = lambda arg1: arg1**2\n",
    "add = lambda arg1, arg2: arg1+arg2\n",
    "```"
   ]
  },
  {
   "cell_type": "markdown",
   "id": "convenient-insider",
   "metadata": {
    "slideshow": {
     "slide_type": "slide"
    }
   },
   "source": [
    "# Functions: `lambda`s\n",
    "- Text coloring via [ANSI Escape Sequences](https://en.wikipedia.org/wiki/ANSI_escape_code#Colors)"
   ]
  },
  {
   "cell_type": "code",
   "execution_count": null,
   "id": "enhanced-parts",
   "metadata": {},
   "outputs": [],
   "source": [
    "red = lambda s:\"\\033[31m {}\\033[00m\" .format(s)\n",
    "blue = lambda s:\"\\033[34m {}\\033[00m\" .format(s)\n",
    "\n",
    "print(red(\"This is an emergency!\"))\n",
    "print(blue(\"This is a drill!\"))"
   ]
  },
  {
   "cell_type": "markdown",
   "id": "enclosed-palmer",
   "metadata": {
    "slideshow": {
     "slide_type": "slide"
    }
   },
   "source": [
    "# What's Due Next?\n",
    "\n",
    "- zybooks Chapter 5 & 6 due May 9th 11:59 PM\n",
    "- Assignment 3 due May 9 11:59 PM"
   ]
  }
 ],
 "metadata": {
  "celltoolbar": "Slideshow",
  "kernelspec": {
   "display_name": "Python 3",
   "language": "python",
   "name": "python3"
  },
  "language_info": {
   "codemirror_mode": {
    "name": "ipython",
    "version": 3
   },
   "file_extension": ".py",
   "mimetype": "text/x-python",
   "name": "python",
   "nbconvert_exporter": "python",
   "pygments_lexer": "ipython3",
   "version": "3.8.8"
  },
  "rise": {
   "autolaunch": true,
   "transition": "none"
  }
 },
 "nbformat": 4,
 "nbformat_minor": 5
}
