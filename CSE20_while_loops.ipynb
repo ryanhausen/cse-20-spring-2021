{
 "cells": [
  {
   "cell_type": "markdown",
   "id": "controlling-valentine",
   "metadata": {
    "slideshow": {
     "slide_type": "slide"
    }
   },
   "source": [
    "# Beginning Programming in Python\n",
    "\n",
    "### While Loops\n",
    "#### CSE20 - Spring 2021\n",
    "\n",
    "\n",
    "Interactive Slides: [https://tinyurl.com/cse20-spr21-looping-while](https://tinyurl.com/cse20-spr21-looping-while)"
   ]
  },
  {
   "cell_type": "markdown",
   "id": "bored-collins",
   "metadata": {
    "slideshow": {
     "slide_type": "slide"
    }
   },
   "source": [
    "# Looping\n",
    "\n",
    "- Often in programming we want to perform similar actions repetitively.\n",
    "- The amount of times that we perform the action can be based on a logical condition(`while` loops), it can also be based on the elements in a collection(`for` loops)."
   ]
  },
  {
   "cell_type": "markdown",
   "id": "requested-realtor",
   "metadata": {
    "slideshow": {
     "slide_type": "slide"
    }
   },
   "source": [
    "# `while` Loop Syntax"
   ]
  },
  {
   "cell_type": "code",
   "execution_count": null,
   "id": "massive-poverty",
   "metadata": {},
   "outputs": [],
   "source": [
    "# `while` loop example\n",
    "i, max_val = 0, 10\n",
    "while i < max_val:\n",
    "    print(i, end=\" \")\n",
    "    i += 1"
   ]
  },
  {
   "cell_type": "markdown",
   "id": "integrated-centre",
   "metadata": {
    "slideshow": {
     "slide_type": "slide"
    }
   },
   "source": [
    "# `while` Loop Example: User Input"
   ]
  },
  {
   "cell_type": "code",
   "execution_count": null,
   "id": "dental-chorus",
   "metadata": {},
   "outputs": [],
   "source": [
    "user_input = float(input(\"Please enter a strictly positive value\"))\n",
    "\n",
    "while user_input <= 0:\n",
    "    user_input = float(input(\"Please enter a strictly positive value\"))\n",
    "\n",
    "print(\"You entered the positive value:\", user_input)"
   ]
  },
  {
   "cell_type": "markdown",
   "id": "looking-stranger",
   "metadata": {
    "slideshow": {
     "slide_type": "slide"
    }
   },
   "source": [
    "# `while` Loop Example: Greatest Common Denominator"
   ]
  },
  {
   "cell_type": "code",
   "execution_count": null,
   "id": "bronze-rates",
   "metadata": {},
   "outputs": [],
   "source": [
    "num_a, num_b = 19, 12\n",
    "\n",
    "while num_a != num_b:\n",
    "    if num_a > num_b:\n",
    "        num_a = num_a - num_b\n",
    "    else:\n",
    "        num_b = num_b - num_a\n",
    "\n",
    "print('GCD is {}'.format(num_a))"
   ]
  },
  {
   "cell_type": "markdown",
   "id": "flexible-pixel",
   "metadata": {
    "slideshow": {
     "slide_type": "slide"
    }
   },
   "source": [
    "# `while` Loop Example: `for` Loop"
   ]
  },
  {
   "cell_type": "code",
   "execution_count": null,
   "id": "introductory-thriller",
   "metadata": {},
   "outputs": [],
   "source": [
    "values = [1, 2, 3, 4]\n",
    "\n",
    "print(\"while loop\")\n",
    "idx = 0\n",
    "while idx < len(values):\n",
    "    value = values[idx]\n",
    "    # actions\n",
    "    print(value, end=\" \")\n",
    "    idx += 1\n",
    "    \n",
    "print(\"\\nfor loop\")\n",
    "for value in values:\n",
    "    # same actions\n",
    "    print(value, end=\" \")"
   ]
  },
  {
   "cell_type": "markdown",
   "id": "hungarian-wheat",
   "metadata": {
    "slideshow": {
     "slide_type": "slide"
    }
   },
   "source": [
    "# What's Due Next?\n",
    "\n",
    "- zybooks Chapter 4 due April 25th 11:59 PM\n",
    "- Assignment 2 due April 25th 11:59 PM"
   ]
  }
 ],
 "metadata": {
  "celltoolbar": "Slideshow",
  "kernelspec": {
   "display_name": "Python 3",
   "language": "python",
   "name": "python3"
  },
  "language_info": {
   "codemirror_mode": {
    "name": "ipython",
    "version": 3
   },
   "file_extension": ".py",
   "mimetype": "text/x-python",
   "name": "python",
   "nbconvert_exporter": "python",
   "pygments_lexer": "ipython3",
   "version": "3.8.8"
  },
  "rise": {
   "autolaunch": true,
   "transition": "none"
  }
 },
 "nbformat": 4,
 "nbformat_minor": 5
}
