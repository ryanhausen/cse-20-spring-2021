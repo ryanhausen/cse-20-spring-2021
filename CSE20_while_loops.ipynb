{
 "cells": [
  {
   "cell_type": "markdown",
   "id": "controlling-valentine",
   "metadata": {
    "slideshow": {
     "slide_type": "slide"
    }
   },
   "source": [
    "# Beginning Programming in Python\n",
    "\n",
    "### `while` Loops/`break`/`continue`\n",
    "#### CSE20 - Spring 2021\n",
    "\n",
    "\n",
    "Interactive Slides: [https://tinyurl.com/cse20-spr21-looping-while](https://tinyurl.com/cse20-spr21-looping-while)"
   ]
  },
  {
   "cell_type": "markdown",
   "id": "bored-collins",
   "metadata": {
    "slideshow": {
     "slide_type": "slide"
    }
   },
   "source": [
    "# Looping\n",
    "\n",
    "- Often in programming we want to perform similar actions repetitively.\n",
    "- The amount of times that we perform the action can be based on a logical condition(`while` loops), it can also be based on the elements in a collection(`for` loops)."
   ]
  },
  {
   "cell_type": "markdown",
   "id": "animal-reward",
   "metadata": {
    "slideshow": {
     "slide_type": "slide"
    }
   },
   "source": [
    "# `while` Loop\n",
    "- Executes the block of code within scope of the loop *while* the value in the loop declaration is `True`\n",
    "\n",
    "```python\n",
    "while [boolean]:\n",
    "    # code to execute\n",
    "```"
   ]
  },
  {
   "cell_type": "markdown",
   "id": "requested-realtor",
   "metadata": {
    "slideshow": {
     "slide_type": "slide"
    }
   },
   "source": [
    "# `while` Loop Example"
   ]
  },
  {
   "cell_type": "code",
   "execution_count": 1,
   "id": "massive-poverty",
   "metadata": {},
   "outputs": [
    {
     "name": "stdout",
     "output_type": "stream",
     "text": [
      "0 1 2 3 4 5 6 7 8 9 \n",
      "loop complete\n"
     ]
    }
   ],
   "source": [
    "i= 0\n",
    "max_val = 10\n",
    "while i < max_val:\n",
    "    print(i, end=\" \")\n",
    "    i += 1\n",
    "print()\n",
    "print(\"loop complete\") "
   ]
  },
  {
   "cell_type": "markdown",
   "id": "integrated-centre",
   "metadata": {
    "slideshow": {
     "slide_type": "slide"
    }
   },
   "source": [
    "# `while` Loop Example: User Input"
   ]
  },
  {
   "cell_type": "code",
   "execution_count": 4,
   "id": "6a4d0292",
   "metadata": {},
   "outputs": [
    {
     "name": "stdout",
     "output_type": "stream",
     "text": [
      "exit\n",
      "['exit']\n"
     ]
    }
   ],
   "source": [
    "ui = input().split()\n",
    "\n",
    "print(ui)\n",
    "\n",
    "#assume work"
   ]
  },
  {
   "cell_type": "code",
   "execution_count": 2,
   "id": "dental-chorus",
   "metadata": {},
   "outputs": [
    {
     "name": "stdout",
     "output_type": "stream",
     "text": [
      "Please enter a strictly positive value:-1\n",
      "Please enter a strictly positive value-2\n",
      "Please enter a strictly positive value4\n",
      "You entered the positive value: 4.0\n"
     ]
    }
   ],
   "source": [
    "user_input = float(input(\"Please enter a strictly positive value:\"))\n",
    "\n",
    "while user_input <= 0:\n",
    "    user_input = float(input(\"Please enter a strictly positive value\"))\n",
    "\n",
    "print(\"You entered the positive value:\", user_input)"
   ]
  },
  {
   "cell_type": "markdown",
   "id": "looking-stranger",
   "metadata": {
    "slideshow": {
     "slide_type": "slide"
    }
   },
   "source": [
    "# `while` Loop Example: Greatest Common Denominator"
   ]
  },
  {
   "cell_type": "code",
   "execution_count": null,
   "id": "bronze-rates",
   "metadata": {},
   "outputs": [],
   "source": [
    "num_a, num_b = 35, 37\n",
    "\n",
    "while num_a != num_b:\n",
    "    tmp_a, tmp_b = (num_a, num_b)\n",
    "    \n",
    "    if num_a > num_b:\n",
    "        num_a = num_a - num_b\n",
    "    else:\n",
    "        num_b = num_b - num_a\n",
    "        \n",
    "    print(tmp_a, tmp_b, \"->\", num_a, num_b)\n",
    "\n",
    "print('GCD is {}'.format(num_a))"
   ]
  },
  {
   "cell_type": "markdown",
   "id": "flexible-pixel",
   "metadata": {
    "slideshow": {
     "slide_type": "slide"
    }
   },
   "source": [
    "# `while` Loop Example: `for` Loop"
   ]
  },
  {
   "cell_type": "code",
   "execution_count": null,
   "id": "introductory-thriller",
   "metadata": {},
   "outputs": [],
   "source": [
    "values = [1, 2, 3, 4]\n",
    "\n",
    "print(\"while loop\")\n",
    "idx = 0\n",
    "while idx < len(values):\n",
    "    value = values[idx]\n",
    "    # actions ============\n",
    "    print(value, end=\"\\t\")\n",
    "    # ====================\n",
    "    idx += 1\n",
    "    \n",
    "print(\"\\nfor loop\")\n",
    "for value in values:\n",
    "    # same actions =======\n",
    "    print(value, end=\"\\t\")\n",
    "    # ===================="
   ]
  },
  {
   "cell_type": "markdown",
   "id": "restricted-persian",
   "metadata": {
    "slideshow": {
     "slide_type": "slide"
    }
   },
   "source": [
    "# `break` and `continue` Statments\n",
    "- Sometimes when using loops it can be the case that we would like to exit the loop early or we would like to not execute the code block.\n",
    "- To do this we can use `break` and `continue` statements:\n",
    "    - `break` exits the nearest loop in scope\n",
    "    - `continue` skips the rest of code block and returns to the top of the loop"
   ]
  },
  {
   "cell_type": "markdown",
   "id": "endangered-plasma",
   "metadata": {
    "slideshow": {
     "slide_type": "slide"
    }
   },
   "source": [
    "# `break` and `continue` Statments"
   ]
  },
  {
   "cell_type": "code",
   "execution_count": null,
   "id": "formed-river",
   "metadata": {},
   "outputs": [],
   "source": [
    "values = [1, 2, 3, 4, 5, 6, 7]\n",
    "\n",
    "i = 0\n",
    "for value in values:\n",
    "    if value == 8:\n",
    "        print(\"found it at index:\", i)\n",
    "        break\n",
    "    i += 1"
   ]
  },
  {
   "cell_type": "markdown",
   "id": "necessary-tablet",
   "metadata": {
    "slideshow": {
     "slide_type": "slide"
    }
   },
   "source": [
    "# `break` and `continue` Statments"
   ]
  },
  {
   "cell_type": "code",
   "execution_count": null,
   "id": "nearby-gardening",
   "metadata": {
    "scrolled": true
   },
   "outputs": [],
   "source": [
    "values = [1, 2, 3, 4, 5, 6]\n",
    "\n",
    "while True:\n",
    "    if len(values) == 0:\n",
    "        break\n",
    "        \n",
    "    print(values.pop(), end=\" \")"
   ]
  },
  {
   "cell_type": "markdown",
   "id": "extraordinary-round",
   "metadata": {
    "slideshow": {
     "slide_type": "slide"
    }
   },
   "source": [
    "# The Dangers of `while True:`"
   ]
  },
  {
   "cell_type": "code",
   "execution_count": null,
   "id": "partial-proportion",
   "metadata": {
    "slideshow": {
     "slide_type": "slide"
    }
   },
   "outputs": [],
   "source": [
    "while True:\n",
    "    print(\"Hello There\", end=\" \")"
   ]
  },
  {
   "cell_type": "markdown",
   "id": "hungarian-wheat",
   "metadata": {
    "slideshow": {
     "slide_type": "slide"
    }
   },
   "source": [
    "# What's Due Next?\n",
    "\n",
    "- zybooks Chapter 4 due April 25th 11:59 PM\n",
    "- Assignment 2 due April 25th 11:59 PM"
   ]
  },
  {
   "cell_type": "code",
   "execution_count": null,
   "id": "mathematical-circumstances",
   "metadata": {},
   "outputs": [],
   "source": [
    "a = [1,2,3,4]\n",
    "a_rev = a[::-1]\n",
    "\n",
    "a.reverse()\n",
    "print(a, a_rev)"
   ]
  },
  {
   "cell_type": "code",
   "execution_count": null,
   "id": "unsigned-confidence",
   "metadata": {},
   "outputs": [],
   "source": [
    "fizz = \"FIZZ\"\n",
    "\n",
    "print(\"FIZZ\", end=\" \")\n",
    "print(\"BUZZ\", end=\" \")\n",
    "\n",
    "print(fizz + \"\\n\", end=\" \")\n",
    "print(\"BUZZ\")"
   ]
  },
  {
   "cell_type": "code",
   "execution_count": null,
   "id": "disabled-hello",
   "metadata": {},
   "outputs": [],
   "source": [
    "# last week section friday"
   ]
  },
  {
   "cell_type": "code",
   "execution_count": null,
   "id": "e28c6a04",
   "metadata": {},
   "outputs": [],
   "source": [
    "user_input = input()\n",
    "input_list = user_input().split()\n",
    "\n",
    "\n",
    "num1 = float(input_list[])\n",
    "num2 = float(input_list[])\n",
    "op = input_list[]\n",
    "cal = calculate(num1, num2, op)\n",
    "print(cal)"
   ]
  }
 ],
 "metadata": {
  "celltoolbar": "Slideshow",
  "kernelspec": {
   "display_name": "Python 3",
   "language": "python",
   "name": "python3"
  },
  "language_info": {
   "codemirror_mode": {
    "name": "ipython",
    "version": 3
   },
   "file_extension": ".py",
   "mimetype": "text/x-python",
   "name": "python",
   "nbconvert_exporter": "python",
   "pygments_lexer": "ipython3",
   "version": "3.7.10"
  },
  "rise": {
   "autolaunch": true,
   "transition": "none"
  }
 },
 "nbformat": 4,
 "nbformat_minor": 5
}
