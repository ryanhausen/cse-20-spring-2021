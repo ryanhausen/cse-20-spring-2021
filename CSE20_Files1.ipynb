{
 "cells": [
  {
   "cell_type": "markdown",
   "id": "incorporated-blackberry",
   "metadata": {
    "slideshow": {
     "slide_type": "slide"
    }
   },
   "source": [
    "# Beginning Programming in Python\n",
    "\n",
    "### Files1\n",
    "#### CSE20 - Spring 2021\n",
    "\n",
    "\n",
    "Interactive Slides: [https://tinyurl.com/cse20-spr21-files1](https://tinyurl.com/cse20-spr21-files1)"
   ]
  },
  {
   "cell_type": "markdown",
   "id": "rational-cricket",
   "metadata": {
    "slideshow": {
     "slide_type": "slide"
    }
   },
   "source": [
    "# Files\n",
    "\n",
    "- Often in programming we want to maintain some information beyond a single run of the program\n",
    "- We may also need to retrieve data from a different program in the past\n",
    "- One way to do this is to save/load data to/from a file\n"
   ]
  },
  {
   "cell_type": "markdown",
   "id": "academic-tenant",
   "metadata": {
    "slideshow": {
     "slide_type": "slide"
    }
   },
   "source": [
    "# Reading/Writing Files\n",
    "- Writing and reading files is done using the built-in function `open`\n",
    "- If you are coding using Google Colab, this won't work for you as Google's Colab has a particular way of reading/writing files\n",
    "```python\n",
    "file_object = open(file_name, mode)\n",
    "```\n",
    "- Note that the path represented by `file_name`, if relative, is relative to the python interpreter, not the file."
   ]
  },
  {
   "cell_type": "markdown",
   "id": "nearby-picking",
   "metadata": {
    "slideshow": {
     "slide_type": "slide"
    }
   },
   "source": [
    "# Side Note: Relative and Absolute Paths\n",
    "- A *path* typically describes a particular file or folder location\n",
    "- There are two types of paths:\n",
    "    - **Relative**: These paths describe a file/folder location relative a some other location, usually the current working directory. They use `..` to indicate the parent directory and `.` or `./` to indicate the current directory\n",
    "    - **Absolute**: These paths describe a file/folder location in in starting from the most base directories in the file system \"C:\\\\\" in Windows, or \"/\" root in Mac/Linux\n",
    "\n"
   ]
  },
  {
   "cell_type": "markdown",
   "id": "boxed-module",
   "metadata": {
    "slideshow": {
     "slide_type": "slide"
    }
   },
   "source": [
    "# Side Note: Relative and Absolute Paths\n",
    "**Relative** Path Example:\n",
    "- `./test/this/file.py` \n",
    "- `../../another_dir/test.py`\n",
    "- `..\\some\\windows\\directory\\file.py`\n",
    "\n",
    "**Absolute** Path Examples\n",
    "- `/home/ryanhausen/Documents/great_program.py`\n",
    "- `C:\\Users\\ryanhausen\\Documents\\great_program.py`"
   ]
  },
  {
   "cell_type": "markdown",
   "id": "optical-screening",
   "metadata": {
    "slideshow": {
     "slide_type": "slide"
    }
   },
   "source": [
    "# Opening and Closing Files\n",
    "- After the `path` argument, the `open` function takes a mode argument. \n",
    "- The `open` function supports the following modes:\n",
    "    - `r` for reading files\n",
    "    - `w` for creating and writing to file \n",
    "    - `a` for appending to a file\n",
    "    - `r+` foe reading and writing to file"
   ]
  },
  {
   "cell_type": "markdown",
   "id": "conservative-vaccine",
   "metadata": {
    "slideshow": {
     "slide_type": "slide"
    }
   },
   "source": [
    "# Opening and Closing Files\n",
    "- When files are opened using the `open` built-in function they need to also be closed.\n",
    "- Files can be closed by invoking the `.close()` method on an open file object\n",
    "- Files need to be closed for the following reasons:\n",
    "    - The changes to the file may not be written until it's closed\n",
    "    - The operating system may lock the file(other programs can't use it) until its closed.\n",
    "    - It's a good programming practice\n",
    "- If you forget to close the file, the Python interpreter *may* do it for you, but it's not guaranteed\n",
    "\n",
    "```python\n",
    "file_object = open(file_name, mode)\n",
    "# write stuff to file\n",
    "file_object.close()\n",
    "```"
   ]
  },
  {
   "cell_type": "markdown",
   "id": "corporate-spider",
   "metadata": {
    "slideshow": {
     "slide_type": "slide"
    }
   },
   "source": [
    "\n",
    "# Writing/Reading Files\n",
    "- To write to a file we can use a two methods of the file object:\n",
    "    - `.write(string_value)` writes the string value to the file\n",
    "    - `.writelines(list_of_strings)` writes a list of string values to a file\n",
    "    - Note that when writing to a file you need to include the new line characters \"\\n\" otherwise all of the values will appear on the same line"
   ]
  },
  {
   "cell_type": "markdown",
   "id": "feba8726",
   "metadata": {},
   "source": [
    "# Side Note: String File Data Representation on Disk vs When Viewed\n",
    "- Files are stored as a single string i.e.\n",
    "\n",
    "```\n",
    "Row row row your boat,\\nGently down the stream\n",
    "```\n",
    "\n",
    "- When they are rendered by your text editor or document viewer the new lines get rendered:\n",
    "```\n",
    "Row row row your boat,\n",
    "Gently down the stream\n",
    "```"
   ]
  },
  {
   "cell_type": "code",
   "execution_count": null,
   "id": "thick-sheep",
   "metadata": {
    "scrolled": true,
    "slideshow": {
     "slide_type": "-"
    }
   },
   "outputs": [],
   "source": [
    "file_object = open(\"test.txt\" ,\"w\")\n",
    "file_object.write(\"Hello There!\")\n",
    "file_object.writelines([\"This\", \"is\", \"in\", \"a\", \"file!\"])\n",
    "file_object.close()"
   ]
  },
  {
   "cell_type": "markdown",
   "id": "a442008f",
   "metadata": {},
   "source": [
    "# Did we make a File?\n",
    "\n",
    "- `!` in a jupyter notebook tells the notebook to run the command as a `bash/terminal` command\n",
    "- `ls .` lists files in the directory of the first argument passed, in this case the current directory `.`\n",
    "- `|` tells the terminal to use the output from the previous command as input to the next command\n",
    "- `grep \"test.txt\"` filters the input (in this case the list files) by a pattern in this example \"test.txt\"\n",
    "- `cat` reads a file into the terminal"
   ]
  },
  {
   "cell_type": "code",
   "execution_count": null,
   "id": "subject-character",
   "metadata": {},
   "outputs": [],
   "source": [
    "!ls . | grep \"test.txt\""
   ]
  },
  {
   "cell_type": "code",
   "execution_count": null,
   "id": "da4ce6af",
   "metadata": {},
   "outputs": [],
   "source": [
    "!cat \"test.txt\""
   ]
  },
  {
   "cell_type": "markdown",
   "id": "rising-george",
   "metadata": {
    "slideshow": {
     "slide_type": "slide"
    }
   },
   "source": [
    "# Writing/Reading Files\n",
    "\n",
    "- Files can be read in a few ways:\n",
    "    - Using `.read(num_characters)` reads a file upto `num_characters`, if `num_characters` is not provided then returns the whole file as a single string\n",
    "    - Using `.readline()` reads the file upto a new line \"\\n\"\n",
    "    - Using `.readines()` returns the whole file a list of strings delimited by newline characters \"\\n\", it's equivalent to `.read().split(\"\\n\")`"
   ]
  },
  {
   "cell_type": "code",
   "execution_count": null,
   "id": "hired-warner",
   "metadata": {},
   "outputs": [],
   "source": [
    "file_object = open(\"test.txt\" ,\"r\")\n",
    "print(file_object.readlines())\n",
    "file_object.close()"
   ]
  },
  {
   "cell_type": "markdown",
   "id": "41256dc2",
   "metadata": {
    "slideshow": {
     "slide_type": "slide"
    }
   },
   "source": [
    "# What's Due Next?\n",
    "\n",
    "- zybooks Chapters 9&10 due May 23rd 11:59 PM\n",
    "- Assignment 4 due May 23rd 11:59 PM"
   ]
  }
 ],
 "metadata": {
  "celltoolbar": "Slideshow",
  "kernelspec": {
   "display_name": "Python 3",
   "language": "python",
   "name": "python3"
  },
  "language_info": {
   "codemirror_mode": {
    "name": "ipython",
    "version": 3
   },
   "file_extension": ".py",
   "mimetype": "text/x-python",
   "name": "python",
   "nbconvert_exporter": "python",
   "pygments_lexer": "ipython3",
   "version": "3.8.8"
  },
  "rise": {
   "autolaunch": true,
   "transition": "none"
  }
 },
 "nbformat": 4,
 "nbformat_minor": 5
}
