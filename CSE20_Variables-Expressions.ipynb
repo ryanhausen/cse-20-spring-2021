{
 "cells": [
  {
   "cell_type": "markdown",
   "id": "undefined-gentleman",
   "metadata": {
    "slideshow": {
     "slide_type": "notes"
    }
   },
   "source": [
    "These slides are adapted from the excellent CSE20 material by Narges Norouzi\n",
    "\n",
    "See https://cse.slides.com/nargesnorouzi"
   ]
  },
  {
   "cell_type": "markdown",
   "id": "sticky-intermediate",
   "metadata": {
    "slideshow": {
     "slide_type": "slide"
    }
   },
   "source": [
    "# Beginning Programming in Python\n",
    "\n",
    "### CSE20 - Spring 2021\n",
    "\n",
    "Interactive Slides: https://tinyurl.com/cse20-spr21-what-is-a-program"
   ]
  }
 ],
 "metadata": {
  "celltoolbar": "Slideshow",
  "kernelspec": {
   "display_name": "Python 3",
   "language": "python",
   "name": "python3"
  },
  "language_info": {
   "codemirror_mode": {
    "name": "ipython",
    "version": 3
   },
   "file_extension": ".py",
   "mimetype": "text/x-python",
   "name": "python",
   "nbconvert_exporter": "python",
   "pygments_lexer": "ipython3",
   "version": "3.8.8"
  },
  "rise": {
   "autolaunch": true
  }
 },
 "nbformat": 4,
 "nbformat_minor": 5
}
