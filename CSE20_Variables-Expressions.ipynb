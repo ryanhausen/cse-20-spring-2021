{
 "cells": [
  {
   "cell_type": "markdown",
   "id": "patient-anime",
   "metadata": {
    "slideshow": {
     "slide_type": "notes"
    }
   },
   "source": [
    "The in slides this course are adapted from the excellent CSE20 material by Narges Norouzi\n",
    "\n",
    "See https://cse.slides.com/nargesnorouzi"
   ]
  },
  {
   "cell_type": "markdown",
   "id": "continental-questionnaire",
   "metadata": {
    "slideshow": {
     "slide_type": "slide"
    }
   },
   "source": [
    "# Beginning Programming in Python\n",
    "\n",
    "### Variables and Expressions\n",
    "#### CSE20 - Spring 2021\n",
    "\n",
    "\n",
    "Interactive Slides: https://tinyurl.com/cse20-spr21-vars-exps "
   ]
  },
  {
   "cell_type": "markdown",
   "id": "suburban-howard",
   "metadata": {
    "slideshow": {
     "slide_type": "slide"
    }
   },
   "source": [
    "# Variables\n",
    "\n",
    "- A variable is a named memory location. Conceptually, it is like a box, containing a value."
   ]
  },
  {
   "cell_type": "code",
   "execution_count": null,
   "id": "related-recorder",
   "metadata": {},
   "outputs": [],
   "source": [
    "length = 1\n",
    "width = 5\n",
    "\n",
    "area = length * width\n",
    "\n",
    "width = 2\n",
    "\n",
    "print(\"area =\", area)"
   ]
  },
  {
   "cell_type": "markdown",
   "id": "subjective-domestic",
   "metadata": {
    "slideshow": {
     "slide_type": "slide"
    }
   },
   "source": [
    "# Variable Names\n",
    "\n",
    "- Variable names (identifiers) can be single word as long as it conforms to the following rules:\n",
    "- consists of letters([unicode](https://www.unicode.org/reports/tr44/)), numbers, or _\n",
    "- cannot begin with a number\n",
    "- cannot be a [Python Keyword](https://docs.python.org/3/reference/lexical_analysis.html#keywords)\n",
    "<center>\n",
    "<img src=\"data:image/png;base64,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\" />\n",
    "</center>"
   ]
  },
  {
   "cell_type": "markdown",
   "id": "proved-symposium",
   "metadata": {
    "slideshow": {
     "slide_type": "slide"
    }
   },
   "source": [
    "# Variable Name Examples\n",
    "\n",
    "- should be informative\n",
    "- Though unicode characters are allowed, generally people use ascii characters\n",
    "- Convention for variable names containing more than one word is to use [snake case](https://en.wikipedia.org/wiki/Snake_case).\n",
    "- Variables written in snake case consist of all lower case letters (a-z) and variable names consisting of multiple words are separated by underscores. For example a variable representing the area of a rectangle could be written as `rectangle_area`"
   ]
  },
  {
   "cell_type": "code",
   "execution_count": null,
   "id": "surprised-standing",
   "metadata": {},
   "outputs": [],
   "source": [
    "x1 = 10\n",
    "x2 = 20       \n",
    "𝚫x = x2 - x1       # though 𝚫 is technically permitted\n",
    "delta_x = x2 - x1  # generally people stick to a-zA-Z0-9_\n",
    "\n",
    "print(𝚫x, delta_x)"
   ]
  },
  {
   "cell_type": "markdown",
   "id": "aboriginal-truck",
   "metadata": {
    "slideshow": {
     "slide_type": "slide"
    }
   },
   "source": [
    "# Variable Name Examples\n",
    "\n",
    "- Invalid variable names will cause a syntax error"
   ]
  },
  {
   "cell_type": "code",
   "execution_count": null,
   "id": "apparent-enemy",
   "metadata": {},
   "outputs": [],
   "source": [
    "123xyz = 2 "
   ]
  },
  {
   "cell_type": "code",
   "execution_count": null,
   "id": "signed-aspect",
   "metadata": {},
   "outputs": [],
   "source": [
    "for = 5"
   ]
  },
  {
   "cell_type": "markdown",
   "id": "resident-greek",
   "metadata": {
    "slideshow": {
     "slide_type": "slide"
    }
   },
   "source": [
    "# Statements & Expressions\n",
    "\n",
    "### Statement\n",
    "A statement is any valid line of python, this includes assignment \n",
    "statements `x = 3 + 1`, and things we will see later in the course like \n",
    "conditionals, loops, and expressions."
   ]
  },
  {
   "cell_type": "markdown",
   "id": "faced-register",
   "metadata": {
    "slideshow": {
     "slide_type": "slide"
    }
   },
   "source": [
    "# Statements & Expressions\n",
    "\n",
    "### Expression\n",
    "- An expression is a combination of values, variables, operators, and function calls. It performs some kind of work.\n",
    "\n",
    "For example the following assignment statement:\n",
    "\n",
    "`x = 3 + 1`\n",
    "\n",
    "contains the expression `3 + 1`"
   ]
  },
  {
   "cell_type": "markdown",
   "id": "planned-thomson",
   "metadata": {
    "slideshow": {
     "slide_type": "slide"
    }
   },
   "source": [
    "# Binary Arithmetic Operators\n",
    "\n",
    "| Symbol | Meaning        | Precedence     |        Example       |\n",
    "|:------:|:--------------:|:--------------:|:--------------------:|\n",
    "| `+`    |    Addition    | Low            | `5 + 2 # equals 7`   |\n",
    "| `-`    |   Subtraction  | Low            | `5 - 2 # equals 3`   |\n",
    "| `*`    | Multiplication | Medium         | `5 * 2 # equals 10`   |\n",
    "| `/`    |    Division    | Medium         | `5 / 2 # equals 2.5` |\n",
    "| `//`   | Floor Division | Medium         | `5 // 2 # equals 2`  |\n",
    "| `%`    | Remainder(mod) | Medium         | `5 % 2 # equals 1`   |\n",
    "| `**`   | Exponentiation | High           | `5**2 # equals 25`    |"
   ]
  },
  {
   "cell_type": "markdown",
   "id": "front-congo",
   "metadata": {
    "slideshow": {
     "slide_type": "slide"
    }
   },
   "source": [
    "# Unary Arithmetic Operators\n",
    "\n",
    "| Symbol | Meaning        | Precedence     |        Example       |\n",
    "|:------:|:--------------:|:--------------:|:--------------------:|\n",
    "| `+`    |    Positive    | Medium High    | `+5 # equals 5`   |\n",
    "| `-`    |    Negative    | Medium High    | `-5 # equals -5`   |\n"
   ]
  },
  {
   "cell_type": "markdown",
   "id": "published-aquarium",
   "metadata": {
    "slideshow": {
     "slide_type": "slide"
    }
   },
   "source": [
    "# Arithmetic Operators"
   ]
  },
  {
   "cell_type": "code",
   "execution_count": null,
   "id": "quantitative-billion",
   "metadata": {
    "scrolled": true
   },
   "outputs": [],
   "source": [
    "print(\"5 + 2 =\", 5 + 2)\n",
    "print(\"5 - 2 =\", 5 - 2)\n",
    "print(\"5 * 2 =\", 5 * 2)\n",
    "print(\"5 / 2 =\", 5 / 2)\n",
    "print(\"5 // 2 =\", 5 // 2)\n",
    "print(\"5 % 2 =\", 5 % 2)\n",
    "print(\"5**2 =\", 5**2)\n",
    "print((1 + 5) * 3 / 2)"
   ]
  },
  {
   "cell_type": "markdown",
   "id": "fifth-update",
   "metadata": {
    "slideshow": {
     "slide_type": "slide"
    }
   },
   "source": [
    "# Augmented Assignment\n",
    "\n",
    "Augmented assignment combines a binary arithmetic operator and an assignment statement.\n",
    "\n",
    "`x [binary operator]= value` is the same as `x = x [binary operator] value`\n",
    "\n",
    "i.e. `x += 4` is the same as `x = x + 4`"
   ]
  },
  {
   "cell_type": "code",
   "execution_count": null,
   "id": "general-stylus",
   "metadata": {
    "scrolled": true,
    "slideshow": {
     "slide_type": "slide"
    }
   },
   "outputs": [],
   "source": [
    "x = 20\n",
    "print(\"x =\", x)\n",
    "x = x // 2\n",
    "print(\"x =\", x)\n",
    "x //= 2 \n",
    "print(\"x =\", x)\n",
    "x **= 2 \n",
    "print(\"x =\", x)\n",
    "x = x + 4\n",
    "print(\"x =\", x)"
   ]
  },
  {
   "cell_type": "markdown",
   "id": "innovative-emperor",
   "metadata": {
    "slideshow": {
     "slide_type": "slide"
    }
   },
   "source": [
    "# Binary Logical Operators\n",
    "\n",
    "| Symbol |          Meaning          | Precedence |             Example             |\n",
    "|:------:|:-------------------------:|:----------:|:-------------------------------:|\n",
    "|   `>`  |        Greater Than       |    Lower   |      `5 > 2 # equals True`      |\n",
    "|   `<`  |         Less Than         |    Lower   |      `5 < 2 # equals False`     |\n",
    "|  `>=`  | Greater Than  or Equal To |    Lower   |      `5 >= 2 # equals True`     |\n",
    "|  `<=`  |   Less Than or Equal To   |    Lower   |     `5 <= 2 # equals False`     |\n",
    "|  `==`  |          Equal To         |    Lower   |     `5 == 2 # equals False`     |\n",
    "|  `!=`  |        Not Equal To       |    Lower   |      `5 != 2 # equals True`     |\n",
    "|  `and` |        Logical And        | Even Lower | `True and False # equals False` |\n",
    "|  `or`  |         Logical Or        | Even Lower |  `True or False # equals True`  |\n"
   ]
  },
  {
   "cell_type": "markdown",
   "id": "rocky-correction",
   "metadata": {
    "slideshow": {
     "slide_type": "slide"
    }
   },
   "source": [
    "# Logical `and` & `or` Truth Table\n",
    "\n",
    "| Operand 1 | Operand 2 |  `and`  |   `or`  |\n",
    "|:---------:|:---------:|:-------:|:-------:|\n",
    "|   `True`  |   `True`  |  `True` |  `True` |\n",
    "|   `True`  |  `False`  | `False` |  `True` |\n",
    "|  `False`  |   `True`  | `False` |  `True` |\n",
    "|  `False`  |  `False`  | `False` | `False` |"
   ]
  },
  {
   "cell_type": "markdown",
   "id": "owned-eligibility",
   "metadata": {
    "slideshow": {
     "slide_type": "slide"
    }
   },
   "source": [
    "# Unary Logical Operators\n",
    "\n",
    "| Symbol |          Meaning          | Precedence |             Example             |\n",
    "|:------:|:-------------------------:|:----------:|:-------------------------------:|\n",
    "|  `not` |      Logical Negation     |    Lower   |    `not True # equals False`    |\n",
    "\n",
    "### Logical `not` Truth Table\n",
    "\n",
    "| Operand |  `not`  |\n",
    "|:-------:|:-------:|\n",
    "|  `True` | `False` |\n",
    "| `False` |  `True` |\n"
   ]
  },
  {
   "cell_type": "code",
   "execution_count": null,
   "id": "metric-skiing",
   "metadata": {
    "slideshow": {
     "slide_type": "slide"
    }
   },
   "outputs": [],
   "source": [
    "print(\"True or False = \", True or False)\n",
    "print(\"True or True = \", True or True)\n",
    "print(\"False or False = \", False or False)\n",
    "print(\"False and True = \", False and True)\n",
    "print(\"False and False = \", False and False)\n",
    "print(\"True and False = \", True and False)\n",
    "print(\"not True = \", not True)"
   ]
  },
  {
   "cell_type": "markdown",
   "id": "aerial-congress",
   "metadata": {
    "slideshow": {
     "slide_type": "slide"
    }
   },
   "source": [
    "# Combining Arithmetic and Logical Operators\n",
    "\n",
    "Parenthesis can be used to force precedence as in math"
   ]
  },
  {
   "cell_type": "code",
   "execution_count": null,
   "id": "intensive-occurrence",
   "metadata": {},
   "outputs": [],
   "source": [
    "print(2 + 2 == 4) # 4 == 4\n",
    "                  # True\n",
    "    \n",
    "print(0 < 2 + 7 < 5) # 0 < 9 < 5 \n",
    "                     # 0 < 9 and 9 < 5 \n",
    "                     # True  and False\n",
    "                     # False\n",
    "            \n",
    "print(5 + 2**2 == (5 + 2)**2) # 9 == 49\n",
    "                              # False"
   ]
  },
  {
   "cell_type": "markdown",
   "id": "coordinate-brain",
   "metadata": {
    "slideshow": {
     "slide_type": "slide"
    }
   },
   "source": [
    "# String Operators\n",
    "\n",
    "Strings support the `+` operator on two strings, performing concatenation"
   ]
  },
  {
   "cell_type": "code",
   "execution_count": null,
   "id": "unsigned-healing",
   "metadata": {},
   "outputs": [],
   "source": [
    "message = \"Hello\" + \" Hello\"\n",
    "print(message)"
   ]
  },
  {
   "cell_type": "markdown",
   "id": "floppy-basis",
   "metadata": {
    "slideshow": {
     "slide_type": "slide"
    }
   },
   "source": [
    "# Explicit Type Conversion\n",
    "\n",
    "To change the type of a value you can use the following notation:"
   ]
  },
  {
   "cell_type": "code",
   "execution_count": null,
   "id": "russian-discussion",
   "metadata": {},
   "outputs": [],
   "source": [
    "# convert to integer\n",
    "print(\"int('25') =\", int('25'))\n",
    "print(\"int(32.21) =\", int(32.21))\n",
    "print(\"int(True) =\", int(True))\n",
    "print(\"int(False) = \", int(False))\n",
    "\n",
    "print()\n",
    "\n",
    "# convert to float\n",
    "print(\"float('25.25') =\", float('25.25'))\n",
    "print(\"float(32) =\", float(32))\n",
    "print(\"float(True) =\", float(True))"
   ]
  },
  {
   "cell_type": "markdown",
   "id": "matched-punch",
   "metadata": {
    "slideshow": {
     "slide_type": "slide"
    }
   },
   "source": [
    "# Explicit Type Conversion\n",
    "\n",
    "To change the type of a value you can use the following notation:"
   ]
  },
  {
   "cell_type": "code",
   "execution_count": null,
   "id": "contrary-volleyball",
   "metadata": {},
   "outputs": [],
   "source": [
    "# convert to string\n",
    "print(\"str(25) =\", str(25))\n",
    "print(\"str(32.21) =\", str(32.21))\n",
    "print(\"str(True) =\", str(True))\n",
    "\n",
    "print()\n",
    "\n",
    "# convert to boolean\n",
    "print(\"bool('') =\", bool(''))\n",
    "print(\"bool('a') =\", bool('a'))\n",
    "print(\"bool(0) =\", bool(0))\n",
    "print(\"bool(32.12) =\", bool(32.12))"
   ]
  },
  {
   "cell_type": "markdown",
   "id": "elegant-brother",
   "metadata": {
    "slideshow": {
     "slide_type": "slide"
    }
   },
   "source": [
    "# Implicit Type Conversion\n",
    "\n",
    "When a binary operator is applied to two operands of different compatible types the Python interpreter will automatically convert the less expressive type to the more expressive type. \n",
    "\n",
    "<center>\n",
    "<img src=\"data:image/png;base64,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\">\n",
    "<center />"
   ]
  },
  {
   "cell_type": "markdown",
   "id": "general-compound",
   "metadata": {
    "slideshow": {
     "slide_type": "slide"
    }
   },
   "source": [
    "# Implicit Type Conversion"
   ]
  },
  {
   "cell_type": "code",
   "execution_count": null,
   "id": "remarkable-leisure",
   "metadata": {
    "scrolled": true
   },
   "outputs": [],
   "source": [
    "print(\"2 + False =\", 2 + False, type(2 + False))\n",
    "print(\"2 * 1.0 =\", 2 * 1.0, type(2 * 1.0))\n",
    "print(\"True * 2+4j =\", True * 2+4j, type(True * 2+4j))\n",
    "print()\n",
    "print(\"True * 'Hello' =\", True * 'Hello', type(True * 'Hello'))\n",
    "print(\"False * 'Hello' =\", False * 'Hello', type(False * 'Hello'))\n",
    "print(\"2 * 'Hello' =\", 2 * 'Hello', type(False * 'Hello'))"
   ]
  },
  {
   "cell_type": "markdown",
   "id": "alpha-variation",
   "metadata": {
    "slideshow": {
     "slide_type": "slide"
    }
   },
   "source": [
    "# In Class Quarter Long Project\n",
    "\n",
    "- We are going to write a program that performs a specific task \n",
    "- I'll work on it in class at the end of every week adding the concepts we have learned to the program\n",
    "- It's going to start out fairly simple, but as we learn more Python it will become more sophisticated"
   ]
  },
  {
   "cell_type": "markdown",
   "id": "silent-sunday",
   "metadata": {
    "slideshow": {
     "slide_type": "slide"
    }
   },
   "source": [
    "# Slug Money: A Program To Track Your Finances\n",
    "\n",
    "<center>\n",
    "<img src=\"data:image/png;base64,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\"><img />\n",
    "<center/>\n"
   ]
  },
  {
   "cell_type": "code",
   "execution_count": null,
   "id": "younger-sierra",
   "metadata": {
    "slideshow": {
     "slide_type": "slide"
    }
   },
   "outputs": [],
   "source": [
    "# ==============================================================================\n",
    "# Slug Money: Track Your Money\n",
    "# ==============================================================================\n",
    "\n",
    "print(\"Welcome To Slug Money\")\n",
    "current_balance = float(input(\"Enter your balance: $\"))\n",
    "transaction_amount = float(input(\"Enter a transaction amount: $\"))\n",
    "new_balance = current_balance + transaction_amount\n",
    "print()\n",
    "print(\"Your starting balance was: $\", current_balance)\n",
    "print(\"You had a single transaction worth: $\", transaction_amount)\n",
    "print(\"Your ending balance is: $\", new_balance)\n",
    "\n",
    "print(\"Thanks for using Slug Money!\")"
   ]
  },
  {
   "cell_type": "markdown",
   "id": "average-position",
   "metadata": {
    "slideshow": {
     "slide_type": "slide"
    }
   },
   "source": [
    "# What's Due?\n",
    "\n",
    "- zyBooks Chapter 1 due on April 4, 11:59pm\n",
    "- Assignment 0 due April 4, 11:59pm \n",
    "- Assignment 1 due April 11th, 11:59pm"
   ]
  }
 ],
 "metadata": {
  "celltoolbar": "Slideshow",
  "kernelspec": {
   "display_name": "Python 3",
   "language": "python",
   "name": "python3"
  },
  "language_info": {
   "codemirror_mode": {
    "name": "ipython",
    "version": 3
   },
   "file_extension": ".py",
   "mimetype": "text/x-python",
   "name": "python",
   "nbconvert_exporter": "python",
   "pygments_lexer": "ipython3",
   "version": "3.8.8"
  },
  "rise": {
   "autolaunch": true,
   "transition": "none"
  }
 },
 "nbformat": 4,
 "nbformat_minor": 5
}
