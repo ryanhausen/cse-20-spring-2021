{
 "cells": [
  {
   "cell_type": "markdown",
   "id": "scenic-motel",
   "metadata": {
    "slideshow": {
     "slide_type": "slide"
    }
   },
   "source": [
    "# Beginning Programming in Python\n",
    "\n",
    "### Lists/Strings\n",
    "#### CSE20 - Spring 2021\n",
    "\n",
    "\n",
    "Interactive Slides: [https://tinyurl.com/cse20-spr21-lists-strings](https://tinyurl.com/cse20-spr21-lists-strings)"
   ]
  },
  {
   "cell_type": "markdown",
   "id": "structured-underground",
   "metadata": {
    "slideshow": {
     "slide_type": "slide"
    }
   },
   "source": [
    "# Lists\n",
    "\n",
    "- Commonly in programming we want to keep a collection of values rather than a single value. \n",
    "- In Python, one way this can be done is by using `list`s \n",
    "- A `list` can store between 0 and 9,223,372,036,854,775,807 items(though a list that large would probably crash your computer).\n",
    "- A `list` can store different types in its list.\n",
    "- A `list` is a **mutable** collection, meaning we can change the contents of the list\n",
    "- Typical naming convention for `list` variables is to name them in the plural, i.e. `items`, `values`, or `cars`"
   ]
  },
  {
   "cell_type": "markdown",
   "id": "offshore-lying",
   "metadata": {
    "slideshow": {
     "slide_type": "slide"
    }
   },
   "source": [
    "# Lists: Instantiation (Creation)\n",
    "- There are a few ways to instantiate a list. The way we'll go over today is using square brackets `[]`"
   ]
  },
  {
   "cell_type": "code",
   "execution_count": null,
   "id": "amateur-thumb",
   "metadata": {},
   "outputs": [],
   "source": [
    "some_numbers = [1, 2, 3, 4]\n",
    "some_letters = [\"a\", \"b\", \"c\"]\n",
    "some_numbers_and_letters = [1, \"b\", 3]\n",
    "empty_list = []"
   ]
  },
  {
   "cell_type": "markdown",
   "id": "casual-content",
   "metadata": {
    "slideshow": {
     "slide_type": "slide"
    }
   },
   "source": [
    "# Lists: Access\n",
    "- To access/retrieve the values stored in a `list` variable we use square brackets `[]`\n",
    "- To retrieve a single value we use an index (starting from the left 0, or from the right with -1), i.e. `list_variable[0]`\n",
    "- To retrieve multiple items we use a `slice`. A `slice` is denoted using a colon `:`, and bounding indices can be placed on either side of the colon. Indices in `slice` notation are on a half closed interval where `list_variable[start:end]` operates on the interval `[start, end)`\n",
    "- The contents of a list can be changed by assigning a new value at a index. `list_variable[idx] = new_value`"
   ]
  },
  {
   "cell_type": "markdown",
   "id": "viral-stamp",
   "metadata": {
    "slideshow": {
     "slide_type": "slide"
    }
   },
   "source": [
    "# Lists: Access"
   ]
  },
  {
   "cell_type": "code",
   "execution_count": null,
   "id": "successful-pregnancy",
   "metadata": {},
   "outputs": [],
   "source": [
    "some_values = [1, \"b\", 3, \"d\"]\n",
    "print(some_values[0])\n",
    "print(some_values[-1])\n",
    "print(some_values[1:])\n",
    "print(some_values[:2])\n",
    "print(some_values[1:3])\n",
    "print(some_values[:])"
   ]
  },
  {
   "cell_type": "markdown",
   "id": "material-router",
   "metadata": {
    "slideshow": {
     "slide_type": "slide"
    }
   },
   "source": [
    "# Lists: Updates"
   ]
  },
  {
   "cell_type": "code",
   "execution_count": null,
   "id": "indie-carnival",
   "metadata": {},
   "outputs": [],
   "source": [
    "some_values = [1, \"b\", 3, \"d\"]\n",
    "print(some_values)\n",
    "some_values[0] = \"a\"\n",
    "print(some_values)\n",
    "some_values[0:2] = [1, 2]\n",
    "print(some_values)"
   ]
  },
  {
   "cell_type": "markdown",
   "id": "adequate-presence",
   "metadata": {
    "slideshow": {
     "slide_type": "slide"
    }
   },
   "source": [
    "# `list` Methods\n",
    "- `list`'s are considered `object`s, we'll go over `object`s in more detail when we go over Object Oriented Programming (OOP).\n",
    "- For now you need to know that objects can have functions called `methods`, which can be \"called\" by using the `list_variable.method_name()` notation. "
   ]
  },
  {
   "cell_type": "markdown",
   "id": "stunning-motel",
   "metadata": {
    "slideshow": {
     "slide_type": "slide"
    }
   },
   "source": [
    "# `list` Methods: `append()`\n",
    "- `append()` adds a value to the end of the `list`"
   ]
  },
  {
   "cell_type": "code",
   "execution_count": null,
   "id": "immediate-pavilion",
   "metadata": {},
   "outputs": [],
   "source": [
    "some_values = []\n",
    "some_values.append(\"Howdy\")\n",
    "print(some_values)\n",
    "some_values.append(\"There\")\n",
    "print(some_values)\n",
    "some_values.append(\"Friend\")\n",
    "print(some_values)"
   ]
  },
  {
   "cell_type": "markdown",
   "id": "nonprofit-catalyst",
   "metadata": {
    "slideshow": {
     "slide_type": "slide"
    }
   },
   "source": [
    "# `list` Methods: `pop()`\n",
    "- `pop()` removes a value from the end of the `list`"
   ]
  },
  {
   "cell_type": "code",
   "execution_count": null,
   "id": "straight-manual",
   "metadata": {},
   "outputs": [],
   "source": [
    "some_values = [\"Howdy\", \"There\", \"Friend\"]\n",
    "print(some_values)\n",
    "last_item = some_values.pop()\n",
    "print(\"some_values: \", some_values)\n",
    "print(\"last_item: \", last_item)"
   ]
  },
  {
   "cell_type": "markdown",
   "id": "fifth-notice",
   "metadata": {
    "slideshow": {
     "slide_type": "slide"
    }
   },
   "source": [
    "# `list` Methods: `remove()`\n",
    "- `remove()` removes the first value in the `list` that matches the given argument"
   ]
  },
  {
   "cell_type": "code",
   "execution_count": null,
   "id": "northern-method",
   "metadata": {},
   "outputs": [],
   "source": [
    "some_values = [\"Howdy\", \"There\", \"Friend\"]\n",
    "print(some_values)\n",
    "some_values.remove(\"There\")\n",
    "print(\"some_values: \", some_values)"
   ]
  },
  {
   "cell_type": "markdown",
   "id": "hazardous-treat",
   "metadata": {
    "slideshow": {
     "slide_type": "slide"
    }
   },
   "source": [
    "# `list` Methods: `index()`\n",
    "- `index()` returns the \"index\" you would need to use to get the get the given argument."
   ]
  },
  {
   "cell_type": "code",
   "execution_count": null,
   "id": "curious-margin",
   "metadata": {},
   "outputs": [],
   "source": [
    "some_values = [\"Howdy\", \"There\", \"Friend\"]\n",
    "print(some_values)\n",
    "there_idx = some_values.index(\"Friend\")\n",
    "print(\"there_idx: \", there_idx)\n",
    "print(\"some_values[there_idx]: \", some_values[there_idx])"
   ]
  },
  {
   "cell_type": "markdown",
   "id": "surface-acrobat",
   "metadata": {
    "slideshow": {
     "slide_type": "slide"
    }
   },
   "source": [
    "# `list` Methods: `count()`\n",
    "- `count()` returns the number of times a given argument occurs in a `list`"
   ]
  },
  {
   "cell_type": "code",
   "execution_count": null,
   "id": "returning-causing",
   "metadata": {},
   "outputs": [],
   "source": [
    "some_values = [\"Howdy\", \"There\", \"Friend\"]\n",
    "print(\"Howdy occurs\", some_values.count(\"Howdy\"), \"time(s)\")\n",
    "some_values.append(\"Howdy\")\n",
    "print(\"Howdy occurs\", some_values.count(\"Howdy\"), \"time(s)\")\n",
    "print(some_values)"
   ]
  },
  {
   "cell_type": "markdown",
   "id": "cultural-document",
   "metadata": {
    "slideshow": {
     "slide_type": "slide"
    }
   },
   "source": [
    "# `list` Methods: `reverse()`\n",
    "- `reverse()` reverses the order of the elements in the list "
   ]
  },
  {
   "cell_type": "code",
   "execution_count": null,
   "id": "refined-inspector",
   "metadata": {},
   "outputs": [],
   "source": [
    "some_values = [\"Howdy\", \"There\", \"Friend\", \"Hello\"]\n",
    "print(\"some_values: \", some_values)\n",
    "some_values.reverse()\n",
    "print(\"some_values: \", some_values)"
   ]
  },
  {
   "cell_type": "markdown",
   "id": "floating-proposal",
   "metadata": {
    "slideshow": {
     "slide_type": "slide"
    }
   },
   "source": [
    "# `list` Methods: `extend()` or `+`\n",
    "- `+` like with strings will concatenate two lists together\n",
    "- `extend()` concatenates two lists, but does it \"in-place\". Its like using `+=` for concatenation."
   ]
  },
  {
   "cell_type": "code",
   "execution_count": null,
   "id": "liberal-haven",
   "metadata": {
    "slideshow": {
     "slide_type": "-"
    }
   },
   "outputs": [],
   "source": [
    "some_values = [\"Howdy\", \"There\", \"Friend\"]\n",
    "other_values = [\"How\", \"Are\", \"You\"]\n",
    "\n",
    "concat = other_values + some_values\n",
    "print(concat)\n",
    "some_values.extend(other_values)\n",
    "print(some_values)\n",
    "some_values.extend(other_values)\n",
    "print(some_values)"
   ]
  },
  {
   "cell_type": "markdown",
   "id": "unexpected-february",
   "metadata": {
    "slideshow": {
     "slide_type": "slide"
    }
   },
   "source": [
    "# Built-in Functions That are Compatible With `list`s\n",
    "- `len()` will return the length(number of elements in) of the `list`\n",
    "- `max()` will return the maximum element in the list\n",
    "- `min()` will return the minimum element in the list\n",
    "- `sum()` will return the sum of all the elements in the list"
   ]
  },
  {
   "cell_type": "markdown",
   "id": "cubic-laugh",
   "metadata": {
    "slideshow": {
     "slide_type": "slide"
    }
   },
   "source": [
    "# Built-in Functions That are Compatible With `list`s"
   ]
  },
  {
   "cell_type": "code",
   "execution_count": null,
   "id": "convertible-civilization",
   "metadata": {
    "slideshow": {
     "slide_type": "-"
    }
   },
   "outputs": [],
   "source": [
    "some_values = [1, 2, 3, 4, 5]\n",
    "print(some_values)\n",
    "print(\"There are\", len(some_values), \"values in the list\")\n",
    "print(\"The largest value is\", max(some_values))\n",
    "print(\"The smallest value is\", min(some_values))\n",
    "print(\"The sum of the values in the list is\", sum(some_values))"
   ]
  },
  {
   "cell_type": "markdown",
   "id": "historical-visibility",
   "metadata": {
    "slideshow": {
     "slide_type": "slide"
    }
   },
   "source": [
    "# Strings\n",
    "\n",
    "- Strings are like a list of characters but are different in a couple important ways:\n",
    "    - They are **immutable** (can't be changed)\n",
    "    - They don't support methods that imply mutability like `pop()`, `extend()`, `reverse()`, etc.\n",
    "    - Some helpful methods not apart of list include `.lower()` and `.upper()`\n",
    "    - `split()` can break a string into a list of strings, splitting the string based on the input argument\n",
    "    - More info in the string [documentation](https://docs.python.org/3/library/stdtypes.html#string-methods)"
   ]
  },
  {
   "cell_type": "markdown",
   "id": "anticipated-review",
   "metadata": {
    "slideshow": {
     "slide_type": "slide"
    }
   },
   "source": [
    "# Strings"
   ]
  },
  {
   "cell_type": "code",
   "execution_count": null,
   "id": "hispanic-taste",
   "metadata": {},
   "outputs": [],
   "source": [
    "class_name = \"CSE20E40EABCjdfhsjkdfhkdjsfhskdjfhksjdhfkjlsdahf\"\n",
    "print(class_name[0])\n",
    "print(class_name.index(\"E\"))\n",
    "print(class_name.count(\"2\"))\n",
    "print(class_name.lower())\n",
    "print(class_name.split(\"h\"))"
   ]
  },
  {
   "cell_type": "markdown",
   "id": "appropriate-absorption",
   "metadata": {
    "slideshow": {
     "slide_type": "slide"
    }
   },
   "source": [
    "# Membership Operator `in` `not in`\n",
    "\n",
    "- You can test whether or not a `list` or string contains a value by using `in` and `not in` "
   ]
  },
  {
   "cell_type": "code",
   "execution_count": null,
   "id": "sudden-punishment",
   "metadata": {},
   "outputs": [],
   "source": [
    "some_numbers = [1, 2, 3]\n",
    "contains_one = 4 in some_numbers\n",
    "print(contains_one)\n",
    "\n",
    "class_name = \"CSE20\"\n",
    "contains_cse = \"C20\" in class_name\n",
    "print(contains_cse)"
   ]
  },
  {
   "cell_type": "markdown",
   "id": "north-writer",
   "metadata": {
    "slideshow": {
     "slide_type": "slide"
    }
   },
   "source": [
    "# What's Due Next?\n",
    "\n",
    "- zybooks Chapter 3 due April 18th 11:59 PM\n",
    "- Assignment 2 due April 25th 11:59 PM"
   ]
  }
 ],
 "metadata": {
  "celltoolbar": "Slideshow",
  "kernelspec": {
   "display_name": "Python 3",
   "language": "python",
   "name": "python3"
  },
  "language_info": {
   "codemirror_mode": {
    "name": "ipython",
    "version": 3
   },
   "file_extension": ".py",
   "mimetype": "text/x-python",
   "name": "python",
   "nbconvert_exporter": "python",
   "pygments_lexer": "ipython3",
   "version": "3.8.8"
  },
  "rise": {
   "autolaunch": true,
   "transition": "none"
  }
 },
 "nbformat": 4,
 "nbformat_minor": 5
}
