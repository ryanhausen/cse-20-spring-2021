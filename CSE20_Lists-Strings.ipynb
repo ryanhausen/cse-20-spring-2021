{
 "cells": [
  {
   "cell_type": "markdown",
   "id": "greater-internet",
   "metadata": {
    "slideshow": {
     "slide_type": "slide"
    }
   },
   "source": [
    "# Beginning Programming in Python\n",
    "\n",
    "### Lists/Strings\n",
    "#### CSE20 - Spring 2021\n",
    "\n",
    "\n",
    "Interactive Slides: [https://tinyurl.com/cse20-spr21-lists-strings](https://tinyurl.com/cse20-spr21-lists-strings)"
   ]
  },
  {
   "cell_type": "markdown",
   "id": "vulnerable-closer",
   "metadata": {
    "slideshow": {
     "slide_type": "slide"
    }
   },
   "source": [
    "# Lists\n",
    "\n",
    "- Commonly in programming we want to keep a collection of values rather than a single value. \n",
    "- In Python, one way this can be done is by using `list`s \n",
    "- A `list` can store between 0 and 9,223,372,036,854,775,807 items(though a list that large would probably crash your computer).\n",
    "- A `list` can store different types in its list.\n",
    "- A `list` is a **mutable** collection, meaning we can change the contents of the list\n",
    "- Typical naming convention for `list` variables is to name them in the plural, i.e. `items`, `values`, or `cars`"
   ]
  },
  {
   "cell_type": "markdown",
   "id": "union-insulin",
   "metadata": {
    "slideshow": {
     "slide_type": "slide"
    }
   },
   "source": [
    "# Lists: Instantiation (Creation)\n",
    "- There are a few ways to instantiate a list. The way we'll go over today is using square brackets `[]`"
   ]
  },
  {
   "cell_type": "code",
   "execution_count": null,
   "id": "charitable-equivalent",
   "metadata": {},
   "outputs": [],
   "source": [
    "some_numbers = [1, 2, 3, 4]\n",
    "some_letters = [\"a\", \"b\", \"c\"]\n",
    "some_numbers_and_letters = [1, \"b\", 3]\n",
    "empty_list = []"
   ]
  },
  {
   "cell_type": "markdown",
   "id": "ordinary-prisoner",
   "metadata": {
    "slideshow": {
     "slide_type": "slide"
    }
   },
   "source": [
    "# Lists: Access\n",
    "- To access/retrieve the values stored in a `list` variable we use square brackets `[]`\n",
    "- To retrieve a single value we use an index (starting from the left 0, or from the right with -1), i.e. `list_variable[0]`\n",
    "- To retrieve multiple items we use a `slice`. A `slice` is denoted using a colon `:`, and bounding indices can be placed on either side of the colon. Indices in `slice` notation are on a half closed interval where `list_variable[start:end]` operates on the interval `[start, end)`\n",
    "- The contents of a list can be changed by assigning a new value at a index. `list_variable[idx] = new_value`"
   ]
  },
  {
   "cell_type": "markdown",
   "id": "presidential-eagle",
   "metadata": {
    "slideshow": {
     "slide_type": "slide"
    }
   },
   "source": [
    "# Lists: Access"
   ]
  },
  {
   "cell_type": "code",
   "execution_count": null,
   "id": "detailed-termination",
   "metadata": {},
   "outputs": [],
   "source": [
    "some_values = [1, \"b\", 3, \"d\"]\n",
    "print(some_values[0])\n",
    "print(some_values[-1])\n",
    "print(some_values[1:])\n",
    "print(some_values[:2])\n",
    "print(some_values[1:3])\n",
    "print(some_values[:])"
   ]
  },
  {
   "cell_type": "markdown",
   "id": "yellow-trail",
   "metadata": {
    "slideshow": {
     "slide_type": "slide"
    }
   },
   "source": [
    "# Lists: Updates"
   ]
  },
  {
   "cell_type": "code",
   "execution_count": null,
   "id": "ordered-homework",
   "metadata": {},
   "outputs": [],
   "source": [
    "some_values = [1, \"b\", 3, \"d\"]\n",
    "print(some_values)\n",
    "some_values[0] = \"a\"\n",
    "print(some_values)\n",
    "some_values[0:2] = [1, 2]\n",
    "print(some_values)"
   ]
  },
  {
   "cell_type": "markdown",
   "id": "hawaiian-norfolk",
   "metadata": {
    "slideshow": {
     "slide_type": "slide"
    }
   },
   "source": [
    "# `list` Methods\n",
    "- `list`'s are considered `object`s, we'll go over `object`s in more detail when we go over Object Oriented Programming (OOP).\n",
    "- For now you need to know that objects can have functions called `methods`, which can be \"called\" by using the `list_variable.method_name()` notation. "
   ]
  },
  {
   "cell_type": "markdown",
   "id": "intense-audience",
   "metadata": {
    "slideshow": {
     "slide_type": "slide"
    }
   },
   "source": [
    "# `list` Methods: `append()`\n",
    "- `append()` adds a value to the end of the `list`"
   ]
  },
  {
   "cell_type": "code",
   "execution_count": null,
   "id": "valued-plant",
   "metadata": {},
   "outputs": [],
   "source": [
    "some_values = []\n",
    "some_values.append(\"Howdy\")\n",
    "print(some_values)\n",
    "some_values.append(\"There\")\n",
    "print(some_values)\n",
    "some_values.append(\"Friend\")\n",
    "print(some_values)"
   ]
  },
  {
   "cell_type": "markdown",
   "id": "raised-telescope",
   "metadata": {
    "slideshow": {
     "slide_type": "slide"
    }
   },
   "source": [
    "# `list` Methods: `pop()`\n",
    "- `pop()` removes a value from the end of the `list`"
   ]
  },
  {
   "cell_type": "code",
   "execution_count": null,
   "id": "separated-modem",
   "metadata": {},
   "outputs": [],
   "source": [
    "some_values = [\"Howdy\", \"There\", \"Friend\"]\n",
    "print(some_values)\n",
    "last_item = some_values.pop()\n",
    "print(\"some_values: \", some_values)\n",
    "print(\"last_item: \", first_item)"
   ]
  },
  {
   "cell_type": "markdown",
   "id": "seventh-moore",
   "metadata": {
    "slideshow": {
     "slide_type": "slide"
    }
   },
   "source": [
    "# `list` Methods: `remove()`\n",
    "- `remove()` removes the first value in the `list` that matches the given argument"
   ]
  },
  {
   "cell_type": "code",
   "execution_count": null,
   "id": "defensive-result",
   "metadata": {},
   "outputs": [],
   "source": [
    "some_values = [\"Howdy\", \"There\", \"Friend\"]\n",
    "print(some_values)\n",
    "some_values.remove(\"There\")\n",
    "print(\"some_values: \", some_values)"
   ]
  },
  {
   "cell_type": "markdown",
   "id": "fewer-magic",
   "metadata": {
    "slideshow": {
     "slide_type": "slide"
    }
   },
   "source": [
    "# `list` Methods: `index()`\n",
    "- `index()` returns the \"index\" you would need to use to get the get the given argument."
   ]
  },
  {
   "cell_type": "code",
   "execution_count": null,
   "id": "dominant-saint",
   "metadata": {},
   "outputs": [],
   "source": [
    "some_values = [\"Howdy\", \"There\", \"Friend\"]\n",
    "print(some_values)\n",
    "there_idx = some_values.index(\"There\")\n",
    "print(\"there_idx: \", there_idx)\n",
    "print(\"some_values[there_idx]: \", some_values[there_idx])"
   ]
  },
  {
   "cell_type": "markdown",
   "id": "geological-jones",
   "metadata": {
    "slideshow": {
     "slide_type": "slide"
    }
   },
   "source": [
    "# `list` Methods: `count()`\n",
    "- `count()` returns the number of times a given argument occurs in a `list`"
   ]
  },
  {
   "cell_type": "code",
   "execution_count": null,
   "id": "quick-advance",
   "metadata": {},
   "outputs": [],
   "source": [
    "some_values = [\"Howdy\", \"There\", \"Friend\"]\n",
    "print(\"Howdy occurs \", some_values.count(\"Howdy\"), \" time(s)\")\n",
    "some_values.append(\"Howdy\")\n",
    "print(\"Howdy occurs \", some_values.count(\"Howdy\"), \" time(s)\")\n",
    "print(some_values)"
   ]
  },
  {
   "cell_type": "markdown",
   "id": "invalid-crime",
   "metadata": {
    "slideshow": {
     "slide_type": "slide"
    }
   },
   "source": [
    "# `list` Methods: `reverse()`\n",
    "- `reverse()` reverses the order of the elements in the list "
   ]
  },
  {
   "cell_type": "code",
   "execution_count": null,
   "id": "forward-kingdom",
   "metadata": {},
   "outputs": [],
   "source": [
    "some_values = [\"Howdy\", \"There\", \"Friend\"]\n",
    "print(\"some_values: \", some_values)\n",
    "some_values.reverse()\n",
    "print(\"some_values: \", some_values)"
   ]
  },
  {
   "cell_type": "markdown",
   "id": "cutting-accountability",
   "metadata": {
    "slideshow": {
     "slide_type": "slide"
    }
   },
   "source": [
    "# `list` Methods: `extend()` or `+`\n",
    "- `+` like with strings will concatenate two lists together\n",
    "- `extend()` concatenates two lists, but does it \"in-place\". Its like using `+=` for concatenation."
   ]
  },
  {
   "cell_type": "code",
   "execution_count": null,
   "id": "dressed-today",
   "metadata": {},
   "outputs": [],
   "source": [
    "some_values = [\"Howdy\", \"There\", \"Friend\"]\n",
    "other_values = [\"How\", \"Are\", \"You\"]\n",
    "\n",
    "concat = some_values + other_values\n",
    "print(concat)\n",
    "some_values.extend(other_values)\n",
    "print(some_values)"
   ]
  },
  {
   "cell_type": "markdown",
   "id": "constant-british",
   "metadata": {
    "slideshow": {
     "slide_type": "slide"
    }
   },
   "source": [
    "# Built-in Functions That are Compatible With `list`s\n",
    "- `len()` will return the length(number of elements in) of the `list`\n",
    "- `max()` will return the maximum element in the list\n",
    "- `min()` will return the minimum element in the list\n",
    "- `sum()` will return the sum of all the elements in the list"
   ]
  },
  {
   "cell_type": "markdown",
   "id": "imperial-partner",
   "metadata": {
    "slideshow": {
     "slide_type": "slide"
    }
   },
   "source": [
    "# Built-in Functions That are Compatible With `list`s"
   ]
  },
  {
   "cell_type": "code",
   "execution_count": null,
   "id": "through-texas",
   "metadata": {
    "slideshow": {
     "slide_type": "-"
    }
   },
   "outputs": [],
   "source": [
    "some_values = [1, 2, 3, 4, 5]\n",
    "print(some_values)\n",
    "print(\"There are\", len(some_values), \"values in the list\")\n",
    "print(\"The largest value is\", max(some_values))\n",
    "print(\"The smallest value is\", min(some_values))\n",
    "print(\"The sum of the values in the list is\", sum(some_values))"
   ]
  },
  {
   "cell_type": "markdown",
   "id": "smart-drink",
   "metadata": {
    "slideshow": {
     "slide_type": "slide"
    }
   },
   "source": [
    "# Strings\n",
    "\n",
    "- Strings are like a list of characters but are different in a couple important ways:\n",
    "    - They are **immutable** (can't be changed)\n",
    "    - They don't support methods that imply mutability like `pop()`, `extend()`, `reverse()`, etc."
   ]
  },
  {
   "cell_type": "code",
   "execution_count": null,
   "id": "terminal-issue",
   "metadata": {},
   "outputs": [],
   "source": [
    "class_name = \"CSE20\"\n",
    "print(class_name[0])\n",
    "print(class_name.index(\"E\"))\n",
    "print(class_name.count(\"2\"))"
   ]
  },
  {
   "cell_type": "markdown",
   "id": "racial-shooting",
   "metadata": {
    "slideshow": {
     "slide_type": "slide"
    }
   },
   "source": [
    "# What's Due Next?\n",
    "\n",
    "- zybooks Chapter 3 due April 18th 11:59 PM\n",
    "- Assignment 2 due April 25th 11:59 PM"
   ]
  }
 ],
 "metadata": {
  "celltoolbar": "Slideshow",
  "kernelspec": {
   "display_name": "Python 3",
   "language": "python",
   "name": "python3"
  },
  "language_info": {
   "codemirror_mode": {
    "name": "ipython",
    "version": 3
   },
   "file_extension": ".py",
   "mimetype": "text/x-python",
   "name": "python",
   "nbconvert_exporter": "python",
   "pygments_lexer": "ipython3",
   "version": "3.8.8"
  },
  "rise": {
   "autolaunch": true,
   "transition": "none"
  }
 },
 "nbformat": 4,
 "nbformat_minor": 5
}
