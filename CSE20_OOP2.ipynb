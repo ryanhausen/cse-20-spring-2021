{
 "cells": [
  {
   "cell_type": "markdown",
   "id": "guided-addition",
   "metadata": {
    "slideshow": {
     "slide_type": "slide"
    }
   },
   "source": [
    "# Beginning Programming in Python\n",
    "\n",
    "### OOP2\n",
    "#### CSE20 - Spring 2021\n",
    "\n",
    "\n",
    "Interactive Slides: [https://tinyurl.com/cse20-spr21-oop2](https://tinyurl.com/cse20-spr21-oop2)"
   ]
  },
  {
   "cell_type": "markdown",
   "id": "revolutionary-welsh",
   "metadata": {
    "slideshow": {
     "slide_type": "slide"
    }
   },
   "source": [
    "# Object Oriented Programming (OOP) \n",
    "\n",
    "- In considering the problems we solve as software engineers it is often the case that the principles or data are working with model some kind of object in the real world.\n",
    "- We don't have enough time to do a deep dive into OOP so we're going to give a high-level introduction\n",
    "- Object Oriented Programming takes advantage of that relationship and by allowing you to directly model objects in code uses *classes*\n",
    "- In python **everything** is an object"
   ]
  },
  {
   "cell_type": "markdown",
   "id": "polar-peeing",
   "metadata": {
    "slideshow": {
     "slide_type": "slide"
    }
   },
   "source": [
    "# Classes\n",
    "\n",
    "- Classes are a way to programmatically model the **attributes** and **behaviors** of objects\n",
    "    - methods model behaviors\n",
    "    - **class attributes** model attributes common to all instances of a class\n",
    "    - **instance attributes** model attributes specific to an instance of a class\n",
    "- Single variable representations of a class are called an instance\n",
    "- Classes contain a special method called `__init__` which are used to create an instance of a class, also called **instantiation**\n",
    "- The first argument in class instance methods is a special argument called **self** which is a reference to the current instance of the class."
   ]
  },
  {
   "cell_type": "markdown",
   "id": "typical-promise",
   "metadata": {
    "slideshow": {
     "slide_type": "slide"
    }
   },
   "source": [
    "# Classes"
   ]
  },
  {
   "cell_type": "code",
   "execution_count": null,
   "id": "certain-deviation",
   "metadata": {},
   "outputs": [],
   "source": [
    "class Animal:\n",
    "    breathes_air = True  #class \n",
    "    \n",
    "    def __init__(self, name):\n",
    "        self.name = name\n",
    "        \n",
    "    def make_sound(self):\n",
    "        raise NotImplementedError()\n",
    "        \n",
    "a = Animal(\"Fluffy\") # Animal.__init__(self, \"Fluffy\")\n",
    "print(a.name)\n",
    "print(a.make_sound())"
   ]
  },
  {
   "cell_type": "markdown",
   "id": "baking-responsibility",
   "metadata": {
    "slideshow": {
     "slide_type": "slide"
    }
   },
   "source": [
    "# Inheritance\n",
    "- Inheritance is a mechanism by which a heirarchical relationship defined between two classes, a parent/base/super class and a child/sub class\n",
    "- When a class is a sub-class of another class it **inherits** the attributes and methods of the parent class\n",
    "- A subclass can reference its super class using the `super()` method\n",
    "- A class can define an inheritance relationship by listing the base/parent class in the class definition:\n",
    "- If a subclass defines a function with the same name and number of arguments as the baseclass, then subclass **overrides** the base class method.\n",
    "\n",
    "```python\n",
    "class subclass(baseclass):\n",
    "```"
   ]
  },
  {
   "cell_type": "markdown",
   "id": "moved-multimedia",
   "metadata": {
    "slideshow": {
     "slide_type": "slide"
    }
   },
   "source": [
    "# Inheritance: Overriding a Method"
   ]
  },
  {
   "cell_type": "code",
   "execution_count": null,
   "id": "duplicate-syndication",
   "metadata": {},
   "outputs": [],
   "source": [
    "class Animal:\n",
    "    def __init__(self, name):\n",
    "        self.name = name\n",
    "        \n",
    "    def make_sound(self):\n",
    "        raise NotImplementedError()\n",
    "        \n",
    "        \n",
    "class Cat(Animal):\n",
    "    def make_sound(self):\n",
    "        print(f\"Meow, my name is {self.name}\")\n",
    "        \n",
    "        \n",
    "cat1 = Cat(\"Whiskers\") # cat1.name==\"Whiskers\"\n",
    "cat1.make_sound()\n",
    "cat2 = Cat(\"Fluffy\")   # cat2.name==\"Fluffy\"\n",
    "cat2.make_sound()"
   ]
  },
  {
   "cell_type": "markdown",
   "id": "ideal-austria",
   "metadata": {
    "slideshow": {
     "slide_type": "slide"
    }
   },
   "source": [
    "# Inheritance: Adding Arguments to the Constructor (Assignment 5)\n"
   ]
  },
  {
   "cell_type": "code",
   "execution_count": null,
   "id": "lasting-quest",
   "metadata": {},
   "outputs": [],
   "source": [
    "class Animal:\n",
    "    def __init__(self, name):\n",
    "        self.name = name\n",
    "        \n",
    "class Cat(Animal):\n",
    "    def __init__(self, name, has_stripes):\n",
    "        super().__init__(name)\n",
    "        self.has_stripes = has_stripes    \n",
    "\n",
    "        \n",
    "cat1 = Cat(\"Whiskers\", False)\n",
    "stripe_negation = \"not \" * (cat1.has_stripes==False)\n",
    "print(f\"Hello, my name is {cat1.name} and I do {stripe_negation}have strips\")"
   ]
  },
  {
   "cell_type": "markdown",
   "id": "simple-madrid",
   "metadata": {
    "slideshow": {
     "slide_type": "slide"
    }
   },
   "source": [
    "# `isinstance` Function (Needed for Assignment 5 Extra Credit)\n",
    "\n",
    "- `isinstance(instance_var, testing_class)` is a built-in function that returns `True` if the class `instance_var` is an instance of `testing_class` or one of its super/base classes and `False` if not.\n"
   ]
  },
  {
   "cell_type": "code",
   "execution_count": null,
   "id": "quarterly-eight",
   "metadata": {},
   "outputs": [],
   "source": [
    "class Animal:\n",
    "    pass\n",
    "\n",
    "class Cat(Animal):\n",
    "    pass\n",
    "\n",
    "class Dog(Animal):\n",
    "    pass\n",
    "\n",
    "cat1 = Cat()\n",
    "print(\"Cat is an instance of Animal?\", isinstance(cat1, Animal))\n",
    "print(\"Cat is an instance of Dog?\", isinstance(cat1, Dog))"
   ]
  },
  {
   "cell_type": "markdown",
   "id": "younger-portrait",
   "metadata": {
    "slideshow": {
     "slide_type": "slide"
    }
   },
   "source": [
    "# Inheritance Example: Zoo\n",
    "\n",
    "- We're going to design a simple program designed to model a zoo\n",
    "- `Zoo`s house three types of animals `Mammal`s, `Reptile`s, and `Bird`s\n",
    "- All `Animal`s have a name\n",
    "- `Mammal`s are a subclass of `Animal` and also include a number of legs\n",
    "- `Reptile`s are a subclass of `Animal` and also include a flag(`bool`) indicating if it is venomous\n",
    "- `Bird`s are a subclass of `Animal` and also include a flag(`bool`) indicating if it can fly"
   ]
  },
  {
   "cell_type": "code",
   "execution_count": null,
   "id": "continent-title",
   "metadata": {
    "slideshow": {
     "slide_type": "slide"
    }
   },
   "outputs": [],
   "source": [
    "class Animal:\n",
    "    pass\n",
    "\n",
    "class Bird(Animal):\n",
    "    pass\n",
    "\n",
    "class Mammal(Animal):\n",
    "    pass\n",
    "    \n",
    "class Reptile(Animal):\n",
    "    pass\n",
    "\n",
    "class Zoo:\n",
    "    pass"
   ]
  },
  {
   "cell_type": "markdown",
   "id": "wicked-cleaner",
   "metadata": {
    "slideshow": {
     "slide_type": "slide"
    }
   },
   "source": [
    "# What's Due Next?\n",
    "\n",
    "- zybooks Chapters 11 due May 30th 11:59 PM\n",
    "- Assignment 5 due June 6th 11:59 PM"
   ]
  }
 ],
 "metadata": {
  "celltoolbar": "Slideshow",
  "kernelspec": {
   "display_name": "Python 3",
   "language": "python",
   "name": "python3"
  },
  "language_info": {
   "codemirror_mode": {
    "name": "ipython",
    "version": 3
   },
   "file_extension": ".py",
   "mimetype": "text/x-python",
   "name": "python",
   "nbconvert_exporter": "python",
   "pygments_lexer": "ipython3",
   "version": "3.7.10"
  },
  "rise": {
   "autolaunch": true,
   "transition": "none"
  }
 },
 "nbformat": 4,
 "nbformat_minor": 5
}
