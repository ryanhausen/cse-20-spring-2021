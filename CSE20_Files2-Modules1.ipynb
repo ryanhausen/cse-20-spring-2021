{
 "cells": [
  {
   "cell_type": "markdown",
   "id": "facial-climb",
   "metadata": {
    "slideshow": {
     "slide_type": "slide"
    }
   },
   "source": [
    "# Beginning Programming in Python\n",
    "\n",
    "### Files2/Modules1\n",
    "#### CSE20 - Spring 2021\n",
    "\n",
    "\n",
    "Interactive Slides: [https://tinyurl.com/cse20-spr21-files2-modules1](https://tinyurl.com/cse20-spr21-files2-modules1)"
   ]
  },
  {
   "cell_type": "markdown",
   "id": "antique-therapist",
   "metadata": {
    "slideshow": {
     "slide_type": "slide"
    }
   },
   "source": [
    "# Files\n",
    "\n",
    "- Often in programming we want to maintain some information beyond a single run of the program\n",
    "- We may also need to retrieve data from a different program in the past\n",
    "- One way to do this is to save/load data to/from a file\n"
   ]
  },
  {
   "cell_type": "markdown",
   "id": "accredited-salad",
   "metadata": {
    "slideshow": {
     "slide_type": "slide"
    }
   },
   "source": [
    "# `with` Context Manager\n",
    "\n",
    "- Forgetting to close a file after can lead to:\n",
    "    - Memory leaks (using more memory than we mean to)\n",
    "    - Files changes not being written\n",
    "    - File can be locked from use for other programs\n",
    "- Using the context manager `with` we can open and close files automatically\n",
    "```python\n",
    "with open(file_name, mode) as f:\n",
    "    # file operations f.read() \n",
    "```"
   ]
  },
  {
   "cell_type": "markdown",
   "id": "quantitative-decade",
   "metadata": {
    "slideshow": {
     "slide_type": "slide"
    }
   },
   "source": [
    "# `with` Context Manager"
   ]
  },
  {
   "cell_type": "code",
   "execution_count": null,
   "id": "confirmed-spirituality",
   "metadata": {},
   "outputs": [],
   "source": [
    "with open(\"test.txt\", \"w\") as f:\n",
    "    f.write(\"Informative Text\")\n",
    "    \n",
    "f = open(\"test.txt\", \"w\")\n",
    "f.write(\"Informative Text\")\n",
    "f.close()"
   ]
  },
  {
   "cell_type": "markdown",
   "id": "beginning-italy",
   "metadata": {
    "slideshow": {
     "slide_type": "slide"
    }
   },
   "source": [
    "# Modules\n",
    "\n",
    "- When we program it's the case that we often implement things common to more than one problem\n",
    "- We can make reusable python code by making modules\n",
    "- We can also use the code made by others by `import`ing their code\n",
    "\n",
    "```python\n",
    "#top of file\n",
    "import some_module\n",
    "```"
   ]
  },
  {
   "cell_type": "markdown",
   "id": "injured-jimmy",
   "metadata": {
    "slideshow": {
     "slide_type": "slide"
    }
   },
   "source": [
    "# Modules: The Python Standard Library\n",
    "\n",
    "- Python comes with a lot of built-in modules that we can use in our code\n",
    "- Some examples are the `math`, `os`, `random` and `pdb` modules\n",
    "- You can see more built-in Standard Library modules in the [Standard Library Documentation](https://docs.python.org/3/library/index.html)"
   ]
  },
  {
   "cell_type": "code",
   "execution_count": 10,
   "id": "imposed-museum",
   "metadata": {},
   "outputs": [
    {
     "name": "stdout",
     "output_type": "stream",
     "text": [
      "sqrt(2)= 1.4142135623730951\n",
      "5\n"
     ]
    }
   ],
   "source": [
    "import math # contains common math functions\n",
    "import random   # contains common operating system functions\n",
    "\n",
    "print(\"sqrt(2)=\", math.sqrt(2))\n",
    "print(random.randint(0, 10))"
   ]
  },
  {
   "cell_type": "markdown",
   "id": "split-dealer",
   "metadata": {
    "slideshow": {
     "slide_type": "slide"
    }
   },
   "source": [
    "# Modules: Writing Your Own\n",
    "\n",
    "- We can write/reference our own modules by writing python code in a separate file and referencing that file by name in the import statement\n",
    "- When files are imported they are executed by the interpreter, so any statements in a module file will be executed on import\n",
    "- To have code that only executes when a file is being executed directly you can use the following check:\n",
    "\n",
    "```python \n",
    "if __name__==\"__main__\":\n",
    "    # code to be executed when run directly\n",
    "```"
   ]
  },
  {
   "cell_type": "markdown",
   "id": "quiet-essay",
   "metadata": {
    "slideshow": {
     "slide_type": "slide"
    }
   },
   "source": [
    "# Writing Your Module Example\n",
    "\n",
    "- I am going to be dropping into my local IDE, you can download the related files here:\n",
    "\n"
   ]
  },
  {
   "cell_type": "markdown",
   "id": "postal-samoa",
   "metadata": {
    "slideshow": {
     "slide_type": "slide"
    }
   },
   "source": [
    "# What's Due Next?\n",
    "\n",
    "- zybooks Chapters 9&10 due May 23rd 11:59 PM\n",
    "- Assignment 4 due May 23rd 11:59 PM"
   ]
  }
 ],
 "metadata": {
  "celltoolbar": "Slideshow",
  "kernelspec": {
   "display_name": "Python 3",
   "language": "python",
   "name": "python3"
  },
  "language_info": {
   "codemirror_mode": {
    "name": "ipython",
    "version": 3
   },
   "file_extension": ".py",
   "mimetype": "text/x-python",
   "name": "python",
   "nbconvert_exporter": "python",
   "pygments_lexer": "ipython3",
   "version": "3.8.8"
  },
  "rise": {
   "autolaunch": true,
   "transition": "none"
  }
 },
 "nbformat": 4,
 "nbformat_minor": 5
}
